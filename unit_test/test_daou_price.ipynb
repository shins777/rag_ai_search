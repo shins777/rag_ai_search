{
 "cells": [
  {
   "cell_type": "markdown",
   "metadata": {},
   "source": [
    "# Test cases for Daou Office"
   ]
  },
  {
   "cell_type": "markdown",
   "metadata": {},
   "source": [
    "### Core count"
   ]
  },
  {
   "cell_type": "markdown",
   "metadata": {},
   "source": [
    "Check number of cores"
   ]
  },
  {
   "cell_type": "code",
   "execution_count": 1,
   "metadata": {},
   "outputs": [
    {
     "name": "stdout",
     "output_type": "stream",
     "text": [
      "4\n"
     ]
    }
   ],
   "source": [
    "!nproc"
   ]
  },
  {
   "cell_type": "markdown",
   "metadata": {},
   "source": [
    "### Initialize env."
   ]
  },
  {
   "cell_type": "code",
   "execution_count": 2,
   "metadata": {},
   "outputs": [],
   "source": [
    "%load_ext autoreload\n",
    "%autoreload 2\n",
    "\n",
    "import sys\n",
    "import os\n",
    "import time\n",
    "\n",
    "directory = os.getcwd()\n",
    "# Append sys path to refer utils.\n",
    "sys.path.append(\"../src\")"
   ]
  },
  {
   "cell_type": "markdown",
   "metadata": {},
   "source": [
    "### function call"
   ]
  },
  {
   "cell_type": "code",
   "execution_count": 3,
   "metadata": {},
   "outputs": [
    {
     "name": "stderr",
     "output_type": "stream",
     "text": [
      "2024-03-15 03:14:03.193132: I external/local_tsl/tsl/cuda/cudart_stub.cc:31] Could not find cuda drivers on your machine, GPU will not be used.\n",
      "2024-03-15 03:14:03.897389: E external/local_xla/xla/stream_executor/cuda/cuda_dnn.cc:9261] Unable to register cuDNN factory: Attempting to register factory for plugin cuDNN when one has already been registered\n",
      "2024-03-15 03:14:03.897490: E external/local_xla/xla/stream_executor/cuda/cuda_fft.cc:607] Unable to register cuFFT factory: Attempting to register factory for plugin cuFFT when one has already been registered\n",
      "2024-03-15 03:14:04.052176: E external/local_xla/xla/stream_executor/cuda/cuda_blas.cc:1515] Unable to register cuBLAS factory: Attempting to register factory for plugin cuBLAS when one has already been registered\n",
      "2024-03-15 03:14:04.356135: I external/local_tsl/tsl/cuda/cudart_stub.cc:31] Could not find cuda drivers on your machine, GPU will not be used.\n",
      "2024-03-15 03:14:04.360217: I tensorflow/core/platform/cpu_feature_guard.cc:182] This TensorFlow binary is optimized to use available CPU instructions in performance-critical operations.\n",
      "To enable the following instructions: AVX2 FMA, in other operations, rebuild TensorFlow with the appropriate compiler flags.\n",
      "2024-03-15 03:14:07.109450: W tensorflow/compiler/tf2tensorrt/utils/py_utils.cc:38] TF-TRT Warning: Could not find TensorRT\n"
     ]
    },
    {
     "name": "stdout",
     "output_type": "stream",
     "text": [
      "[get_price]===[ 가격 계산 요청값]===\n",
      "[get_price]제품 유형 :단독형\n",
      "[get_price]개월 수  :10\n",
      "[get_price]사용자 유저수 :1300\n",
      "[get_price]용량추가 :0\n",
      "사용자 수 기준 가격 : 3500000\n",
      "공유형/단독형 기반 가격 계산 :3700000\n",
      "용량 추가 기반 가격 계산 :3700000\n",
      "10 개월 할인률 적용 가격 :3700000\n",
      "\n",
      "[계산 결과]\n",
      "클라우드 단독형 오피스 제품 총 1300명의 1개월 최종 할인율 적용 없음 가격은 3700000 입니다.\n",
      "\n",
      "[계산 과정]\n",
      "- 사용자 1300명 기준 가격 : 3500000\n",
      "- 제품 타입 : 단독형\n",
      ": 제품 타입 적용 후 가격 : 3700000 (단독형일 경우 기본가격(200,000) 추가됨.)\n",
      "- 용량추가 없음\n",
      ": 용량 추가 관련 계산 후 가격 :3700000\n",
      "- 10 개월 할인률 적용 후 최종 가격 :3700000\n",
      "\n",
      "        \n"
     ]
    }
   ],
   "source": [
    "from daou.price import Calculator\n",
    "\n",
    "prod = False\n",
    "cal = Calculator(prod)\n",
    "\n",
    "param = {\n",
    "    \"product_type\" : \"단독형\",\n",
    "    \"months\" : 10,\n",
    "    \"users\" : 1300,\n",
    "    \"capacity\" : 0\n",
    "}\n",
    "\n",
    "outcome = cal.get_price(param)\n",
    "print(outcome)"
   ]
  },
  {
   "cell_type": "markdown",
   "metadata": {},
   "source": [
    "### function call with LLM"
   ]
  },
  {
   "cell_type": "code",
   "execution_count": 9,
   "metadata": {},
   "outputs": [
    {
     "name": "stdout",
     "output_type": "stream",
     "text": [
      "{'product_type': '단독형', 'months': 12.0, 'users': 1200.0, 'capacity': 100.0}\n",
      "[get_price]===[ 가격 계산 요청값]===\n",
      "[get_price]제품 유형 :단독형\n",
      "[get_price]개월 수  :12\n",
      "[get_price]사용자 유저수 :1200\n",
      "[get_price]용량추가 :100\n",
      "사용자 수 기준 가격 : 3300000\n",
      "공유형/단독형 기반 가격 계산 :3500000\n",
      "용량 추가 기반 가격 계산 :3530000\n",
      "12 개월 할인률 적용 가격 :3353500.0\n",
      "\n",
      "\n",
      "outcome : 단독형 제품의 경우, 사용자 수 1200명, 계약 기간 12개월, 용량 추가 100GB 기준으로 한 달 가격은 3,353,500원입니다.\n",
      "\n",
      "12개월 계약 기간에 대한 총 가격은 33,535,000원입니다. \n",
      "cal_eq : \n",
      "[계산 결과]\n",
      "클라우드 단독형 오피스 제품 총 1200명의 1개월 최종 단독형 할인율 5% 적용 가격은 3353500.0 입니다.\n",
      "\n",
      "[계산 과정]\n",
      "- 사용자 1200명 기준 가격 : 3300000\n",
      "- 제품 타입 : 단독형\n",
      ": 제품 타입 적용 후 가격 : 3500000 (단독형일 경우 기본가격(200,000) 추가됨.)\n",
      "- 용량 추가 있음 100 GB\n",
      ": 용량 추가 관련 계산 후 가격 :3530000\n",
      "- 12 개월 할인률 적용 후 최종 가격 :3353500.0\n",
      "\n",
      "        \n"
     ]
    }
   ],
   "source": [
    "question = \"사용자 수가 550명이고, 공유형을 사용하면서 11개월 계약하고 용량추가를 하지 않으면 가격이 얼마나 되나요 ?\"\n",
    "question = \"사용자 수가 1300명이고 단독형의 경우 12개월 사용하고 용량 추가가 없다면 월 가격은 얼마나 되나요 ?\"\n",
    "question = \"공유형은 550명하면 35GB 용량이면 년간 얼마나 하나요 ?\"\n",
    "question = \"사용자의 제품 계산에 필요한 요구사항으로 제품타입을 '단독형', 사용 개월 수12개월, 사용자수를 1200명, 추가용량를 100 GB로 알려주세요.\"\n",
    "\n",
    "prod = False\n",
    "cal = Calculator(prod)\n",
    "\n",
    "outcome, cal_eq = cal.calculate_price(question)\n",
    "print(f\"\\n\\noutcome : {outcome} \")\n",
    "print(f\"cal_eq : {cal_eq}\")\n"
   ]
  },
  {
   "cell_type": "markdown",
   "metadata": {},
   "source": [
    "### Response with segments"
   ]
  },
  {
   "cell_type": "code",
   "execution_count": 5,
   "metadata": {},
   "outputs": [
    {
     "name": "stdout",
     "output_type": "stream",
     "text": [
      "E0315 03:14:18.450226438    1634 backup_poller.cc:127]                 Run client channel backup poller: UNKNOWN:pollset_work {created_time:\"2024-03-15T03:14:18.447627637+00:00\", children:[UNKNOWN:Bad file descriptor {created_time:\"2024-03-15T03:14:18.447522448+00:00\", errno:9, os_error:\"Bad file descriptor\", syscall:\"epoll_wait\"}]}\n",
      "{\"calculation steps\": \"\\n[계산 결과]\\n클라우드 단독형 오피스 제품 총 1300명의 1개월 최종 단독형 할인율 5% 적용 가격은 3515000.0 입니다.\\n\\n[계산 과정]\\n- 사용자 1300명 기준 가격 : 3500000\\n- 제품 타입 : 단독형\\n: 제품 타입 적용 후 가격 : 3700000 (단독형일 경우 기본가격(200,000) 추가됨.)\\n- 용량추가 없음\\n: 용량 추가 관련 계산 후 가격 :3700000\\n- 12 개월 할인률 적용 후 최종 가격 :3515000.0\\n\\n        \", \"result\": \"단독형의 경우 12개월 사용하고 용량 추가가 없다면 월 가격은 3,515,000원입니다.\"}"
     ]
    }
   ],
   "source": [
    "!curl -X POST https://daou-office-run-o5gpdmpuwq-du.a.run.app/get_price -H 'Content-Type: application/json' -d '{\"question\":\"사용자 수가 1300명이고 단독형의 경우 12개월 사용하고 용량 추가가 없다면 월 가격은 얼마나 되나요 ?\"}'"
   ]
  },
  {
   "cell_type": "code",
   "execution_count": 6,
   "metadata": {},
   "outputs": [
    {
     "name": "stdout",
     "output_type": "stream",
     "text": [
      "공유형222\n"
     ]
    }
   ],
   "source": [
    "parameters = {'product_type': '단독형', 'users': '300'}\n",
    "product_type =\"de\"\n",
    "if 'product_type' in parameters.keys():\n",
    "    product_type = \"공유형222\"\n",
    "\n",
    "print(product_type)    "
   ]
  },
  {
   "cell_type": "code",
   "execution_count": 7,
   "metadata": {},
   "outputs": [
    {
     "name": "stdout",
     "output_type": "stream",
     "text": [
      "500\n"
     ]
    }
   ],
   "source": [
    "import re\n",
    "\n",
    "string = 'aaa1234, ^&*2233pp'\n",
    "string = '500GB'\n",
    "\n",
    "numbers = re.sub(r'[^0-9]', '', string)\n",
    "print(numbers)"
   ]
  }
 ],
 "metadata": {
  "kernelspec": {
   "display_name": "CloudRun_Search-3qrz3MGx",
   "language": "python",
   "name": "python3"
  },
  "language_info": {
   "codemirror_mode": {
    "name": "ipython",
    "version": 3
   },
   "file_extension": ".py",
   "mimetype": "text/x-python",
   "name": "python",
   "nbconvert_exporter": "python",
   "pygments_lexer": "ipython3",
   "version": "3.9.2"
  }
 },
 "nbformat": 4,
 "nbformat_minor": 2
}
