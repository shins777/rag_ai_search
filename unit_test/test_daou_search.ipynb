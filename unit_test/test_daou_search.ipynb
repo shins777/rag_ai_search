{
 "cells": [
  {
   "cell_type": "markdown",
   "metadata": {},
   "source": [
    "# Test cases for Daou Office"
   ]
  },
  {
   "cell_type": "markdown",
   "metadata": {},
   "source": [
    "### Core count"
   ]
  },
  {
   "cell_type": "markdown",
   "metadata": {},
   "source": [
    "Check number of cores"
   ]
  },
  {
   "cell_type": "code",
   "execution_count": null,
   "metadata": {},
   "outputs": [],
   "source": [
    "!nproc"
   ]
  },
  {
   "cell_type": "markdown",
   "metadata": {},
   "source": [
    "### Initialize env."
   ]
  },
  {
   "cell_type": "code",
   "execution_count": null,
   "metadata": {},
   "outputs": [],
   "source": [
    "%load_ext autoreload\n",
    "%autoreload 2\n",
    "\n",
    "import sys\n",
    "import os\n",
    "import time\n",
    "\n",
    "directory = os.getcwd()\n",
    "# Append sys path to refer utils.\n",
    "sys.path.append(\"../src\")"
   ]
  },
  {
   "cell_type": "markdown",
   "metadata": {},
   "source": [
    "### Response with segments"
   ]
  },
  {
   "cell_type": "code",
   "execution_count": null,
   "metadata": {},
   "outputs": [],
   "source": [
    "from controller import Controller\n",
    "\n",
    "prod = False\n",
    "controller = Controller(prod)\n",
    "\n",
    "question = \"전결에 대해서 설명해주세요.\"\n",
    "\n",
    "condition = {\n",
    "    \"mixed_question\" : False,\n",
    "    \"detailed_return\" : False,\n",
    "    \"answer_only\" : False\n",
    "}\n",
    "\n",
    "outcome = controller.response( question, condition )\n"
   ]
  },
  {
   "cell_type": "markdown",
   "metadata": {},
   "source": [
    "### Response with answers only"
   ]
  },
  {
   "cell_type": "code",
   "execution_count": null,
   "metadata": {},
   "outputs": [],
   "source": [
    "from controller import Controller\n",
    "\n",
    "prod = False\n",
    "controller = Controller(prod)\n",
    "\n",
    "question = \"전결에 대해서 설명해주세요.\"\n",
    "\n",
    "condition = {\n",
    "    \"mixed_question\" : False,\n",
    "    \"detailed_return\" : False,\n",
    "    \"answer_only\" : True\n",
    "}\n",
    "\n",
    "outcome = controller.response( question, condition )"
   ]
  },
  {
   "cell_type": "markdown",
   "metadata": {},
   "source": [
    "### Search with segments"
   ]
  },
  {
   "cell_type": "code",
   "execution_count": null,
   "metadata": {},
   "outputs": [],
   "source": [
    "from controller import Controller\n",
    "prod = False\n",
    "controller = Controller(prod)\n",
    "\n",
    "question = \"전결에 대해서 설명해주세요.\"\n",
    "condition = {\n",
    "    \"mixed_question\" : False,\n",
    "    \"detailed_return\" : False,\n",
    "    \"answer_only\" : False\n",
    "}\n",
    "\n",
    "outcome = controller.search( question, condition )\n",
    "print(outcome)"
   ]
  },
  {
   "cell_type": "markdown",
   "metadata": {},
   "source": [
    "### Response with Answers only"
   ]
  },
  {
   "cell_type": "code",
   "execution_count": 19,
   "metadata": {},
   "outputs": [
    {
     "name": "stderr",
     "output_type": "stream",
     "text": [
      "2024-03-12 03:46:36,736:INFO:[Controller][__init__] Controller.gemini_pro langchain : None\n",
      "2024-03-12 03:46:36,737:INFO:[Controller][__init__] Controller.gemini_pro native : <vertexai.preview.generative_models.GenerativeModel object at 0x7fc5f73224c0>\n",
      "2024-03-12 03:46:36,738:INFO:[Controller][__init__] Controller.bison : <vertexai.language_models.TextGenerationModel object at 0x7fc5f51008b0>\n",
      "2024-03-12 03:46:36,739:INFO:[Controller][__init__] Initialize Controller done!\n",
      "2024-03-12 03:46:36,740:INFO:[Controller][search] Simple Question Processing Start! : 전결에 대해서 설명해주세요.\n",
      "2024-03-12 03:46:37,551:INFO:[Controller][retrieve_vertex_ai_search] Response len : 5304\n",
      "2024-03-12 03:46:37,557:INFO:[Controller][parse_discovery_results] serched_documents len : 1\n",
      "2024-03-12 03:46:37,558:INFO:[Controller][ai_search] AI Search Done! 1\n",
      "2024-03-12 03:46:37,559:INFO:[Controller][search] len(contexts_list) : 3\n",
      "2024-03-12 03:46:38,651:INFO:[Controller][context_verifier] Question : 전결에 대해서 설명해주세요., Verification Result : Yes\n",
      "2024-03-12 03:46:38,867:INFO:[Controller][context_verifier] Question : 전결에 대해서 설명해주세요., Verification Result : Yes\n",
      "2024-03-12 03:46:38,981:INFO:[Controller][context_verifier] Question : 전결에 대해서 설명해주세요., Verification Result : Yes\n",
      "2024-03-12 03:46:38,983:INFO:[Controller][search] Elapsed time : question_splitter[0.0008666515350341797] : ai_search 0.8191349506378174] : context_verifier [1.4227185249328613] : Total search time : 2.242720127105713 \n"
     ]
    },
    {
     "name": "stdout",
     "output_type": "stream",
     "text": [
      "\n",
      "[Facts] :  결재하기 | 295 전결 전결이란 최종 결재자 이전에 있는 결재자가 문서를 승인하고 결재 처리를 완료하는 것입니다. 문서의 중요도에 따라 최종 결재자에게 결재 업무가 과중되는 경우 전결처리를 할 수 있습니다.내가 최종 결재자이면 기안된 문서는 결재 완료 처리되고, 다음 결재자가 있는 경우 다음 결재자에게 전달 됩니다. 반려된 문서는 기안자에게 넘어가며, 기안자는 재기안을 클릭하여 결재를 다시 요청할 수 있습니 다.\n",
      "[Facts] :  금액에 대해 기안자가 전결권자인 경우, 차상위자의 결재를 받음 - 기안자가 금액에 대한 전결권이 있더라도 차상위 결재권자의 결재가 필요한 문서의 경우 체크하여 사용합니다.부서 설정 추가 - 자동결재선 설정 영역이 추가되어 부서별 자동결재선 설정이 가능합니다 8.\n",
      "[Facts] :  ■ 공문발송 기능 - 결재 문서가 완료되면 지정된 공문 수신처로 메일을 통해 결재 문서가 자동으로 메발 이 발 송되는 기능을 사용할 것인지를 선택합니다. ○ 권한/보안 ■ 전결 옵션 - 최종 결재자 이전에 있는 결재자가 결재를 하고, 결재를 완료하는 것을 전결이라고 합니이 양식을 일부에게만 노출하려면 일부 사용자를 선택하 고, 사용자나 그룹, 부서 등을 노출하려는 대상을 선택합니다.\n"
     ]
    }
   ],
   "source": [
    "from controller import Controller\n",
    "prod = False\n",
    "controller = Controller(prod)\n",
    "\n",
    "question = \"전결에 대해서 설명해주세요.\"\n",
    "condition = {\n",
    "    \"mixed_question\" : False,\n",
    "    \"detailed_return\" : False,\n",
    "    \"answer_only\" : True\n",
    "}\n",
    "\n",
    "outcome = controller.search( question, condition )\n",
    "print(outcome)"
   ]
  },
  {
   "cell_type": "markdown",
   "metadata": {},
   "source": [
    "### Response with segments"
   ]
  },
  {
   "cell_type": "code",
   "execution_count": 25,
   "metadata": {},
   "outputs": [
    {
     "name": "stdout",
     "output_type": "stream",
     "text": [
      "{\"result\": \"**결론:** 전결은 최종 결재자 이전에 있는 결재자가 문서를 승인하고 결재 처리를 완료하는 것입니다.\\n\\n**이유:**\\n* 전결은 문서의 중요도에 따라 최종 결재자에게 결재 업무가 과중되는 경우 사용됩니다.\\n* 전결처리를 하면 최종 결재자는 기안된 문서가 결재 완료 처리되고, 다음 결재자가 있는 경우 다음 결재자에게 전달됩니다.\\n* 반려된 문서는 기안자에게 넘어가며, 기안자는 재기안을 클릭하여 결재를 다시 요청할 수 있습니다.\"}"
     ]
    }
   ],
   "source": [
    "!curl -X POST https://daou-office-run-o5gpdmpuwq-du.a.run.app/response_segments -H 'Content-Type: application/json' -d '{\"question\":\"전결에 대해서 설명해주세요.\"}'"
   ]
  },
  {
   "cell_type": "markdown",
   "metadata": {},
   "source": [
    "### Response with Answers only"
   ]
  },
  {
   "cell_type": "code",
   "execution_count": 26,
   "metadata": {},
   "outputs": [
    {
     "name": "stdout",
     "output_type": "stream",
     "text": [
      "{\"result\": \"**결론:** 전결은 최종 결재자 이전에 있는 결재자가 문서를 승인하고 결재 처리를 완료하는 것입니다.\\n\\n**이유:**\\n* 전결은 문서의 중요도에 따라 최종 결재자에게 결재 업무가 과중될 경우 사용됩니다.\\n* 전결이 완료되면 문서는 최종 결재자에게 전달되거나, 다음 결재자가 있는 경우 다음 결재자에게 전달됩니다.\\n* 기안자가 금액에 대한 전결권이 있는 경우에도 차상위 결재권자의 결재가 필요한 문서에는 전결이 사용됩니다.\"}"
     ]
    }
   ],
   "source": [
    "!curl -X POST https://daou-office-run-o5gpdmpuwq-du.a.run.app/response_answers -H 'Content-Type: application/json' -d '{\"question\":\"전결에 대해서 설명해주세요.\"}'"
   ]
  },
  {
   "cell_type": "markdown",
   "metadata": {},
   "source": [
    "### Search with Segments"
   ]
  },
  {
   "cell_type": "code",
   "execution_count": 27,
   "metadata": {},
   "outputs": [
    {
     "name": "stdout",
     "output_type": "stream",
     "text": [
      "E0312 03:58:57.565267102    3675 backup_poller.cc:127]                 Run client channel backup poller: UNKNOWN:pollset_work {created_time:\"2024-03-12T03:58:57.564930131+00:00\", children:[UNKNOWN:Bad file descriptor {created_time:\"2024-03-12T03:58:57.564838507+00:00\", errno:9, os_error:\"Bad file descriptor\", syscall:\"epoll_wait\"}]}\n",
      "{\"result\": \"\\n[Facts] :  결재하기 | 295 전결 전결이란 최종 결재자 이전에 있는 결재자가 문서를 승인하고 결재 처리를 완료하는 것입니다. 문서의 중요도에 따라 최종 결재자에게 결재 업무가 과중되는 경우 전결처리를 할 수 있습니다.내가 최종 결재자이면 기안된 문서는 결재 완료 처리되고, 다음 결재자가 있는 경우 다음 결재자에게 전달 됩니다. 반려된 문서는 기안자에게 넘어가며, 기안자는 재기안을 클릭하여 결재를 다시 요청할 수 있습니 다. 292 | 전자결재\\n\\n수신자에 사용자를 지정한 경우 해당 사용자는 본인의 수신 문서함에서 수신 문서를 확인할 수 있습니다.\\n수신자에 부서를 지정한 경우 부서의 부서장이나 부부서장, 부서 문서함 담당자가 부서 수신함에서 해당\\n문서를 접수하면서 담당자를 지정할 수 있습니다. 담당자가 지정되면 해당 사용자는 자신의 수신 문서함에\\n서 수신 문서를 확인할 수 있습니다.\\n\\n자주 쓰는 양식으로 추가\\n\\n자주 사용하는 결재 양식은 자주 쓰는 양식으로 지정할 수 있습니다. 자주 쓰는 양식은 왼쪽 사이드바 상단에 보이기\\n때문에 문서함이 많아졌을 때도 위아래로 움직일 필요 없이 빠르게 찾아볼 수 있습니다.\\n결재 양식을 자주 쓰는 양식으로 추가하는 방법은 다음과 같습니다.\\n\\n1. 화면 왼쪽 상단에 있는 새 결재 진행을 클릭합니다. 결재양식 선택화면이 나타납니다.\\n2. 결재양식 선택화면의 왼쪽에서 양식을 선택합니다. 양식을 선택하면, 결재양식 선택화면의 오른쪽에 선택한 양\\n식의 상세정보가 나타납니다.\\n3. 화면 오른쪽 상단에 있는 자주 쓰는 양식으로 추가를 클릭합니다. 왼쪽 사이드바 상단에 해당 양식이 추가됩니다.\\n\\n그림 12-6 자주 쓰는 양식\\n\\n자주 쓰는 양식 순서바꾸기\\n\\n자주 쓰는 양식의 순서를 변경하는 방법은 다음과 같습니다.\\n\\n1. 자주 쓰는 양식 옆에 있는 수정아이콘( )을 클릭합니다.\\n2. 드래그 앤 드롭으로 양식의 순서를 변경합니다.\\n3. 수정이 완료되면, 확인아이콘( )을 클릭합니다.\\n[Facts] :  금액에 대해 기안자가 전결권자인 경우, 차상위자의 결재를 받음 - 기안자가 금액에 대한 전결권이 있더라도 차상위 결재권자의 결재가 필요한 문서의 경우 체크하여 사용합니다.부서 설정 추가 - 자동결재선 설정 영역이 추가되어 부서별 자동결재선 설정이 가능합니다 8. 전자결재 | 131\\n\\n○ 그룹명 - 항목란에서 선택된 값들의 그룹명을 설정합니다\\n○ 항목 - 해당 순서 결재선에 적용할 항목을 선택합니다. 직책/직급/직위 중 위에서 선택한 값으로 추가가 가\\n\\n능합니다.\\n\\n7. 부서 설정 추가 - 자동결재선 설정 영역이 추가되어 부서별 자동결재선 설정이 가능합니다\\n8. 옵션 추가 - 결재 시 기안자의 상황에 따라 알맞은 결재선을 선택하여 이용할 수 있도록 하기 위한 결재선별 옵션\\n을 생성할 수 있으며 각 결재선 옵션에 대한 명칭 지정은 양식편집기 내에서 가능합니다.\\n\\n9. 저장 - 설정한 내역을 저장/취소 합니다.\\n\\n결재선 설정\\n\\n전체 부서\\n\\n직책/직급/직위를 선택 후 결재선을 설정합니다. 결재자 추가 버튼으로 다수의 결재자를 추가 가능합니다.\\n[사이트어드민>전자결재>결재 양식>양식 선택>양식 편집기] 로 이동합니다.\\n\\n삭제 목록에 남아있는 부서일 경우, 결재선으로 저장할 수 없습니다. 해당 부서를 완전 삭제하거나 결재선\\n을 변경해주세요.\\n부서를 완전 삭제했을 경우에만 자동으로 결재선에서 삭제됩니다.\\n[Facts] :  ■ 공문발송 기능 - 결재 문서가 완료되면 지정된 공문 수신처로 메일을 통해 결재 문서가 자동으로 메발 이 발 송되는 기능을 사용할 것인지를 선택합니다. ○ 권한/보안 ■ 전결 옵션 - 최종 결재자 이전에 있는 결재자가 결재를 하고, 결재를 완료하는 것을 전결이라고 합니이 양식을 일부에게만 노출하려면 일부 사용자를 선택하 고, 사용자나 그룹, 부서 등을 노출하려는 대상을 선택합니다. 양식을 추가할 때는 전사 문서함 폴더가 미리 생성되어 있어야 합니다. 전사 문서함 폴더는 [메뉴관리 > 전\\n자결재 > 전사 문서함]에서 추가할 수 있습니다.\"}"
     ]
    }
   ],
   "source": [
    "!curl -X POST https://daou-office-run-o5gpdmpuwq-du.a.run.app/search_segments -H 'Content-Type: application/json' -d '{\"question\":\"전결에 대해서 설명해주세요.\"}'"
   ]
  },
  {
   "cell_type": "markdown",
   "metadata": {},
   "source": [
    "### Search with Answers"
   ]
  },
  {
   "cell_type": "code",
   "execution_count": 28,
   "metadata": {},
   "outputs": [
    {
     "name": "stdout",
     "output_type": "stream",
     "text": [
      "{\"result\": \"\\n[Facts] :  결재하기 | 295 전결 전결이란 최종 결재자 이전에 있는 결재자가 문서를 승인하고 결재 처리를 완료하는 것입니다. 문서의 중요도에 따라 최종 결재자에게 결재 업무가 과중되는 경우 전결처리를 할 수 있습니다.내가 최종 결재자이면 기안된 문서는 결재 완료 처리되고, 다음 결재자가 있는 경우 다음 결재자에게 전달 됩니다. 반려된 문서는 기안자에게 넘어가며, 기안자는 재기안을 클릭하여 결재를 다시 요청할 수 있습니 다.\\n[Facts] :  금액에 대해 기안자가 전결권자인 경우, 차상위자의 결재를 받음 - 기안자가 금액에 대한 전결권이 있더라도 차상위 결재권자의 결재가 필요한 문서의 경우 체크하여 사용합니다.부서 설정 추가 - 자동결재선 설정 영역이 추가되어 부서별 자동결재선 설정이 가능합니다 8.\\n[Facts] :  ■ 공문발송 기능 - 결재 문서가 완료되면 지정된 공문 수신처로 메일을 통해 결재 문서가 자동으로 메발 이 발 송되는 기능을 사용할 것인지를 선택합니다. ○ 권한/보안 ■ 전결 옵션 - 최종 결재자 이전에 있는 결재자가 결재를 하고, 결재를 완료하는 것을 전결이라고 합니이 양식을 일부에게만 노출하려면 일부 사용자를 선택하 고, 사용자나 그룹, 부서 등을 노출하려는 대상을 선택합니다.\"}"
     ]
    }
   ],
   "source": [
    "!curl -X POST https://daou-office-run-o5gpdmpuwq-du.a.run.app/search_answers -H 'Content-Type: application/json' -d '{\"question\":\"전결에 대해서 설명해주세요.\"}'"
   ]
  },
  {
   "cell_type": "code",
   "execution_count": null,
   "metadata": {},
   "outputs": [],
   "source": []
  }
 ],
 "metadata": {
  "kernelspec": {
   "display_name": "CloudRun_Search-3qrz3MGx",
   "language": "python",
   "name": "python3"
  },
  "language_info": {
   "codemirror_mode": {
    "name": "ipython",
    "version": 3
   },
   "file_extension": ".py",
   "mimetype": "text/x-python",
   "name": "python",
   "nbconvert_exporter": "python",
   "pygments_lexer": "ipython3",
   "version": "3.9.2"
  }
 },
 "nbformat": 4,
 "nbformat_minor": 2
}
