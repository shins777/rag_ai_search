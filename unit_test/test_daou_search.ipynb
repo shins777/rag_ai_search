{
 "cells": [
  {
   "cell_type": "markdown",
   "metadata": {},
   "source": [
    "# Test cases for Daou Office"
   ]
  },
  {
   "cell_type": "markdown",
   "metadata": {},
   "source": [
    "### Core count"
   ]
  },
  {
   "cell_type": "markdown",
   "metadata": {},
   "source": [
    "Check number of cores"
   ]
  },
  {
   "cell_type": "code",
   "execution_count": 1,
   "metadata": {},
   "outputs": [
    {
     "name": "stdout",
     "output_type": "stream",
     "text": [
      "4\n"
     ]
    }
   ],
   "source": [
    "!nproc"
   ]
  },
  {
   "cell_type": "markdown",
   "metadata": {},
   "source": [
    "### Initialize env."
   ]
  },
  {
   "cell_type": "code",
   "execution_count": 2,
   "metadata": {},
   "outputs": [],
   "source": [
    "%load_ext autoreload\n",
    "%autoreload 2\n",
    "\n",
    "import sys\n",
    "import os\n",
    "import time\n",
    "\n",
    "directory = os.getcwd()\n",
    "# Append sys path to refer utils.\n",
    "sys.path.append(\"../src\")"
   ]
  },
  {
   "cell_type": "markdown",
   "metadata": {},
   "source": [
    "### Response with segments"
   ]
  },
  {
   "cell_type": "code",
   "execution_count": 6,
   "metadata": {},
   "outputs": [
    {
     "name": "stderr",
     "output_type": "stream",
     "text": [
      "2024-03-20 20:42:25,678:INFO:[Controller][__init__] Controller.gemini_pro langchain : None\n",
      "2024-03-20 20:42:25,679:INFO:[Controller][__init__] Controller.gemini_pro native : <vertexai.preview.generative_models.GenerativeModel object at 0x79d6ca7ccbb0>\n",
      "2024-03-20 20:42:25,680:INFO:[Controller][__init__] Controller.bison : <vertexai.language_models.TextGenerationModel object at 0x79d708057eb0>\n",
      "2024-03-20 20:42:25,682:INFO:[Controller][__init__] Initialize Controller done!\n",
      "2024-03-20 20:42:25,682:INFO:[Controller][search] Simple Question Processing Start! : 전결에 대해서 설명해주세요.\n",
      "2024-03-20 20:42:25,685:DEBUG:Making request: POST https://oauth2.googleapis.com/token\n",
      "2024-03-20 20:42:25,687:DEBUG:Starting new HTTPS connection (1): oauth2.googleapis.com:443\n",
      "2024-03-20 20:42:25,707:DEBUG:https://oauth2.googleapis.com:443 \"POST /token HTTP/1.1\" 200 None\n",
      "2024-03-20 20:42:25,711:DEBUG:Starting new HTTPS connection (1): discoveryengine.googleapis.com:443\n",
      "2024-03-20 20:42:25,790:DEBUG:https://discoveryengine.googleapis.com:443 \"POST /v1alpha/projects/721521243942/locations/global/collections/default_collection/dataStores/daou-office-manual-org-ds_1710851826912/servingConfigs/default_search:search HTTP/1.1\" 200 None\n",
      "2024-03-20 20:42:25,791:INFO:[Controller][retrieve_vertex_ai_search] Response len : 242\n",
      "2024-03-20 20:42:25,792:DEBUG:[Controller][retrieve_vertex_ai_search] Response : {\n",
      "  \"attributionToken\": \"e_B6CgwIsZTtrwYQyorP7QISJDY1ZjQ5NzQzLTAwMDAtMjY1ZC05MTFjLTE0MjIzYmM3YjczNiIHR0VORVJJQyo8wvCeFbe3jC3ej5oijfenIuftiC2Aspoijr6dFeTtiC3Usp0Vx8vzF4OymiK3maEikPenItuPmiKjgJci\",\n",
      "  \"guidedSearchResult\": {},\n",
      "  \"summary\": {}\n",
      "}\n",
      "\n",
      "2024-03-20 20:42:25,796:INFO:[Controller][parse_discovery_results] serched_documents len : 0\n",
      "2024-03-20 20:42:25,796:DEBUG:[Controller][parse_discovery_results] serched_documents len : []\n",
      "2024-03-20 20:42:25,798:INFO:[Controller][ai_search] AI Search Done! 0\n"
     ]
    },
    {
     "ename": "IndexError",
     "evalue": "list index out of range",
     "output_type": "error",
     "traceback": [
      "\u001b[0;31m---------------------------------------------------------------------------\u001b[0m",
      "\u001b[0;31mIndexError\u001b[0m                                Traceback (most recent call last)",
      "\u001b[1;32m/home/admin_/rag_ai_search/unit_test/test_daou_search.ipynb Cell 8\u001b[0m line \u001b[0;36m1\n\u001b[1;32m      <a href='vscode-notebook-cell://970-cs-1000207905015-default.cs-asia-east1-vger.cloudshell.dev/home/admin_/rag_ai_search/unit_test/test_daou_search.ipynb#X10sdnNjb2RlLXJlbW90ZQ%3D%3D?line=5'>6</a>\u001b[0m question \u001b[39m=\u001b[39m \u001b[39m\"\u001b[39m\u001b[39m전결에 대해서 설명해주세요.\u001b[39m\u001b[39m\"\u001b[39m\n\u001b[1;32m      <a href='vscode-notebook-cell://970-cs-1000207905015-default.cs-asia-east1-vger.cloudshell.dev/home/admin_/rag_ai_search/unit_test/test_daou_search.ipynb#X10sdnNjb2RlLXJlbW90ZQ%3D%3D?line=7'>8</a>\u001b[0m condition \u001b[39m=\u001b[39m {\n\u001b[1;32m      <a href='vscode-notebook-cell://970-cs-1000207905015-default.cs-asia-east1-vger.cloudshell.dev/home/admin_/rag_ai_search/unit_test/test_daou_search.ipynb#X10sdnNjb2RlLXJlbW90ZQ%3D%3D?line=8'>9</a>\u001b[0m     \u001b[39m\"\u001b[39m\u001b[39mmixed_question\u001b[39m\u001b[39m\"\u001b[39m : \u001b[39mFalse\u001b[39;00m,\n\u001b[1;32m     <a href='vscode-notebook-cell://970-cs-1000207905015-default.cs-asia-east1-vger.cloudshell.dev/home/admin_/rag_ai_search/unit_test/test_daou_search.ipynb#X10sdnNjb2RlLXJlbW90ZQ%3D%3D?line=9'>10</a>\u001b[0m     \u001b[39m\"\u001b[39m\u001b[39mdetailed_return\u001b[39m\u001b[39m\"\u001b[39m : \u001b[39mFalse\u001b[39;00m,\n\u001b[1;32m     <a href='vscode-notebook-cell://970-cs-1000207905015-default.cs-asia-east1-vger.cloudshell.dev/home/admin_/rag_ai_search/unit_test/test_daou_search.ipynb#X10sdnNjb2RlLXJlbW90ZQ%3D%3D?line=10'>11</a>\u001b[0m     \u001b[39m\"\u001b[39m\u001b[39manswer_only\u001b[39m\u001b[39m\"\u001b[39m : \u001b[39mFalse\u001b[39;00m\n\u001b[1;32m     <a href='vscode-notebook-cell://970-cs-1000207905015-default.cs-asia-east1-vger.cloudshell.dev/home/admin_/rag_ai_search/unit_test/test_daou_search.ipynb#X10sdnNjb2RlLXJlbW90ZQ%3D%3D?line=11'>12</a>\u001b[0m }\n\u001b[0;32m---> <a href='vscode-notebook-cell://970-cs-1000207905015-default.cs-asia-east1-vger.cloudshell.dev/home/admin_/rag_ai_search/unit_test/test_daou_search.ipynb#X10sdnNjb2RlLXJlbW90ZQ%3D%3D?line=13'>14</a>\u001b[0m outcome \u001b[39m=\u001b[39m controller\u001b[39m.\u001b[39;49mresponse( question, condition )\n",
      "File \u001b[0;32m~/rag_ai_search/src/controller.py:94\u001b[0m, in \u001b[0;36mController.response\u001b[0;34m(self, question, condition)\u001b[0m\n\u001b[1;32m     91\u001b[0m answer_only \u001b[39m=\u001b[39m condition[\u001b[39m'\u001b[39m\u001b[39manswer_only\u001b[39m\u001b[39m'\u001b[39m]\n\u001b[1;32m     93\u001b[0m t1 \u001b[39m=\u001b[39m time\u001b[39m.\u001b[39mtime()\n\u001b[0;32m---> 94\u001b[0m final_contexts \u001b[39m=\u001b[39m \u001b[39mself\u001b[39;49m\u001b[39m.\u001b[39;49msearch(question, condition)\n\u001b[1;32m     96\u001b[0m t2 \u001b[39m=\u001b[39m time\u001b[39m.\u001b[39mtime()\n\u001b[1;32m     97\u001b[0m prompt \u001b[39m=\u001b[39m PromptTemplate\u001b[39m.\u001b[39mfrom_template(\u001b[39m\"\"\"\u001b[39m\n\u001b[1;32m     98\u001b[0m \u001b[39m당신은 지식을 검색해서 상담해주는 AI 어시스턴트입니다.\u001b[39m\n\u001b[1;32m     99\u001b[0m \u001b[39m아래 Question 에 대해서 반드시 [Facts]들에 있는 내용만을 참고해서 단계적으로 추론 후 요약해서 답변해주세요.\u001b[39m\n\u001b[0;32m   (...)\u001b[0m\n\u001b[1;32m    102\u001b[0m \u001b[39mQuestion : \u001b[39m\u001b[39m{question}\u001b[39;00m\n\u001b[1;32m    103\u001b[0m \u001b[39m\u001b[39m\u001b[39m\"\"\"\u001b[39m)\n",
      "File \u001b[0;32m~/rag_ai_search/src/controller.py:175\u001b[0m, in \u001b[0;36mController.search\u001b[0;34m(self, question, condition)\u001b[0m\n\u001b[1;32m    173\u001b[0m \u001b[39m# Search contexts from the question directly in the different way which one question is searched. \u001b[39;00m\n\u001b[1;32m    174\u001b[0m contexts \u001b[39m=\u001b[39m \u001b[39mself\u001b[39m\u001b[39m.\u001b[39mai_search(question, answer_only )\n\u001b[0;32m--> 175\u001b[0m contexts_list \u001b[39m=\u001b[39m contexts[\u001b[39m0\u001b[39;49m]\n\u001b[1;32m    177\u001b[0m logging\u001b[39m.\u001b[39minfo(\u001b[39mf\u001b[39m\u001b[39m\"\u001b[39m\u001b[39m[Controller][search] len(contexts_list) : \u001b[39m\u001b[39m{\u001b[39;00m\u001b[39mlen\u001b[39m(contexts_list)\u001b[39m}\u001b[39;00m\u001b[39m\"\u001b[39m)\n\u001b[1;32m    178\u001b[0m logging\u001b[39m.\u001b[39mdebug(\u001b[39mf\u001b[39m\u001b[39m\"\u001b[39m\u001b[39m[Controller][search] contexts_list : \u001b[39m\u001b[39m{\u001b[39;00mcontexts_list\u001b[39m}\u001b[39;00m\u001b[39m\"\u001b[39m)\n",
      "\u001b[0;31mIndexError\u001b[0m: list index out of range"
     ]
    }
   ],
   "source": [
    "from controller import Controller\n",
    "\n",
    "prod = False\n",
    "controller = Controller(prod)\n",
    "\n",
    "question = \"전결에 대해서 설명해주세요.\"\n",
    "\n",
    "condition = {\n",
    "    \"mixed_question\" : False,\n",
    "    \"detailed_return\" : False,\n",
    "    \"answer_only\" : False\n",
    "}\n",
    "\n",
    "outcome = controller.response( question, condition )\n"
   ]
  },
  {
   "cell_type": "markdown",
   "metadata": {},
   "source": [
    "### Response with answers only"
   ]
  },
  {
   "cell_type": "code",
   "execution_count": 4,
   "metadata": {},
   "outputs": [
    {
     "name": "stderr",
     "output_type": "stream",
     "text": [
      "2024-03-20 20:32:15,905:INFO:[Controller][__init__] Controller.gemini_pro langchain : None\n",
      "2024-03-20 20:32:15,906:INFO:[Controller][__init__] Controller.gemini_pro native : <vertexai.preview.generative_models.GenerativeModel object at 0x79d6f2fa5a90>\n",
      "2024-03-20 20:32:15,907:INFO:[Controller][__init__] Controller.bison : <vertexai.language_models.TextGenerationModel object at 0x79d6ca7cc5b0>\n",
      "2024-03-20 20:32:15,908:INFO:[Controller][__init__] Initialize Controller done!\n",
      "2024-03-20 20:32:15,909:INFO:[Controller][search] Simple Question Processing Start! : 전결에 대해서 설명해주세요.\n",
      "2024-03-20 20:32:15,911:DEBUG:Making request: POST https://oauth2.googleapis.com/token\n",
      "2024-03-20 20:32:15,914:DEBUG:Starting new HTTPS connection (1): oauth2.googleapis.com:443\n",
      "2024-03-20 20:32:15,938:DEBUG:https://oauth2.googleapis.com:443 \"POST /token HTTP/1.1\" 200 None\n",
      "2024-03-20 20:32:15,942:DEBUG:Starting new HTTPS connection (1): discoveryengine.googleapis.com:443\n",
      "2024-03-20 20:32:16,588:DEBUG:https://discoveryengine.googleapis.com:443 \"POST /v1alpha/projects/721521243942/locations/global/collections/default_collection/dataStores/daou-office-manual-ds_1708831122205/servingConfigs/default_search:search HTTP/1.1\" 200 None\n",
      "2024-03-20 20:32:16,591:INFO:[Controller][retrieve_vertex_ai_search] Response len : 5774\n",
      "2024-03-20 20:32:16,593:DEBUG:[Controller][retrieve_vertex_ai_search] Response : {\n",
      "  \"results\": [\n",
      "    {\n",
      "      \"id\": \"87f7b37c072f0956f353178e9d44384d\",\n",
      "      \"document\": {\n",
      "        \"name\": \"projects/721521243942/locations/global/collections/default_collection/dataStores/daou-office-manual-ds_1708831122205/branches/0/documents/87f7b37c072f0956f353178e9d44384d\",\n",
      "        \"id\": \"87f7b37c072f0956f353178e9d44384d\",\n",
      "        \"derivedStructData\": {\n",
      "          \"title\": \"DaouOffice 클라우드 서비스 가이드 3.5.21\",\n",
      "          \"extractive_segments\": [\n",
      "            {\n",
      "              \"pageNumber\": \"4\",\n",
      "              \"content\": \"294 | 전자결재\\n\\n결재/합의/확인/감사\\n\\n결재 문서를 처리합니다.\\n\\n1. 전자결재 메뉴로 이동하면 전자결재 홈 화면이 나타납니다.\\n2. 홈 화면의 상단에 결재 대기 문서가 최대 5개까지 보입니다. 결재하려는 문서의 결재하기를 클릭합니다. 또는,\\n왼쪽 메뉴의 결재 대기 문서를 클릭합니다. 결재 문서 목록에서 결재하려는 문서의 제목을 클릭합니다.\\n결재하기 전 결재 문서를 팝업으로 확인하려면 미리보기 아이콘( )을 클릭합니다.\\n3. 문서 상세내역 상단에 있는 결재(반려), 합의(반대), 확인(반려), 감사(반려) 또는 보류를 클릭합니다.\\n○ 결재(반려) - 내가 결재자로 지정된 기안을 결재 또는 반려할 수 있습니다.\\n내가 최종 결재자이면 기안된 문서는 결재 완료 처리되고, 다음 결재자가 있는 경우 다음 결재자에게 전달\\n됩니다. 반려된 문서는 기안자에게 넘어가며, 기안자는 재기안을 클릭하여 결재를 다시 요청할 수 있습니\\n다.\\n\\n○ 합의(반대) - 내가 합의자로 지정된 기안에 대해 합의 또는 반대 의사를 표시할 수 있습니다. 반대를 하더라\\n도 해당 문서는 결재자에게 전달됩니다.\\n\\n○ 확인(반려) - 내가 확인자로 지정된 기안을 확인 또는 반려할 수 있습니다.\\n결재와 같이 문서를 확인하면 다음 결재자에게 전달되고, 반려한 문서는 기안자에게 넘어갑니다. 단, 확인\\n은 결재문서 내에서 이 기재되지 않는다는 점이 결재와 다릅니다.\\n○ 감사(반려) - 진행되는 결재 문서에 대한 감사를 할 수 있습니다. 일반적으로 감사자는 반려 버튼이 제공되\\n지 않으나, 옵션에 따라 반려 기능이 제공될 수도 있습니다.\\n\\n○ 보류 - 내가 결재해야할 문서를 보류할 수 있습니다. 보류된 문서는 '결재 대기 문서'의 '보류' 탭에서 확인\\n\\n할 수 있습니다. 나중에 다시 결재나 반려를 할 수 있습니다.\\n4. 결재의견과 결재비밀번호를 입력하고, 합의(반대), 승인(반려) 또는 확인(반려)를 클릭합니다.\\n\\n최종 결재가 완료되면 문서번호가 자동으로 생성되어, 문서에 입력됩니다.\\n\\n합의\\n\\n,\\n\\n확인\\n\\n,\\n\\n보류는 사이트 어드민에서 사용으로 설정한 경우에만 나타납니다.\\n\\n문서를 반려할 때, 기안자에게 보낼 것인지 이전 결재자에게 보낼 것인지 선택할 수 있습니다. (사이트 어\\n드민 설정)\"\n",
      "            }\n",
      "          ],\n",
      "          \"extractive_answers\": [\n",
      "            {\n",
      "              \"pageNumber\": \"5\",\n",
      "              \"content\": \"결재하기 | 295 전결 전결이란 \\u003cb\\u003e최종 결재자 이전에 있는 결재자가 문서를 승인하고 결재 처리를 완료하는 것\\u003c/b\\u003e입니다. 문서의 중요도에 따라 최종 결재자에게 결재 업무가 과중되는 경우 전결처리를 할 수 있습니다.\"\n",
      "            },\n",
      "            {\n",
      "              \"content\": \"내가 최종 결재자이면 기안된 문서는 결재 완료 처리되고, 다음 결재자가 있는 경우 다음 결재자에게 전달 됩니다. 반려된 문서는 기안자에게 넘어가며, 기안자는 재기안을 클릭하여 결재를 다시 요청할 수 있습니 다.\",\n",
      "              \"pageNumber\": \"4\"\n",
      "            }\n",
      "          ],\n",
      "          \"link\": \"gs://daou_office_manual/user_manual/DaouOffice 클라우드 서비스 가이드 3.5.21-pages-59.pdf\"\n",
      "        }\n",
      "      }\n",
      "    },\n",
      "    {\n",
      "      \"id\": \"e7ca5c0ae484e3e50623c1a2f9c50335\",\n",
      "      \"document\": {\n",
      "        \"name\": \"projects/721521243942/locations/global/collections/default_collection/dataStores/daou-office-manual-ds_1708831122205/branches/0/documents/e7ca5c0ae484e3e50623c1a2f9c50335\",\n",
      "        \"id\": \"e7ca5c0ae484e3e50623c1a2f9c50335\",\n",
      "        \"derivedStructData\": {\n",
      "          \"extractive_segments\": [\n",
      "            {\n",
      "              \"pageNumber\": \"1\",\n",
      "              \"content\": \"전자결재 | 131\\n\\n○ 그룹명 - 항목란에서 선택된 값들의 그룹명을 설정합니다\\n○ 항목 - 해당 순서 결재선에 적용할 항목을 선택합니다. 직책/직급/직위 중 위에서 선택한 값으로 추가가 가\\n\\n능합니다.\\n\\n7. 부서 설정 추가 - 자동결재선 설정 영역이 추가되어 부서별 자동결재선 설정이 가능합니다\\n8. 옵션 추가 - 결재 시 기안자의 상황에 따라 알맞은 결재선을 선택하여 이용할 수 있도록 하기 위한 결재선별 옵션\\n을 생성할 수 있으며 각 결재선 옵션에 대한 명칭 지정은 양식편집기 내에서 가능합니다.\\n\\n9. 저장 - 설정한 내역을 저장/취소 합니다.\\n\\n결재선 설정\\n\\n전체 부서\\n\\n직책/직급/직위를 선택 후 결재선을 설정합니다. 결재자 추가 버튼으로 다수의 결재자를 추가 가능합니다.\\n[사이트어드민\\u003e전자결재\\u003e결재 양식\\u003e양식 선택\\u003e양식 편집기] 로 이동합니다.\\n\\n삭제 목록에 남아있는 부서일 경우, 결재선으로 저장할 수 없습니다. 해당 부서를 완전 삭제하거나 결재선\\n을 변경해주세요.\\n부서를 완전 삭제했을 경우에만 자동으로 결재선에서 삭제됩니다.\"\n",
      "            }\n",
      "          ],\n",
      "          \"link\": \"gs://daou_office_manual/admin_manual/DaouOffice 클라우드 관리자 가이드-pages-27.pdf\",\n",
      "          \"extractive_answers\": [\n",
      "            {\n",
      "              \"content\": \"금액\\u003cb\\u003e에 대해\\u003c/b\\u003e 기안자가 \\u003cb\\u003e전결\\u003c/b\\u003e권자인 경우, 차상위자\\u003cb\\u003e의\\u003c/b\\u003e 결재를 받음 - 기안자가 금액\\u003cb\\u003e에\\u003c/b\\u003e 대한 \\u003cb\\u003e전결\\u003c/b\\u003e권이 있더라도 차상위 결재권자의 결재가 필요한 문서\\u003cb\\u003e의\\u003c/b\\u003e 경우 체크하여 사용합니다.\",\n",
      "              \"pageNumber\": \"5\"\n",
      "            },\n",
      "            {\n",
      "              \"content\": \"부서 설정 추가 - 자동결재선 설정 영역이 추가되어 부서별 자동결재선 설정이 가능합니다 8.\",\n",
      "              \"pageNumber\": \"1\"\n",
      "            }\n",
      "          ],\n",
      "          \"title\": \"다우오피스 사이트어드민 가이드\"\n",
      "        }\n",
      "      }\n",
      "    },\n",
      "    {\n",
      "      \"id\": \"37ae73a28924aab3de0129492ebf09a6\",\n",
      "      \"document\": {\n",
      "        \"name\": \"projects/721521243942/locations/global/collections/default_collection/dataStores/daou-office-manual-ds_1708831122205/branches/0/documents/37ae73a28924aab3de0129492ebf09a6\",\n",
      "        \"id\": \"37ae73a28924aab3de0129492ebf09a6\",\n",
      "        \"derivedStructData\": {\n",
      "          \"title\": \"다우오피스 사이트어드민 가이드\",\n",
      "          \"extractive_answers\": [\n",
      "            {\n",
      "              \"pageNumber\": \"4\",\n",
      "              \"content\": \"■ 공문발송 기능 - 결재 문서가 완료되면 지정된 공문 수신처로 메일을 통해 결재 문서가 자동으로 메발 이 발 송되는 기능을 사용할 것인지를 선택합니다. ○ 권한/보안 ■ \\u003cb\\u003e전결\\u003c/b\\u003e 옵션 - 최종 결재자 이전\\u003cb\\u003e에\\u003c/b\\u003e 있는 결재자가 결재를 하고, 결재를 완료하는 것을 \\u003cb\\u003e전결\\u003c/b\\u003e이라고 합니\"\n",
      "            },\n",
      "            {\n",
      "              \"content\": \"118 | 메뉴 관리 결재 양식 폴더 삭제 결재 양식 폴더를 삭제하는 방법은 다음과 같습니다. 1. 사이트 어드민\\u003cb\\u003e의\\u003c/b\\u003e [메뉴관리 &gt; 전자결재 &gt; 결재 양식]를 클릭합니다. 2.\",\n",
      "              \"pageNumber\": \"3\"\n",
      "            }\n",
      "          ],\n",
      "          \"link\": \"gs://daou_office_manual/admin_manual/DaouOffice 클라우드 관리자 가이드-pages-24.pdf\",\n",
      "          \"extractive_segments\": [\n",
      "            {\n",
      "              \"content\": \"양식을 추가할 때는 전사 문서함 폴더가 미리 생성되어 있어야 합니다. 전사 문서함 폴더는 [메뉴관리 \\u003e 전\\n자결재 \\u003e 전사 문서함]에서 추가할 수 있습니다.\",\n",
      "              \"pageNumber\": \"5\"\n",
      "            }\n",
      "          ]\n",
      "        }\n",
      "      }\n",
      "    }\n",
      "  ],\n",
      "  \"totalSize\": 984,\n",
      "  \"attributionToken\": \"evB5CgsI0I_trwYQ-uHoARIkNjVmNmI4NjctMDAwMC0yYjM0LWEzN2EtM2MyODZkNGVjNmIyIgdHRU5FUklDKjzk7Ygt1LKdFYCymiKOvp0V24-aIo33pyLn7YgttreMLaOAlyLC8J4V3o-aIpD3pyKDspoix8vzF7eZoSI\",\n",
      "  \"nextPageToken\": \"gMiZzYlRDZ2gjMjNTLhdzMh1CNzImMtADMwATL2YDOiZjZ1YDJaIQjB7rtQYwr8jP0IwgEzEgC\",\n",
      "  \"guidedSearchResult\": {},\n",
      "  \"summary\": {}\n",
      "}\n",
      "\n",
      "2024-03-20 20:32:16,599:INFO:[Controller][parse_discovery_results] serched_documents len : 1\n",
      "2024-03-20 20:32:16,600:DEBUG:[Controller][parse_discovery_results] serched_documents len : [[{'query': '전결에 대해서 설명해주세요.', 'facts': ' 결재하기 | 295 전결 전결이란 최종 결재자 이전에 있는 결재자가 문서를 승인하고 결재 처리를 완료하는 것입니다. 문서의 중요도에 따라 최종 결재자에게 결재 업무가 과중되는 경우 전결처리를 할 수 있습니다.내가 최종 결재자이면 기안된 문서는 결재 완료 처리되고, 다음 결재자가 있는 경우 다음 결재자에게 전달 됩니다. 반려된 문서는 기안자에게 넘어가며, 기안자는 재기안을 클릭하여 결재를 다시 요청할 수 있습니 다.'}, {'query': '전결에 대해서 설명해주세요.', 'facts': ' 금액에 대해 기안자가 전결권자인 경우, 차상위자의 결재를 받음 - 기안자가 금액에 대한 전결권이 있더라도 차상위 결재권자의 결재가 필요한 문서의 경우 체크하여 사용합니다.부서 설정 추가 - 자동결재선 설정 영역이 추가되어 부서별 자동결재선 설정이 가능합니다 8.'}, {'query': '전결에 대해서 설명해주세요.', 'facts': ' ■ 공문발송 기능 - 결재 문서가 완료되면 지정된 공문 수신처로 메일을 통해 결재 문서가 자동으로 메발 이 발 송되는 기능을 사용할 것인지를 선택합니다. ○ 권한/보안 ■ 전결 옵션 - 최종 결재자 이전에 있는 결재자가 결재를 하고, 결재를 완료하는 것을 전결이라고 합니118 | 메뉴 관리 결재 양식 폴더 삭제 결재 양식 폴더를 삭제하는 방법은 다음과 같습니다. 1. 사이트 어드민의 [메뉴관리 &gt; 전자결재 &gt; 결재 양식]를 클릭합니다. 2.'}]]\n",
      "2024-03-20 20:32:16,601:INFO:[Controller][ai_search] AI Search Done! 1\n",
      "2024-03-20 20:32:16,603:INFO:[Controller][search] len(contexts_list) : 3\n",
      "2024-03-20 20:32:16,604:DEBUG:[Controller][search] contexts_list : [{'query': '전결에 대해서 설명해주세요.', 'facts': ' 결재하기 | 295 전결 전결이란 최종 결재자 이전에 있는 결재자가 문서를 승인하고 결재 처리를 완료하는 것입니다. 문서의 중요도에 따라 최종 결재자에게 결재 업무가 과중되는 경우 전결처리를 할 수 있습니다.내가 최종 결재자이면 기안된 문서는 결재 완료 처리되고, 다음 결재자가 있는 경우 다음 결재자에게 전달 됩니다. 반려된 문서는 기안자에게 넘어가며, 기안자는 재기안을 클릭하여 결재를 다시 요청할 수 있습니 다.'}, {'query': '전결에 대해서 설명해주세요.', 'facts': ' 금액에 대해 기안자가 전결권자인 경우, 차상위자의 결재를 받음 - 기안자가 금액에 대한 전결권이 있더라도 차상위 결재권자의 결재가 필요한 문서의 경우 체크하여 사용합니다.부서 설정 추가 - 자동결재선 설정 영역이 추가되어 부서별 자동결재선 설정이 가능합니다 8.'}, {'query': '전결에 대해서 설명해주세요.', 'facts': ' ■ 공문발송 기능 - 결재 문서가 완료되면 지정된 공문 수신처로 메일을 통해 결재 문서가 자동으로 메발 이 발 송되는 기능을 사용할 것인지를 선택합니다. ○ 권한/보안 ■ 전결 옵션 - 최종 결재자 이전에 있는 결재자가 결재를 하고, 결재를 완료하는 것을 전결이라고 합니118 | 메뉴 관리 결재 양식 폴더 삭제 결재 양식 폴더를 삭제하는 방법은 다음과 같습니다. 1. 사이트 어드민의 [메뉴관리 &gt; 전자결재 &gt; 결재 양식]를 클릭합니다. 2.'}]\n",
      "2024-03-20 20:32:16,605:DEBUG:[Controller][search] question_list : ['전결에 대해서 설명해주세요.', '전결에 대해서 설명해주세요.', '전결에 대해서 설명해주세요.']\n",
      "2024-03-20 20:32:17,757:DEBUG:[Controller][call_bison] Final response Len 3\n",
      "2024-03-20 20:32:17,758:INFO:[Controller][context_verifier] Question : 전결에 대해서 설명해주세요., Verification Result : Yes\n",
      "2024-03-20 20:32:17,766:DEBUG:[Controller][call_bison] Final response Len 3\n",
      "2024-03-20 20:32:17,767:INFO:[Controller][context_verifier] Question : 전결에 대해서 설명해주세요., Verification Result : Yes\n",
      "2024-03-20 20:32:17,822:DEBUG:[Controller][call_bison] Final response Len 3\n",
      "2024-03-20 20:32:17,824:INFO:[Controller][context_verifier] Question : 전결에 대해서 설명해주세요., Verification Result : Yes\n",
      "2024-03-20 20:32:17,825:DEBUG:[Controller][search] verified_contexts : <generator object Executor.map.<locals>.result_iterator at 0x79d6e4431a50>\n",
      "2024-03-20 20:32:17,825:DEBUG:[Controller][search] final_contexts : \n",
      "[Facts] :  결재하기 | 295 전결 전결이란 최종 결재자 이전에 있는 결재자가 문서를 승인하고 결재 처리를 완료하는 것입니다. 문서의 중요도에 따라 최종 결재자에게 결재 업무가 과중되는 경우 전결처리를 할 수 있습니다.내가 최종 결재자이면 기안된 문서는 결재 완료 처리되고, 다음 결재자가 있는 경우 다음 결재자에게 전달 됩니다. 반려된 문서는 기안자에게 넘어가며, 기안자는 재기안을 클릭하여 결재를 다시 요청할 수 있습니 다.\n",
      "[Facts] :  금액에 대해 기안자가 전결권자인 경우, 차상위자의 결재를 받음 - 기안자가 금액에 대한 전결권이 있더라도 차상위 결재권자의 결재가 필요한 문서의 경우 체크하여 사용합니다.부서 설정 추가 - 자동결재선 설정 영역이 추가되어 부서별 자동결재선 설정이 가능합니다 8.\n",
      "[Facts] :  ■ 공문발송 기능 - 결재 문서가 완료되면 지정된 공문 수신처로 메일을 통해 결재 문서가 자동으로 메발 이 발 송되는 기능을 사용할 것인지를 선택합니다. ○ 권한/보안 ■ 전결 옵션 - 최종 결재자 이전에 있는 결재자가 결재를 하고, 결재를 완료하는 것을 전결이라고 합니118 | 메뉴 관리 결재 양식 폴더 삭제 결재 양식 폴더를 삭제하는 방법은 다음과 같습니다. 1. 사이트 어드민의 [메뉴관리 &gt; 전자결재 &gt; 결재 양식]를 클릭합니다. 2.\n",
      "2024-03-20 20:32:17,827:INFO:[Controller][search] Elapsed time : question_splitter[0.0006570816040039062] : ai_search 0.6951603889465332] : context_verifier [1.2219879627227783] : Total search time : 1.9178054332733154 \n",
      "2024-03-20 20:32:17,828:DEBUG:[Controller][search] Final_outcome : \n",
      "[Facts] :  결재하기 | 295 전결 전결이란 최종 결재자 이전에 있는 결재자가 문서를 승인하고 결재 처리를 완료하는 것입니다. 문서의 중요도에 따라 최종 결재자에게 결재 업무가 과중되는 경우 전결처리를 할 수 있습니다.내가 최종 결재자이면 기안된 문서는 결재 완료 처리되고, 다음 결재자가 있는 경우 다음 결재자에게 전달 됩니다. 반려된 문서는 기안자에게 넘어가며, 기안자는 재기안을 클릭하여 결재를 다시 요청할 수 있습니 다.\n",
      "[Facts] :  금액에 대해 기안자가 전결권자인 경우, 차상위자의 결재를 받음 - 기안자가 금액에 대한 전결권이 있더라도 차상위 결재권자의 결재가 필요한 문서의 경우 체크하여 사용합니다.부서 설정 추가 - 자동결재선 설정 영역이 추가되어 부서별 자동결재선 설정이 가능합니다 8.\n",
      "[Facts] :  ■ 공문발송 기능 - 결재 문서가 완료되면 지정된 공문 수신처로 메일을 통해 결재 문서가 자동으로 메발 이 발 송되는 기능을 사용할 것인지를 선택합니다. ○ 권한/보안 ■ 전결 옵션 - 최종 결재자 이전에 있는 결재자가 결재를 하고, 결재를 완료하는 것을 전결이라고 합니118 | 메뉴 관리 결재 양식 폴더 삭제 결재 양식 폴더를 삭제하는 방법은 다음과 같습니다. 1. 사이트 어드민의 [메뉴관리 &gt; 전자결재 &gt; 결재 양식]를 클릭합니다. 2.\n",
      "2024-03-20 20:32:19,722:DEBUG:[Controller][call_bison] Final response Len 216\n",
      "2024-03-20 20:32:19,724:DEBUG:[Controller][response] Prompt : \n",
      "        당신은 지식을 검색해서 상담해주는 AI 어시스턴트입니다.\n",
      "        아래 Question 에 대해서 반드시 [Facts]들에 있는 내용만을 참고해서 단계적으로 추론 후 요약해서 답변해주세요.\n",
      "        답변은 결론을 먼저 언급하고, 그 뒤에 이유를 최대한 상세하게 정리해서 답해주세요.\n",
      "        \n",
      "[Facts] :  결재하기 | 295 전결 전결이란 최종 결재자 이전에 있는 결재자가 문서를 승인하고 결재 처리를 완료하는 것입니다. 문서의 중요도에 따라 최종 결재자에게 결재 업무가 과중되는 경우 전결처리를 할 수 있습니다.내가 최종 결재자이면 기안된 문서는 결재 완료 처리되고, 다음 결재자가 있는 경우 다음 결재자에게 전달 됩니다. 반려된 문서는 기안자에게 넘어가며, 기안자는 재기안을 클릭하여 결재를 다시 요청할 수 있습니 다.\n",
      "[Facts] :  금액에 대해 기안자가 전결권자인 경우, 차상위자의 결재를 받음 - 기안자가 금액에 대한 전결권이 있더라도 차상위 결재권자의 결재가 필요한 문서의 경우 체크하여 사용합니다.부서 설정 추가 - 자동결재선 설정 영역이 추가되어 부서별 자동결재선 설정이 가능합니다 8.\n",
      "[Facts] :  ■ 공문발송 기능 - 결재 문서가 완료되면 지정된 공문 수신처로 메일을 통해 결재 문서가 자동으로 메발 이 발 송되는 기능을 사용할 것인지를 선택합니다. ○ 권한/보안 ■ 전결 옵션 - 최종 결재자 이전에 있는 결재자가 결재를 하고, 결재를 완료하는 것을 전결이라고 합니118 | 메뉴 관리 결재 양식 폴더 삭제 결재 양식 폴더를 삭제하는 방법은 다음과 같습니다. 1. 사이트 어드민의 [메뉴관리 &gt; 전자결재 &gt; 결재 양식]를 클릭합니다. 2.\n",
      "        Question : 전결에 대해서 설명해주세요.\n",
      "        \n",
      "2024-03-20 20:32:19,725:INFO:[Controller][response] Final_outcome : **결론:** 전결은 최종 결재자 이전에 있는 결재자가 문서를 승인하고 결재 처리를 완료하는 것입니다.\n",
      "\n",
      "**이유:**\n",
      "* 전결은 문서의 중요도에 따라 최종 결재자의 결재 업무 과중을 줄이기 위해 사용됩니다.\n",
      "* 전결이 완료되면 문서는 다음 결재자에게 전달되거나 최종 결재자에게 전달됩니다.\n",
      "* 반려된 문서는 기안자에게 반환되고, 기안자는 재기안을 통해 결재를 다시 요청할 수 있습니다.\n",
      "2024-03-20 20:32:19,726:INFO:[Controller][response] Elapsed time : Search [1.9198648929595947 : LLM Request[1.8962769508361816] : Total elapsed time : [3.8161418437957764] :  \n"
     ]
    }
   ],
   "source": [
    "from controller import Controller\n",
    "\n",
    "prod = False\n",
    "controller = Controller(prod)\n",
    "\n",
    "question = \"전결에 대해서 설명해주세요.\"\n",
    "\n",
    "condition = {\n",
    "    \"mixed_question\" : False,\n",
    "    \"detailed_return\" : False,\n",
    "    \"answer_only\" : True\n",
    "}\n",
    "\n",
    "outcome = controller.response( question, condition )"
   ]
  },
  {
   "cell_type": "markdown",
   "metadata": {},
   "source": [
    "### Search with segments"
   ]
  },
  {
   "cell_type": "code",
   "execution_count": null,
   "metadata": {},
   "outputs": [],
   "source": [
    "from controller import Controller\n",
    "prod = False\n",
    "controller = Controller(prod)\n",
    "\n",
    "question = \"전결에 대해서 설명해주세요.\"\n",
    "condition = {\n",
    "    \"mixed_question\" : False,\n",
    "    \"detailed_return\" : False,\n",
    "    \"answer_only\" : False\n",
    "}\n",
    "\n",
    "outcome = controller.search( question, condition )\n",
    "print(outcome)"
   ]
  },
  {
   "cell_type": "markdown",
   "metadata": {},
   "source": [
    "### Response with Answers only"
   ]
  },
  {
   "cell_type": "code",
   "execution_count": 19,
   "metadata": {},
   "outputs": [
    {
     "name": "stderr",
     "output_type": "stream",
     "text": [
      "2024-03-12 03:46:36,736:INFO:[Controller][__init__] Controller.gemini_pro langchain : None\n",
      "2024-03-12 03:46:36,737:INFO:[Controller][__init__] Controller.gemini_pro native : <vertexai.preview.generative_models.GenerativeModel object at 0x7fc5f73224c0>\n",
      "2024-03-12 03:46:36,738:INFO:[Controller][__init__] Controller.bison : <vertexai.language_models.TextGenerationModel object at 0x7fc5f51008b0>\n",
      "2024-03-12 03:46:36,739:INFO:[Controller][__init__] Initialize Controller done!\n",
      "2024-03-12 03:46:36,740:INFO:[Controller][search] Simple Question Processing Start! : 전결에 대해서 설명해주세요.\n",
      "2024-03-12 03:46:37,551:INFO:[Controller][retrieve_vertex_ai_search] Response len : 5304\n",
      "2024-03-12 03:46:37,557:INFO:[Controller][parse_discovery_results] serched_documents len : 1\n",
      "2024-03-12 03:46:37,558:INFO:[Controller][ai_search] AI Search Done! 1\n",
      "2024-03-12 03:46:37,559:INFO:[Controller][search] len(contexts_list) : 3\n",
      "2024-03-12 03:46:38,651:INFO:[Controller][context_verifier] Question : 전결에 대해서 설명해주세요., Verification Result : Yes\n",
      "2024-03-12 03:46:38,867:INFO:[Controller][context_verifier] Question : 전결에 대해서 설명해주세요., Verification Result : Yes\n",
      "2024-03-12 03:46:38,981:INFO:[Controller][context_verifier] Question : 전결에 대해서 설명해주세요., Verification Result : Yes\n",
      "2024-03-12 03:46:38,983:INFO:[Controller][search] Elapsed time : question_splitter[0.0008666515350341797] : ai_search 0.8191349506378174] : context_verifier [1.4227185249328613] : Total search time : 2.242720127105713 \n"
     ]
    },
    {
     "name": "stdout",
     "output_type": "stream",
     "text": [
      "\n",
      "[Facts] :  결재하기 | 295 전결 전결이란 최종 결재자 이전에 있는 결재자가 문서를 승인하고 결재 처리를 완료하는 것입니다. 문서의 중요도에 따라 최종 결재자에게 결재 업무가 과중되는 경우 전결처리를 할 수 있습니다.내가 최종 결재자이면 기안된 문서는 결재 완료 처리되고, 다음 결재자가 있는 경우 다음 결재자에게 전달 됩니다. 반려된 문서는 기안자에게 넘어가며, 기안자는 재기안을 클릭하여 결재를 다시 요청할 수 있습니 다.\n",
      "[Facts] :  금액에 대해 기안자가 전결권자인 경우, 차상위자의 결재를 받음 - 기안자가 금액에 대한 전결권이 있더라도 차상위 결재권자의 결재가 필요한 문서의 경우 체크하여 사용합니다.부서 설정 추가 - 자동결재선 설정 영역이 추가되어 부서별 자동결재선 설정이 가능합니다 8.\n",
      "[Facts] :  ■ 공문발송 기능 - 결재 문서가 완료되면 지정된 공문 수신처로 메일을 통해 결재 문서가 자동으로 메발 이 발 송되는 기능을 사용할 것인지를 선택합니다. ○ 권한/보안 ■ 전결 옵션 - 최종 결재자 이전에 있는 결재자가 결재를 하고, 결재를 완료하는 것을 전결이라고 합니이 양식을 일부에게만 노출하려면 일부 사용자를 선택하 고, 사용자나 그룹, 부서 등을 노출하려는 대상을 선택합니다.\n"
     ]
    }
   ],
   "source": [
    "from controller import Controller\n",
    "prod = False\n",
    "controller = Controller(prod)\n",
    "\n",
    "question = \"전결에 대해서 설명해주세요.\"\n",
    "condition = {\n",
    "    \"mixed_question\" : False,\n",
    "    \"detailed_return\" : False,\n",
    "    \"answer_only\" : True\n",
    "}\n",
    "\n",
    "outcome = controller.search( question, condition )\n",
    "print(outcome)"
   ]
  },
  {
   "cell_type": "markdown",
   "metadata": {},
   "source": [
    "### Response with segments"
   ]
  },
  {
   "cell_type": "code",
   "execution_count": 25,
   "metadata": {},
   "outputs": [
    {
     "name": "stdout",
     "output_type": "stream",
     "text": [
      "{\"result\": \"**결론:** 전결은 최종 결재자 이전에 있는 결재자가 문서를 승인하고 결재 처리를 완료하는 것입니다.\\n\\n**이유:**\\n* 전결은 문서의 중요도에 따라 최종 결재자에게 결재 업무가 과중되는 경우 사용됩니다.\\n* 전결처리를 하면 최종 결재자는 기안된 문서가 결재 완료 처리되고, 다음 결재자가 있는 경우 다음 결재자에게 전달됩니다.\\n* 반려된 문서는 기안자에게 넘어가며, 기안자는 재기안을 클릭하여 결재를 다시 요청할 수 있습니다.\"}"
     ]
    }
   ],
   "source": [
    "!curl -X POST https://daou-office-run-o5gpdmpuwq-du.a.run.app/response_segments -H 'Content-Type: application/json' -d '{\"question\":\"전결에 대해서 설명해주세요.\"}'"
   ]
  },
  {
   "cell_type": "markdown",
   "metadata": {},
   "source": [
    "### Response with Answers only"
   ]
  },
  {
   "cell_type": "code",
   "execution_count": 26,
   "metadata": {},
   "outputs": [
    {
     "name": "stdout",
     "output_type": "stream",
     "text": [
      "{\"result\": \"**결론:** 전결은 최종 결재자 이전에 있는 결재자가 문서를 승인하고 결재 처리를 완료하는 것입니다.\\n\\n**이유:**\\n* 전결은 문서의 중요도에 따라 최종 결재자에게 결재 업무가 과중될 경우 사용됩니다.\\n* 전결이 완료되면 문서는 최종 결재자에게 전달되거나, 다음 결재자가 있는 경우 다음 결재자에게 전달됩니다.\\n* 기안자가 금액에 대한 전결권이 있는 경우에도 차상위 결재권자의 결재가 필요한 문서에는 전결이 사용됩니다.\"}"
     ]
    }
   ],
   "source": [
    "!curl -X POST https://daou-office-run-o5gpdmpuwq-du.a.run.app/response_answers -H 'Content-Type: application/json' -d '{\"question\":\"전결에 대해서 설명해주세요.\"}'"
   ]
  },
  {
   "cell_type": "markdown",
   "metadata": {},
   "source": [
    "### Search with Segments"
   ]
  },
  {
   "cell_type": "code",
   "execution_count": 27,
   "metadata": {},
   "outputs": [
    {
     "name": "stdout",
     "output_type": "stream",
     "text": [
      "E0312 03:58:57.565267102    3675 backup_poller.cc:127]                 Run client channel backup poller: UNKNOWN:pollset_work {created_time:\"2024-03-12T03:58:57.564930131+00:00\", children:[UNKNOWN:Bad file descriptor {created_time:\"2024-03-12T03:58:57.564838507+00:00\", errno:9, os_error:\"Bad file descriptor\", syscall:\"epoll_wait\"}]}\n",
      "{\"result\": \"\\n[Facts] :  결재하기 | 295 전결 전결이란 최종 결재자 이전에 있는 결재자가 문서를 승인하고 결재 처리를 완료하는 것입니다. 문서의 중요도에 따라 최종 결재자에게 결재 업무가 과중되는 경우 전결처리를 할 수 있습니다.내가 최종 결재자이면 기안된 문서는 결재 완료 처리되고, 다음 결재자가 있는 경우 다음 결재자에게 전달 됩니다. 반려된 문서는 기안자에게 넘어가며, 기안자는 재기안을 클릭하여 결재를 다시 요청할 수 있습니 다. 292 | 전자결재\\n\\n수신자에 사용자를 지정한 경우 해당 사용자는 본인의 수신 문서함에서 수신 문서를 확인할 수 있습니다.\\n수신자에 부서를 지정한 경우 부서의 부서장이나 부부서장, 부서 문서함 담당자가 부서 수신함에서 해당\\n문서를 접수하면서 담당자를 지정할 수 있습니다. 담당자가 지정되면 해당 사용자는 자신의 수신 문서함에\\n서 수신 문서를 확인할 수 있습니다.\\n\\n자주 쓰는 양식으로 추가\\n\\n자주 사용하는 결재 양식은 자주 쓰는 양식으로 지정할 수 있습니다. 자주 쓰는 양식은 왼쪽 사이드바 상단에 보이기\\n때문에 문서함이 많아졌을 때도 위아래로 움직일 필요 없이 빠르게 찾아볼 수 있습니다.\\n결재 양식을 자주 쓰는 양식으로 추가하는 방법은 다음과 같습니다.\\n\\n1. 화면 왼쪽 상단에 있는 새 결재 진행을 클릭합니다. 결재양식 선택화면이 나타납니다.\\n2. 결재양식 선택화면의 왼쪽에서 양식을 선택합니다. 양식을 선택하면, 결재양식 선택화면의 오른쪽에 선택한 양\\n식의 상세정보가 나타납니다.\\n3. 화면 오른쪽 상단에 있는 자주 쓰는 양식으로 추가를 클릭합니다. 왼쪽 사이드바 상단에 해당 양식이 추가됩니다.\\n\\n그림 12-6 자주 쓰는 양식\\n\\n자주 쓰는 양식 순서바꾸기\\n\\n자주 쓰는 양식의 순서를 변경하는 방법은 다음과 같습니다.\\n\\n1. 자주 쓰는 양식 옆에 있는 수정아이콘( )을 클릭합니다.\\n2. 드래그 앤 드롭으로 양식의 순서를 변경합니다.\\n3. 수정이 완료되면, 확인아이콘( )을 클릭합니다.\\n[Facts] :  금액에 대해 기안자가 전결권자인 경우, 차상위자의 결재를 받음 - 기안자가 금액에 대한 전결권이 있더라도 차상위 결재권자의 결재가 필요한 문서의 경우 체크하여 사용합니다.부서 설정 추가 - 자동결재선 설정 영역이 추가되어 부서별 자동결재선 설정이 가능합니다 8. 전자결재 | 131\\n\\n○ 그룹명 - 항목란에서 선택된 값들의 그룹명을 설정합니다\\n○ 항목 - 해당 순서 결재선에 적용할 항목을 선택합니다. 직책/직급/직위 중 위에서 선택한 값으로 추가가 가\\n\\n능합니다.\\n\\n7. 부서 설정 추가 - 자동결재선 설정 영역이 추가되어 부서별 자동결재선 설정이 가능합니다\\n8. 옵션 추가 - 결재 시 기안자의 상황에 따라 알맞은 결재선을 선택하여 이용할 수 있도록 하기 위한 결재선별 옵션\\n을 생성할 수 있으며 각 결재선 옵션에 대한 명칭 지정은 양식편집기 내에서 가능합니다.\\n\\n9. 저장 - 설정한 내역을 저장/취소 합니다.\\n\\n결재선 설정\\n\\n전체 부서\\n\\n직책/직급/직위를 선택 후 결재선을 설정합니다. 결재자 추가 버튼으로 다수의 결재자를 추가 가능합니다.\\n[사이트어드민>전자결재>결재 양식>양식 선택>양식 편집기] 로 이동합니다.\\n\\n삭제 목록에 남아있는 부서일 경우, 결재선으로 저장할 수 없습니다. 해당 부서를 완전 삭제하거나 결재선\\n을 변경해주세요.\\n부서를 완전 삭제했을 경우에만 자동으로 결재선에서 삭제됩니다.\\n[Facts] :  ■ 공문발송 기능 - 결재 문서가 완료되면 지정된 공문 수신처로 메일을 통해 결재 문서가 자동으로 메발 이 발 송되는 기능을 사용할 것인지를 선택합니다. ○ 권한/보안 ■ 전결 옵션 - 최종 결재자 이전에 있는 결재자가 결재를 하고, 결재를 완료하는 것을 전결이라고 합니이 양식을 일부에게만 노출하려면 일부 사용자를 선택하 고, 사용자나 그룹, 부서 등을 노출하려는 대상을 선택합니다. 양식을 추가할 때는 전사 문서함 폴더가 미리 생성되어 있어야 합니다. 전사 문서함 폴더는 [메뉴관리 > 전\\n자결재 > 전사 문서함]에서 추가할 수 있습니다.\"}"
     ]
    }
   ],
   "source": [
    "!curl -X POST https://daou-office-run-o5gpdmpuwq-du.a.run.app/search_segments -H 'Content-Type: application/json' -d '{\"question\":\"전결에 대해서 설명해주세요.\"}'"
   ]
  },
  {
   "cell_type": "markdown",
   "metadata": {},
   "source": [
    "### Search with Answers"
   ]
  },
  {
   "cell_type": "code",
   "execution_count": 28,
   "metadata": {},
   "outputs": [
    {
     "name": "stdout",
     "output_type": "stream",
     "text": [
      "{\"result\": \"\\n[Facts] :  결재하기 | 295 전결 전결이란 최종 결재자 이전에 있는 결재자가 문서를 승인하고 결재 처리를 완료하는 것입니다. 문서의 중요도에 따라 최종 결재자에게 결재 업무가 과중되는 경우 전결처리를 할 수 있습니다.내가 최종 결재자이면 기안된 문서는 결재 완료 처리되고, 다음 결재자가 있는 경우 다음 결재자에게 전달 됩니다. 반려된 문서는 기안자에게 넘어가며, 기안자는 재기안을 클릭하여 결재를 다시 요청할 수 있습니 다.\\n[Facts] :  금액에 대해 기안자가 전결권자인 경우, 차상위자의 결재를 받음 - 기안자가 금액에 대한 전결권이 있더라도 차상위 결재권자의 결재가 필요한 문서의 경우 체크하여 사용합니다.부서 설정 추가 - 자동결재선 설정 영역이 추가되어 부서별 자동결재선 설정이 가능합니다 8.\\n[Facts] :  ■ 공문발송 기능 - 결재 문서가 완료되면 지정된 공문 수신처로 메일을 통해 결재 문서가 자동으로 메발 이 발 송되는 기능을 사용할 것인지를 선택합니다. ○ 권한/보안 ■ 전결 옵션 - 최종 결재자 이전에 있는 결재자가 결재를 하고, 결재를 완료하는 것을 전결이라고 합니이 양식을 일부에게만 노출하려면 일부 사용자를 선택하 고, 사용자나 그룹, 부서 등을 노출하려는 대상을 선택합니다.\"}"
     ]
    }
   ],
   "source": [
    "!curl -X POST https://daou-office-run-o5gpdmpuwq-du.a.run.app/search_answers -H 'Content-Type: application/json' -d '{\"question\":\"전결에 대해서 설명해주세요.\"}'"
   ]
  },
  {
   "cell_type": "code",
   "execution_count": null,
   "metadata": {},
   "outputs": [],
   "source": []
  }
 ],
 "metadata": {
  "kernelspec": {
   "display_name": "CloudRun_Search-3qrz3MGx",
   "language": "python",
   "name": "python3"
  },
  "language_info": {
   "codemirror_mode": {
    "name": "ipython",
    "version": 3
   },
   "file_extension": ".py",
   "mimetype": "text/x-python",
   "name": "python",
   "nbconvert_exporter": "python",
   "pygments_lexer": "ipython3",
   "version": "3.9.2"
  }
 },
 "nbformat": 4,
 "nbformat_minor": 2
}
