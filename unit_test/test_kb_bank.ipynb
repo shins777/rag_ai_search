{
 "cells": [
  {
   "cell_type": "markdown",
   "metadata": {},
   "source": [
    "# Test cases for Daou Office"
   ]
  },
  {
   "cell_type": "markdown",
   "metadata": {},
   "source": [
    "### Core count"
   ]
  },
  {
   "cell_type": "markdown",
   "metadata": {},
   "source": [
    "Check number of cores"
   ]
  },
  {
   "cell_type": "code",
   "execution_count": 1,
   "metadata": {},
   "outputs": [
    {
     "name": "stdout",
     "output_type": "stream",
     "text": [
      "4\n"
     ]
    }
   ],
   "source": [
    "!nproc"
   ]
  },
  {
   "cell_type": "markdown",
   "metadata": {},
   "source": [
    "### Initialize env."
   ]
  },
  {
   "cell_type": "code",
   "execution_count": 12,
   "metadata": {},
   "outputs": [
    {
     "name": "stdout",
     "output_type": "stream",
     "text": [
      "The autoreload extension is already loaded. To reload it, use:\n",
      "  %reload_ext autoreload\n"
     ]
    }
   ],
   "source": [
    "%load_ext autoreload\n",
    "%autoreload 2\n",
    "\n",
    "import sys\n",
    "import os\n",
    "import time\n",
    "\n",
    "directory = os.getcwd()\n",
    "# Append sys path to refer utils.\n",
    "sys.path.append(\"../src\")"
   ]
  },
  {
   "cell_type": "markdown",
   "metadata": {},
   "source": [
    "### Response with segments"
   ]
  },
  {
   "cell_type": "code",
   "execution_count": 18,
   "metadata": {},
   "outputs": [
    {
     "name": "stderr",
     "output_type": "stream",
     "text": [
      "2024-03-20 20:48:45,642:INFO:[Controller][__init__] Controller.gemini_pro langchain : None\n",
      "2024-03-20 20:48:45,643:INFO:[Controller][__init__] Controller.gemini_pro native : <vertexai.preview.generative_models.GenerativeModel object at 0x7a303088d4f0>\n",
      "2024-03-20 20:48:45,644:INFO:[Controller][__init__] Controller.bison : <vertexai.language_models.TextGenerationModel object at 0x7a30308a17c0>\n",
      "2024-03-20 20:48:45,646:INFO:[Controller][__init__] Initialize Controller done!\n",
      "2024-03-20 20:48:45,647:INFO:[Controller][search] Simple Question Processing Start! : 외국인 전용 상품에 대해서 설명해주세요.\n",
      "2024-03-20 20:48:45,650:DEBUG:Making request: POST https://oauth2.googleapis.com/token\n",
      "2024-03-20 20:48:45,652:DEBUG:Starting new HTTPS connection (1): oauth2.googleapis.com:443\n",
      "2024-03-20 20:48:45,675:DEBUG:https://oauth2.googleapis.com:443 \"POST /token HTTP/1.1\" 200 None\n",
      "2024-03-20 20:48:45,679:DEBUG:Starting new HTTPS connection (1): discoveryengine.googleapis.com:443\n",
      "2024-03-20 20:48:45,947:DEBUG:https://discoveryengine.googleapis.com:443 \"POST /v1alpha/projects/721521243942/locations/global/collections/default_collection/dataStores/hackathon-ds_1709838247983/servingConfigs/default_search:search HTTP/1.1\" 200 None\n",
      "2024-03-20 20:48:45,950:INFO:[Controller][retrieve_vertex_ai_search] Response len : 4390\n",
      "2024-03-20 20:48:45,951:DEBUG:[Controller][retrieve_vertex_ai_search] Response : {\n",
      "  \"results\": [\n",
      "    {\n",
      "      \"id\": \"41a28640015cf3c702fbb4b591bef4e9\",\n",
      "      \"document\": {\n",
      "        \"name\": \"projects/721521243942/locations/global/collections/default_collection/dataStores/hackathon-ds_1709838247983/branches/0/documents/41a28640015cf3c702fbb4b591bef4e9\",\n",
      "        \"id\": \"41a28640015cf3c702fbb4b591bef4e9\",\n",
      "        \"derivedStructData\": {\n",
      "          \"extractive_segments\": [\n",
      "            {\n",
      "              \"content\": \"외국인 전용 상품\\nKB Welcome plus 적금\\n\\n무료보험 가입 서비스 및 만기자금 자동 본국 송금 서비스\\n\\n1. 상해안심보험 무료가입서비스로 몸도 맘도 안심 PLUS\\n일상생활 중 상해로 인한 사망 및 후유장해가 발생하는 경우, 최대 1천만원 보장\\n(KB손해보험 플러스사랑단체보험)\\n\\n2. 만기자금 자동 본국송금 서비스로 어디에 있어도 안심 PLUS\\n만기 시 내점이 어려운 경우를 대비해 만기일로부터 15영업일이 경과한 날,\\n해당 적금을 자동 해지처리하여 사전에 지정한 본국해외계좌로 만기자금을 송금\\n\\n3. WELCOME PACKAGE 우대이율 PLUS!\\nKB WELCOME 통장과 카드 패키지 보유 시 연 0.3% 우대이율 제공\\n해외송금서비스 이용 시 1회 이상 연 0.1%, 3회 이상 연 0.2% 우대이율 제공\"\n",
      "            }\n",
      "          ],\n",
      "          \"extractive_answers\": [\n",
      "            {\n",
      "              \"content\": \"\\u003cb\\u003e외국인 전용 상품\\u003c/b\\u003e KB Welcome plus 적금 무료보험 가입 서비스 및 만기자금 자동 본국 송금 서비스 1. 상해안심보험 무료가입서비스로 몸도 맘도 안심 PLUS 일상생활 중 상해로 인한 사망 및 후유장해가 발생하는 경우, 최대 1천만원 보장 (KB손해보험 플러스사랑단체보험) 2.\"\n",
      "            }\n",
      "          ],\n",
      "          \"link\": \"gs://kb-demo/KB Welcome plus 적금.txt\",\n",
      "          \"title\": \"KB Welcome plus 적금\"\n",
      "        }\n",
      "      }\n",
      "    },\n",
      "    {\n",
      "      \"id\": \"43407abdad672db58693e6d0c7b28ef4\",\n",
      "      \"document\": {\n",
      "        \"name\": \"projects/721521243942/locations/global/collections/default_collection/dataStores/hackathon-ds_1709838247983/branches/0/documents/43407abdad672db58693e6d0c7b28ef4\",\n",
      "        \"id\": \"43407abdad672db58693e6d0c7b28ef4\",\n",
      "        \"derivedStructData\": {\n",
      "          \"link\": \"gs://kb-demo/KB Welcome 통장.txt\",\n",
      "          \"extractive_answers\": [\n",
      "            {\n",
      "              \"content\": \"환율/해외송금 수수료 우대 환전수수료 및 해외송금수수료 50% 우대(영업점 거래시)\"\n",
      "            }\n",
      "          ],\n",
      "          \"title\": \"KB Welcome 통장\",\n",
      "          \"extractive_segments\": [\n",
      "            {\n",
      "              \"content\": \"외국인 전용 상품\\n\\nKB Welcome 통장.\\n전자 금융/ 자동화 기기 수수료 및 환율 / 해외 송금 수수료 우대.\\n\\n혜택1. 전자금융/자동화기기 수수료 면제\\nKB국민카드(체크카드,신용카드포함/선불카드제외) 결제실적 또는 외화 송금 보낸 실적\\n있으면, 전자금융 타행이체수수료 및 KB자동화기기 시간외 출금수수료 면제\\n(은행외부장소 설치된 타행제휴 기기 및 Van사기기 제외)\\n\\n혜택2. 환율/해외송금 수수료 우대\\n환전수수료 및 해외송금수수료 50% 우대(영업점 거래시)\"\n",
      "            }\n",
      "          ]\n",
      "        }\n",
      "      }\n",
      "    },\n",
      "    {\n",
      "      \"id\": \"9e87ee53b4cdd85114986832f23e5cb7\",\n",
      "      \"document\": {\n",
      "        \"name\": \"projects/721521243942/locations/global/collections/default_collection/dataStores/hackathon-ds_1709838247983/branches/0/documents/9e87ee53b4cdd85114986832f23e5cb7\",\n",
      "        \"id\": \"9e87ee53b4cdd85114986832f23e5cb7\",\n",
      "        \"derivedStructData\": {\n",
      "          \"title\": \"KB Welcome 카드\",\n",
      "          \"extractive_answers\": [\n",
      "            {\n",
      "              \"content\": \"연체료율 연 22.9%~26.9%(고객별/기간별 차등 적용)[신용카드 남용은 가계 경제\\u003cb\\u003e에\\u003c/b\\u003e 위협이 됩니다]\"\n",
      "            }\n",
      "          ],\n",
      "          \"extractive_segments\": [\n",
      "            {\n",
      "              \"content\": \"외국인 전용 상품\\n\\nKB Welcome 카드\\n\\n상품명. : \\nKB 국민 Welcome 체크카드, KB 국민 Welcome Plus 체크카드, KB 국민 탄찬대로 웰컴 신용카드\\n\\nKB국민 WELCOME 체크카드\\n혜택1. 대중교통(버스,지하철) 5% 청구할인\\n월 이용금액 3만원까지 할인 ※전월 이용금액 30만원 이상 시 적용\\n\\n혜택2. 영화(CGV, 메가박스) 20% 환급할인\\n건당 1만원 이상 시 할인(1회 최대 4천원 할인) ※전월 이용금액 20만원 이상 시 제공\\n\\n혜택3. 올리브영 10% 환급할인\\n건당 3만원 이상 시 할인(1회 최대 5천원 할인) ※전월 이용금액 20만원 이상 시 제공\\n\\nKB국민 WELCOME PLUS 체크카드\\n혜택1. 티머니(T-money) 선불카드 충전으로 대중교통 이용 가능\\n\\n혜택2. 대형마트(이마트,롯데마트,홈플러스) 주말 5% 할인\\n건당 3만원 이상 시 할인(1회 최대 5천원 할인) ※전월 이용금액 20만원 이상 시 제공\\n\\n혜택3. 놀이공원(에버랜드,롯데월드,서울랜드) 30% 할인\\n건당 3만원 이상 시 할인(1회 최대 15천원 할인) ※전월 이용금액 20만원 이상 시 제공\\n\\nKB국민 탄탄대로 웰컴 신용카드\\n혜택1. 백화점(롯데,신세계,현대) 10% 청구할인\\n월 최대 1만4천원 할인 ※상품권 및 온라인쇼핑몰 이용분 제외\\n\\n혜택2. 대중교통(버스,지하철), 택시 5% 청구할인\\n월 최대 3천원 할인 ※시외, 고속버스 이용분 제외\\n\\n혜택3. 음식점 5% 청구할인\\n월 최대 3천원 할인 ※ 용산구,영등포구,단원구 소재 음식업종 등록된 가맹점\\n\\n혜택4. 에버랜드 자유이용권 50%, 캐리비안베이 입장권 30% 현장할인\\n※ 카드별(가족카드 포함)1일1매, 에버랜드자유이용권은 회원별 연간 10매 이내\\n\\n※ 계약 체결 전 상세한 혜택 및 이용조건은 홈페이지 상품설명 및 약관을 참조하시기 바랍니다.\\n연체료율 연 22.9%~26.9%(고객별/기간별 차등 적용)[신용카드 남용은 가계 경제에 위협이 됩니다]\"\n",
      "            }\n",
      "          ],\n",
      "          \"link\": \"gs://kb-demo/KB Welcome 카드.txt\"\n",
      "        }\n",
      "      }\n",
      "    }\n",
      "  ],\n",
      "  \"totalSize\": 21,\n",
      "  \"attributionToken\": \"e_B6CgwIrZftrwYQ1MLy5wISJDY1ZjRkYTdkLTAwMDAtMmNiNi1iZjg4LTE0MjIzYmM3N2M3NiIHR0VORVJJQyo85O2ILaOAlyK2t4wtwvCeFY33pyLbj5oig7KaIuftiC3Usp0VxcvzF4CymiKOvp0V3o-aIpD3pyK3maEi\",\n",
      "  \"nextPageToken\": \"gN3M2N3MmYzIjM0ETL4gjZi1iNiNmMtADMwATLjdTYkRjZ1YDJaMQuL2-4QYwr9DYrIwgEzEgC\",\n",
      "  \"guidedSearchResult\": {},\n",
      "  \"summary\": {}\n",
      "}\n",
      "\n",
      "2024-03-20 20:48:45,956:INFO:[Controller][parse_discovery_results] serched_documents len : 1\n",
      "2024-03-20 20:48:45,957:DEBUG:[Controller][parse_discovery_results] serched_documents len : [[{'query': '외국인 전용 상품에 대해서 설명해주세요.', 'facts': ' 외국인 전용 상품 KB Welcome plus 적금 무료보험 가입 서비스 및 만기자금 자동 본국 송금 서비스 1. 상해안심보험 무료가입서비스로 몸도 맘도 안심 PLUS 일상생활 중 상해로 인한 사망 및 후유장해가 발생하는 경우, 최대 1천만원 보장 (KB손해보험 플러스사랑단체보험) 2.'}, {'query': '외국인 전용 상품에 대해서 설명해주세요.', 'facts': ' 환율/해외송금 수수료 우대 환전수수료 및 해외송금수수료 50% 우대(영업점 거래시)'}, {'query': '외국인 전용 상품에 대해서 설명해주세요.', 'facts': ' 연체료율 연 22.9%~26.9%(고객별/기간별 차등 적용)[신용카드 남용은 가계 경제에 위협이 됩니다]'}]]\n",
      "2024-03-20 20:48:45,958:INFO:[Controller][ai_search] AI Search Done! 1\n",
      "2024-03-20 20:48:45,958:INFO:[Controller][search] len(contexts_list) : 3\n",
      "2024-03-20 20:48:45,959:DEBUG:[Controller][search] contexts_list : [{'query': '외국인 전용 상품에 대해서 설명해주세요.', 'facts': ' 외국인 전용 상품 KB Welcome plus 적금 무료보험 가입 서비스 및 만기자금 자동 본국 송금 서비스 1. 상해안심보험 무료가입서비스로 몸도 맘도 안심 PLUS 일상생활 중 상해로 인한 사망 및 후유장해가 발생하는 경우, 최대 1천만원 보장 (KB손해보험 플러스사랑단체보험) 2.'}, {'query': '외국인 전용 상품에 대해서 설명해주세요.', 'facts': ' 환율/해외송금 수수료 우대 환전수수료 및 해외송금수수료 50% 우대(영업점 거래시)'}, {'query': '외국인 전용 상품에 대해서 설명해주세요.', 'facts': ' 연체료율 연 22.9%~26.9%(고객별/기간별 차등 적용)[신용카드 남용은 가계 경제에 위협이 됩니다]'}]\n",
      "2024-03-20 20:48:45,960:DEBUG:[Controller][search] question_list : ['외국인 전용 상품에 대해서 설명해주세요.', '외국인 전용 상품에 대해서 설명해주세요.', '외국인 전용 상품에 대해서 설명해주세요.']\n",
      "2024-03-20 20:48:47,124:DEBUG:[Controller][call_bison] Final response Len 3\n",
      "2024-03-20 20:48:47,126:INFO:[Controller][context_verifier] Question : 외국인 전용 상품에 대해서 설명해주세요., Verification Result : Yes\n",
      "2024-03-20 20:48:47,141:DEBUG:[Controller][call_bison] Final response Len 3\n",
      "2024-03-20 20:48:47,143:INFO:[Controller][context_verifier] Question : 외국인 전용 상품에 대해서 설명해주세요., Verification Result : Yes\n",
      "2024-03-20 20:48:47,203:DEBUG:[Controller][call_bison] Final response Len 3\n",
      "2024-03-20 20:48:47,204:INFO:[Controller][context_verifier] Question : 외국인 전용 상품에 대해서 설명해주세요., Verification Result : Yes\n",
      "2024-03-20 20:48:47,205:DEBUG:[Controller][search] verified_contexts : <generator object Executor.map.<locals>.result_iterator at 0x7a30308bb580>\n",
      "2024-03-20 20:48:47,206:DEBUG:[Controller][search] final_contexts : \n",
      "[Facts] :  외국인 전용 상품 KB Welcome plus 적금 무료보험 가입 서비스 및 만기자금 자동 본국 송금 서비스 1. 상해안심보험 무료가입서비스로 몸도 맘도 안심 PLUS 일상생활 중 상해로 인한 사망 및 후유장해가 발생하는 경우, 최대 1천만원 보장 (KB손해보험 플러스사랑단체보험) 2.\n",
      "[Facts] :  환율/해외송금 수수료 우대 환전수수료 및 해외송금수수료 50% 우대(영업점 거래시)\n",
      "[Facts] :  연체료율 연 22.9%~26.9%(고객별/기간별 차등 적용)[신용카드 남용은 가계 경제에 위협이 됩니다]\n",
      "2024-03-20 20:48:47,207:INFO:[Controller][search] Elapsed time : question_splitter[0.0007925033569335938] : ai_search 0.31159138679504395] : context_verifier [1.246917963027954] : Total search time : 1.5593018531799316 \n",
      "2024-03-20 20:48:47,207:DEBUG:[Controller][search] Final_outcome : \n",
      "[Facts] :  외국인 전용 상품 KB Welcome plus 적금 무료보험 가입 서비스 및 만기자금 자동 본국 송금 서비스 1. 상해안심보험 무료가입서비스로 몸도 맘도 안심 PLUS 일상생활 중 상해로 인한 사망 및 후유장해가 발생하는 경우, 최대 1천만원 보장 (KB손해보험 플러스사랑단체보험) 2.\n",
      "[Facts] :  환율/해외송금 수수료 우대 환전수수료 및 해외송금수수료 50% 우대(영업점 거래시)\n",
      "[Facts] :  연체료율 연 22.9%~26.9%(고객별/기간별 차등 적용)[신용카드 남용은 가계 경제에 위협이 됩니다]\n",
      "2024-03-20 20:48:49,261:DEBUG:[Controller][call_bison] Final response Len 228\n",
      "2024-03-20 20:48:49,262:DEBUG:[Controller][response] Prompt : \n",
      "        당신은 지식을 검색해서 상담해주는 AI 어시스턴트입니다.\n",
      "        아래 Question 에 대해서 반드시 [Facts]들에 있는 내용만을 참고해서 단계적으로 추론 후 요약해서 답변해주세요.\n",
      "        답변은 결론을 먼저 언급하고, 그 뒤에 이유를 최대한 상세하게 정리해서 답해주세요.\n",
      "        \n",
      "[Facts] :  외국인 전용 상품 KB Welcome plus 적금 무료보험 가입 서비스 및 만기자금 자동 본국 송금 서비스 1. 상해안심보험 무료가입서비스로 몸도 맘도 안심 PLUS 일상생활 중 상해로 인한 사망 및 후유장해가 발생하는 경우, 최대 1천만원 보장 (KB손해보험 플러스사랑단체보험) 2.\n",
      "[Facts] :  환율/해외송금 수수료 우대 환전수수료 및 해외송금수수료 50% 우대(영업점 거래시)\n",
      "[Facts] :  연체료율 연 22.9%~26.9%(고객별/기간별 차등 적용)[신용카드 남용은 가계 경제에 위협이 됩니다]\n",
      "        Question : 외국인 전용 상품에 대해서 설명해주세요.\n",
      "        \n",
      "2024-03-20 20:48:49,263:INFO:[Controller][response] Final_outcome : **결론:** KB Welcome plus 적금은 외국인 전용 상품으로, 무료 보험 가입과 만기자금 자동 본국 송금 서비스를 제공합니다.\n",
      "\n",
      "**이유:**\n",
      "* KB Welcome plus 적금은 외국인 전용 상품입니다.\n",
      "* 이 상품에는 상해안심보험이 무료로 가입되어 일상생활 중 상해로 인한 사망 및 후유장해에 최대 1천만원까지 보장됩니다.\n",
      "* 또한, 만기자금을 자동으로 본국으로 송금하는 서비스가 제공됩니다.\n",
      "2024-03-20 20:48:49,264:INFO:[Controller][response] Elapsed time : Search [1.5606555938720703 : LLM Request[2.055105447769165] : Total elapsed time : [3.6157610416412354] :  \n"
     ]
    }
   ],
   "source": [
    "from controller import Controller\n",
    "\n",
    "prod = False\n",
    "controller = Controller(prod)\n",
    "\n",
    "question = \"외국인 전용 상품에 대해서 설명해주세요.\"\n",
    "\n",
    "condition = {\n",
    "    \"mixed_question\" : False,\n",
    "    \"detailed_return\" : False,\n",
    "    \"answer_only\" : True\n",
    "}\n",
    "\n",
    "outcome = controller.response( question, condition )\n"
   ]
  },
  {
   "cell_type": "markdown",
   "metadata": {},
   "source": [
    "### Response with answers only"
   ]
  },
  {
   "cell_type": "code",
   "execution_count": 9,
   "metadata": {},
   "outputs": [
    {
     "name": "stderr",
     "output_type": "stream",
     "text": [
      "2024-03-20 20:22:10,213:INFO:[Controller][__init__] Controller.gemini_pro langchain : None\n",
      "2024-03-20 20:22:10,214:INFO:[Controller][__init__] Controller.gemini_pro native : <vertexai.preview.generative_models.GenerativeModel object at 0x7a30702e5b80>\n",
      "2024-03-20 20:22:10,215:INFO:[Controller][__init__] Controller.bison : <vertexai.language_models.TextGenerationModel object at 0x7a307039d790>\n",
      "2024-03-20 20:22:10,216:INFO:[Controller][__init__] Initialize Controller done!\n",
      "2024-03-20 20:22:10,218:INFO:[Controller][search] Simple Question Processing Start! : 외국인 전용 상품에 대해서 설명해주세요.\n",
      "2024-03-20 20:22:10,220:DEBUG:Making request: POST https://oauth2.googleapis.com/token\n",
      "2024-03-20 20:22:10,223:DEBUG:Starting new HTTPS connection (1): oauth2.googleapis.com:443\n",
      "2024-03-20 20:22:10,243:DEBUG:https://oauth2.googleapis.com:443 \"POST /token HTTP/1.1\" 200 None\n",
      "2024-03-20 20:22:10,247:DEBUG:Starting new HTTPS connection (1): discoveryengine.googleapis.com:443\n",
      "2024-03-20 20:22:10,347:DEBUG:https://discoveryengine.googleapis.com:443 \"POST /v1alpha/projects/721521243942/locations/global/collections/default_collection/dataStores/kb-demo-app-ds_1710962510509/servingConfigs/default_search:search HTTP/1.1\" 200 None\n",
      "2024-03-20 20:22:10,349:INFO:[Controller][retrieve_vertex_ai_search] Response len : 242\n",
      "2024-03-20 20:22:10,350:DEBUG:[Controller][retrieve_vertex_ai_search] Response : {\n",
      "  \"attributionToken\": \"e_B6CgwI8ortrwYQ5uO1mgESJDY1Zjg1M2I1LTAwMDAtMjBiNy04YTE5LTg4M2QyNGY2Zjc4YyIHR0VORVJJQyo8t7eMLY33pyLn7Ygt24-aIo6-nRWAspoi1LKdFeTtiC23maEig7KaIt6PmiKQ96ciwvCeFcXL8xejgJci\",\n",
      "  \"guidedSearchResult\": {},\n",
      "  \"summary\": {}\n",
      "}\n",
      "\n",
      "2024-03-20 20:22:10,354:INFO:[Controller][parse_discovery_results] serched_documents len : 0\n",
      "2024-03-20 20:22:10,355:DEBUG:[Controller][parse_discovery_results] serched_documents len : []\n",
      "2024-03-20 20:22:10,356:INFO:[Controller][ai_search] AI Search Done! 0\n"
     ]
    },
    {
     "ename": "IndexError",
     "evalue": "list index out of range",
     "output_type": "error",
     "traceback": [
      "\u001b[0;31m---------------------------------------------------------------------------\u001b[0m",
      "\u001b[0;31mIndexError\u001b[0m                                Traceback (most recent call last)",
      "\u001b[1;32m/home/admin_/rag_ai_search/unit_test/test_kb_bank.ipynb Cell 10\u001b[0m line \u001b[0;36m1\n\u001b[1;32m      <a href='vscode-notebook-cell://970-cs-1000207905015-default.cs-asia-east1-vger.cloudshell.dev/home/admin_/rag_ai_search/unit_test/test_kb_bank.ipynb#X12sdnNjb2RlLXJlbW90ZQ%3D%3D?line=5'>6</a>\u001b[0m question \u001b[39m=\u001b[39m \u001b[39m\"\u001b[39m\u001b[39m외국인 전용 상품에 대해서 설명해주세요.\u001b[39m\u001b[39m\"\u001b[39m\n\u001b[1;32m      <a href='vscode-notebook-cell://970-cs-1000207905015-default.cs-asia-east1-vger.cloudshell.dev/home/admin_/rag_ai_search/unit_test/test_kb_bank.ipynb#X12sdnNjb2RlLXJlbW90ZQ%3D%3D?line=7'>8</a>\u001b[0m condition \u001b[39m=\u001b[39m {\n\u001b[1;32m      <a href='vscode-notebook-cell://970-cs-1000207905015-default.cs-asia-east1-vger.cloudshell.dev/home/admin_/rag_ai_search/unit_test/test_kb_bank.ipynb#X12sdnNjb2RlLXJlbW90ZQ%3D%3D?line=8'>9</a>\u001b[0m     \u001b[39m\"\u001b[39m\u001b[39mmixed_question\u001b[39m\u001b[39m\"\u001b[39m : \u001b[39mFalse\u001b[39;00m,\n\u001b[1;32m     <a href='vscode-notebook-cell://970-cs-1000207905015-default.cs-asia-east1-vger.cloudshell.dev/home/admin_/rag_ai_search/unit_test/test_kb_bank.ipynb#X12sdnNjb2RlLXJlbW90ZQ%3D%3D?line=9'>10</a>\u001b[0m     \u001b[39m\"\u001b[39m\u001b[39mdetailed_return\u001b[39m\u001b[39m\"\u001b[39m : \u001b[39mFalse\u001b[39;00m,\n\u001b[1;32m     <a href='vscode-notebook-cell://970-cs-1000207905015-default.cs-asia-east1-vger.cloudshell.dev/home/admin_/rag_ai_search/unit_test/test_kb_bank.ipynb#X12sdnNjb2RlLXJlbW90ZQ%3D%3D?line=10'>11</a>\u001b[0m     \u001b[39m\"\u001b[39m\u001b[39manswer_only\u001b[39m\u001b[39m\"\u001b[39m : \u001b[39mTrue\u001b[39;00m\n\u001b[1;32m     <a href='vscode-notebook-cell://970-cs-1000207905015-default.cs-asia-east1-vger.cloudshell.dev/home/admin_/rag_ai_search/unit_test/test_kb_bank.ipynb#X12sdnNjb2RlLXJlbW90ZQ%3D%3D?line=11'>12</a>\u001b[0m }\n\u001b[0;32m---> <a href='vscode-notebook-cell://970-cs-1000207905015-default.cs-asia-east1-vger.cloudshell.dev/home/admin_/rag_ai_search/unit_test/test_kb_bank.ipynb#X12sdnNjb2RlLXJlbW90ZQ%3D%3D?line=13'>14</a>\u001b[0m outcome \u001b[39m=\u001b[39m controller\u001b[39m.\u001b[39;49mresponse( question, condition )\n",
      "File \u001b[0;32m~/rag_ai_search/src/controller.py:94\u001b[0m, in \u001b[0;36mController.response\u001b[0;34m(self, question, condition)\u001b[0m\n\u001b[1;32m     91\u001b[0m answer_only \u001b[39m=\u001b[39m condition[\u001b[39m'\u001b[39m\u001b[39manswer_only\u001b[39m\u001b[39m'\u001b[39m]\n\u001b[1;32m     93\u001b[0m t1 \u001b[39m=\u001b[39m time\u001b[39m.\u001b[39mtime()\n\u001b[0;32m---> 94\u001b[0m final_contexts \u001b[39m=\u001b[39m \u001b[39mself\u001b[39;49m\u001b[39m.\u001b[39;49msearch(question, condition)\n\u001b[1;32m     96\u001b[0m t2 \u001b[39m=\u001b[39m time\u001b[39m.\u001b[39mtime()\n\u001b[1;32m     97\u001b[0m prompt \u001b[39m=\u001b[39m PromptTemplate\u001b[39m.\u001b[39mfrom_template(\u001b[39m\"\"\"\u001b[39m\n\u001b[1;32m     98\u001b[0m \u001b[39m당신은 지식을 검색해서 상담해주는 AI 어시스턴트입니다.\u001b[39m\n\u001b[1;32m     99\u001b[0m \u001b[39m아래 Question 에 대해서 반드시 [Facts]들에 있는 내용만을 참고해서 단계적으로 추론 후 요약해서 답변해주세요.\u001b[39m\n\u001b[0;32m   (...)\u001b[0m\n\u001b[1;32m    102\u001b[0m \u001b[39mQuestion : \u001b[39m\u001b[39m{question}\u001b[39;00m\n\u001b[1;32m    103\u001b[0m \u001b[39m\u001b[39m\u001b[39m\"\"\"\u001b[39m)\n",
      "File \u001b[0;32m~/rag_ai_search/src/controller.py:175\u001b[0m, in \u001b[0;36mController.search\u001b[0;34m(self, question, condition)\u001b[0m\n\u001b[1;32m    173\u001b[0m \u001b[39m# Search contexts from the question directly in the different way which one question is searched. \u001b[39;00m\n\u001b[1;32m    174\u001b[0m contexts \u001b[39m=\u001b[39m \u001b[39mself\u001b[39m\u001b[39m.\u001b[39mai_search(question, answer_only )\n\u001b[0;32m--> 175\u001b[0m contexts_list \u001b[39m=\u001b[39m contexts[\u001b[39m0\u001b[39;49m]\n\u001b[1;32m    177\u001b[0m logging\u001b[39m.\u001b[39minfo(\u001b[39mf\u001b[39m\u001b[39m\"\u001b[39m\u001b[39m[Controller][search] len(contexts_list) : \u001b[39m\u001b[39m{\u001b[39;00m\u001b[39mlen\u001b[39m(contexts_list)\u001b[39m}\u001b[39;00m\u001b[39m\"\u001b[39m)\n\u001b[1;32m    178\u001b[0m logging\u001b[39m.\u001b[39mdebug(\u001b[39mf\u001b[39m\u001b[39m\"\u001b[39m\u001b[39m[Controller][search] contexts_list : \u001b[39m\u001b[39m{\u001b[39;00mcontexts_list\u001b[39m}\u001b[39;00m\u001b[39m\"\u001b[39m)\n",
      "\u001b[0;31mIndexError\u001b[0m: list index out of range"
     ]
    }
   ],
   "source": [
    "from controller import Controller\n",
    "\n",
    "prod = False\n",
    "controller = Controller(prod)\n",
    "\n",
    "question = \"외국인 전용 상품에 대해서 설명해주세요.\"\n",
    "\n",
    "condition = {\n",
    "    \"mixed_question\" : False,\n",
    "    \"detailed_return\" : False,\n",
    "    \"answer_only\" : True\n",
    "}\n",
    "\n",
    "outcome = controller.response( question, condition )"
   ]
  },
  {
   "cell_type": "markdown",
   "metadata": {},
   "source": [
    "### Search with segments"
   ]
  },
  {
   "cell_type": "code",
   "execution_count": null,
   "metadata": {},
   "outputs": [],
   "source": [
    "from controller import Controller\n",
    "prod = False\n",
    "controller = Controller(prod)\n",
    "\n",
    "question = \"전결에 대해서 설명해주세요.\"\n",
    "condition = {\n",
    "    \"mixed_question\" : False,\n",
    "    \"detailed_return\" : False,\n",
    "    \"answer_only\" : False\n",
    "}\n",
    "\n",
    "outcome = controller.search( question, condition )\n",
    "print(outcome)"
   ]
  },
  {
   "cell_type": "markdown",
   "metadata": {},
   "source": [
    "### Response with Answers only"
   ]
  },
  {
   "cell_type": "code",
   "execution_count": 19,
   "metadata": {},
   "outputs": [
    {
     "name": "stderr",
     "output_type": "stream",
     "text": [
      "2024-03-12 03:46:36,736:INFO:[Controller][__init__] Controller.gemini_pro langchain : None\n",
      "2024-03-12 03:46:36,737:INFO:[Controller][__init__] Controller.gemini_pro native : <vertexai.preview.generative_models.GenerativeModel object at 0x7fc5f73224c0>\n",
      "2024-03-12 03:46:36,738:INFO:[Controller][__init__] Controller.bison : <vertexai.language_models.TextGenerationModel object at 0x7fc5f51008b0>\n",
      "2024-03-12 03:46:36,739:INFO:[Controller][__init__] Initialize Controller done!\n",
      "2024-03-12 03:46:36,740:INFO:[Controller][search] Simple Question Processing Start! : 전결에 대해서 설명해주세요.\n",
      "2024-03-12 03:46:37,551:INFO:[Controller][retrieve_vertex_ai_search] Response len : 5304\n",
      "2024-03-12 03:46:37,557:INFO:[Controller][parse_discovery_results] serched_documents len : 1\n",
      "2024-03-12 03:46:37,558:INFO:[Controller][ai_search] AI Search Done! 1\n",
      "2024-03-12 03:46:37,559:INFO:[Controller][search] len(contexts_list) : 3\n",
      "2024-03-12 03:46:38,651:INFO:[Controller][context_verifier] Question : 전결에 대해서 설명해주세요., Verification Result : Yes\n",
      "2024-03-12 03:46:38,867:INFO:[Controller][context_verifier] Question : 전결에 대해서 설명해주세요., Verification Result : Yes\n",
      "2024-03-12 03:46:38,981:INFO:[Controller][context_verifier] Question : 전결에 대해서 설명해주세요., Verification Result : Yes\n",
      "2024-03-12 03:46:38,983:INFO:[Controller][search] Elapsed time : question_splitter[0.0008666515350341797] : ai_search 0.8191349506378174] : context_verifier [1.4227185249328613] : Total search time : 2.242720127105713 \n"
     ]
    },
    {
     "name": "stdout",
     "output_type": "stream",
     "text": [
      "\n",
      "[Facts] :  결재하기 | 295 전결 전결이란 최종 결재자 이전에 있는 결재자가 문서를 승인하고 결재 처리를 완료하는 것입니다. 문서의 중요도에 따라 최종 결재자에게 결재 업무가 과중되는 경우 전결처리를 할 수 있습니다.내가 최종 결재자이면 기안된 문서는 결재 완료 처리되고, 다음 결재자가 있는 경우 다음 결재자에게 전달 됩니다. 반려된 문서는 기안자에게 넘어가며, 기안자는 재기안을 클릭하여 결재를 다시 요청할 수 있습니 다.\n",
      "[Facts] :  금액에 대해 기안자가 전결권자인 경우, 차상위자의 결재를 받음 - 기안자가 금액에 대한 전결권이 있더라도 차상위 결재권자의 결재가 필요한 문서의 경우 체크하여 사용합니다.부서 설정 추가 - 자동결재선 설정 영역이 추가되어 부서별 자동결재선 설정이 가능합니다 8.\n",
      "[Facts] :  ■ 공문발송 기능 - 결재 문서가 완료되면 지정된 공문 수신처로 메일을 통해 결재 문서가 자동으로 메발 이 발 송되는 기능을 사용할 것인지를 선택합니다. ○ 권한/보안 ■ 전결 옵션 - 최종 결재자 이전에 있는 결재자가 결재를 하고, 결재를 완료하는 것을 전결이라고 합니이 양식을 일부에게만 노출하려면 일부 사용자를 선택하 고, 사용자나 그룹, 부서 등을 노출하려는 대상을 선택합니다.\n"
     ]
    }
   ],
   "source": [
    "from controller import Controller\n",
    "prod = False\n",
    "controller = Controller(prod)\n",
    "\n",
    "question = \"전결에 대해서 설명해주세요.\"\n",
    "condition = {\n",
    "    \"mixed_question\" : False,\n",
    "    \"detailed_return\" : False,\n",
    "    \"answer_only\" : True\n",
    "}\n",
    "\n",
    "outcome = controller.search( question, condition )\n",
    "print(outcome)"
   ]
  },
  {
   "cell_type": "markdown",
   "metadata": {},
   "source": [
    "### Response with segments"
   ]
  },
  {
   "cell_type": "code",
   "execution_count": 20,
   "metadata": {},
   "outputs": [
    {
     "name": "stdout",
     "output_type": "stream",
     "text": [
      "E0320 20:55:50.963449305    5026 backup_poller.cc:127]                 Run client channel backup poller: UNKNOWN:pollset_work {created_time:\"2024-03-20T20:55:50.963246628+00:00\", children:[UNKNOWN:Bad file descriptor {created_time:\"2024-03-20T20:55:50.963176386+00:00\", errno:9, os_error:\"Bad file descriptor\", syscall:\"epoll_wait\"}]}\n",
      "{\"result\": \"**결론:** KB Welcome plus 적금은 외국인을 위한 상품으로, 무료 보험 가입, 만기자금 자동 본국 송금, 우대 이율 등의 혜택을 제공합니다.\\n\\n**이유:**\\n\\n* **무료 보험 가입:** 일상생활 중 상해로 인한 사망 또는 후유장해 발생 시 최대 1천만원 보장\\n* **만기자금 자동 본국 송금:** 만기 시 내점이 어려운 경우 자동 해지처리 후 사전 지정한 본국 계좌로 만기자금 송금\\n* **우대 이율:** KB WELCOME 통장과 카드 패키지 보유 시 연 0.3% 우대이율 제공, 해외송금서비스 이용 시 연 0.1~0.2% 우대이율 제공\"}"
     ]
    }
   ],
   "source": [
    "!curl -X POST https://kb-bank-run-o5gpdmpuwq-du.a.run.app/response_segments -H 'Content-Type: application/json' -d '{\"question\":\"외국인 전용 상품에 대해서 설명해주세요.\"}'"
   ]
  },
  {
   "cell_type": "markdown",
   "metadata": {},
   "source": [
    "### Response with Answers only"
   ]
  },
  {
   "cell_type": "code",
   "execution_count": 21,
   "metadata": {},
   "outputs": [
    {
     "name": "stdout",
     "output_type": "stream",
     "text": [
      "{\"result\": \"**결론:** 외국인 전용 상품인 KB Welcome plus 적금은 무료 보험 가입, 만기자금 자동 본국 송금, 환율/해외송금 수수료 우대 등의 혜택을 제공합니다.\\n\\n**이유:**\\n* **무료 보험 가입:** 상해안심보험 무료가입으로 일상생활 중 상해로 인한 사망 및 후유장해에 최대 1천만원까지 보장됩니다.\\n* **만기자금 자동 본국 송금:** 적금 만기 시 자금이 자동으로 본국으로 송금됩니다.\\n* **환율/해외송금 수수료 우대:** 영업점 거래 시 환전수수료 및 해외송금수수료가 50% 우대됩니다.\"}"
     ]
    }
   ],
   "source": [
    "!curl -X POST https://kb-bank-run-o5gpdmpuwq-du.a.run.app/response_answers -H 'Content-Type: application/json' -d '{\"question\":\"외국인 전용 상품에 대해서 설명해주세요.\"}'"
   ]
  },
  {
   "cell_type": "markdown",
   "metadata": {},
   "source": [
    "### Search with Segments"
   ]
  },
  {
   "cell_type": "code",
   "execution_count": 22,
   "metadata": {},
   "outputs": [
    {
     "name": "stdout",
     "output_type": "stream",
     "text": [
      "{\"result\": \"\\n[Facts] :  외국인 전용 상품 KB Welcome plus 적금 무료보험 가입 서비스 및 만기자금 자동 본국 송금 서비스 1. 상해안심보험 무료가입서비스로 몸도 맘도 안심 PLUS 일상생활 중 상해로 인한 사망 및 후유장해가 발생하는 경우, 최대 1천만원 보장 (KB손해보험 플러스사랑단체보험) 2. 외국인 전용 상품\\nKB Welcome plus 적금\\n\\n무료보험 가입 서비스 및 만기자금 자동 본국 송금 서비스\\n\\n1. 상해안심보험 무료가입서비스로 몸도 맘도 안심 PLUS\\n일상생활 중 상해로 인한 사망 및 후유장해가 발생하는 경우, 최대 1천만원 보장\\n(KB손해보험 플러스사랑단체보험)\\n\\n2. 만기자금 자동 본국송금 서비스로 어디에 있어도 안심 PLUS\\n만기 시 내점이 어려운 경우를 대비해 만기일로부터 15영업일이 경과한 날,\\n해당 적금을 자동 해지처리하여 사전에 지정한 본국해외계좌로 만기자금을 송금\\n\\n3. WELCOME PACKAGE 우대이율 PLUS!\\nKB WELCOME 통장과 카드 패키지 보유 시 연 0.3% 우대이율 제공\\n해외송금서비스 이용 시 1회 이상 연 0.1%, 3회 이상 연 0.2% 우대이율 제공\\n[Facts] :  환율/해외송금 수수료 우대 환전수수료 및 해외송금수수료 50% 우대(영업점 거래시) 외국인 전용 상품\\n\\nKB Welcome 통장.\\n전자 금융/ 자동화 기기 수수료 및 환율 / 해외 송금 수수료 우대.\\n\\n혜택1. 전자금융/자동화기기 수수료 면제\\nKB국민카드(체크카드,신용카드포함/선불카드제외) 결제실적 또는 외화 송금 보낸 실적\\n있으면, 전자금융 타행이체수수료 및 KB자동화기기 시간외 출금수수료 면제\\n(은행외부장소 설치된 타행제휴 기기 및 Van사기기 제외)\\n\\n혜택2. 환율/해외송금 수수료 우대\\n환전수수료 및 해외송금수수료 50% 우대(영업점 거래시)\\n[Facts] :  연체���율 연 22.9%~26.9%(고객별/기간별 차등 적용)[신용카드 남용은 가계 경제에 위협이 됩니다] 외국인 전용 상품\\n\\nKB Welcome 카드\\n\\n상품명. : \\nKB 국민 Welcome 체크카드, KB 국민 Welcome Plus 체크카드, KB 국민 탄찬대로 웰컴 신용카드\\n\\nKB국민 WELCOME 체크카드\\n혜택1. 대중교통(버스,지하철) 5% 청구할인\\n월 이용금액 3만원까지 할인 ※전월 이용금액 30만원 이상 시 적용\\n\\n혜택2. 영화(CGV, 메가박스) 20% 환급할인\\n건당 1만원 이상 시 할인(1회 최대 4천원 할인) ※전월 이용금액 20만원 이상 시 제공\\n\\n혜택3. 올리브영 10% 환급할인\\n건당 3만원 이상 시 할인(1회 최대 5천원 할인) ※전월 이용금액 20만원 이상 시 제공\\n\\nKB국민 WELCOME PLUS 체크카드\\n혜택1. 티머니(T-money) 선불카드 충전으로 대중교통 이용 가능\\n\\n혜택2. 대형마트(이마트,롯데마트,홈플러스) 주말 5% 할인\\n건당 3만원 이상 시 할인(1회 최대 5천원 할인) ※전월 이용금액 20만원 이상 시 제공\\n\\n혜택3. 놀이공원(에버랜드,롯데월드,서울랜드) 30% 할인\\n건당 3만원 이상 시 할인(1회 최대 15천원 할인) ※전월 이용금액 20만원 이상 시 제공\\n\\nKB국민 탄탄대로 웰컴 신용카드\\n혜택1. 백화점(롯데,신세계,현대) 10% 청구할인\\n월 최대 1만4천원 할인 ※상품권 및 온라인쇼핑몰 이용분 제외\\n\\n혜택2. 대중교통(버스,지하철), 택시 5% 청구할인\\n월 최대 3천원 할인 ※시외, 고속버스 이용분 제외\\n\\n혜택3. 음식점 5% 청구할인\\n월 최대 3천원 할인 ※ 용산구,영등포구,단원구 소재 음식업종 등록된 가맹점\\n\\n혜택4. 에버랜드 자유이용권 50%, 캐리비안베이 입장권 30% 현장할인\\n※ 카드별(가족카드 포함)1일1매, 에버랜드자유이용권은 회원별 연간 10매 이내\\n\\n※ 계약 체결 전 상세한 혜택 및 이용조건은 홈페이지 상품설명 및 약관을 참조하시기 바랍니다.\\n연체료율 연 22.9%~26.9%(고객별/기간별 차등 적용)[신용카드 남용은 가계 경제에 위협이 됩니다]\"}"
     ]
    }
   ],
   "source": [
    "!curl -X POST https://kb-bank-run-o5gpdmpuwq-du.a.run.app/search_segments -H 'Content-Type: application/json' -d '{\"question\":\"외국인 전용 상품에 대해서 설명해주세요.\"}'"
   ]
  },
  {
   "cell_type": "markdown",
   "metadata": {},
   "source": [
    "### Search with Answers"
   ]
  },
  {
   "cell_type": "code",
   "execution_count": 23,
   "metadata": {},
   "outputs": [
    {
     "name": "stdout",
     "output_type": "stream",
     "text": [
      "E0320 20:57:25.963545193    5117 backup_poller.cc:127]                 Run client channel backup poller: UNKNOWN:pollset_work {created_time:\"2024-03-20T20:57:25.963203051+00:00\", children:[UNKNOWN:Bad file descriptor {created_time:\"2024-03-20T20:57:25.963115721+00:00\", errno:9, os_error:\"Bad file descriptor\", syscall:\"epoll_wait\"}]}\n",
      "{\"result\": \"\\n[Facts] :  외국인 전용 상품 KB Welcome plus 적금 무료보험 가입 서비스 및 만기자금 자동 본국 송금 서비스 1. 상해안심보험 무료가입서비스로 몸도 맘도 안심 PLUS 일상생활 중 상해로 인한 사망 및 후유장해가 발생하는 경우, 최대 1천만원 보장 (KB손해보험 플러스사랑단체보험) 2.\\n[Facts] :  환율/해외송금 수수료 우대 환전수수료 및 해외송금수수료 50% 우대(영업점 거래시)\\n[Facts] :  연체료율 연 22.9%~26.9%(고객별/기간별 차등 적용)[신용카드 남용은 가계 경제에 위협이 됩니다]\"}"
     ]
    }
   ],
   "source": [
    "!curl -X POST https://kb-bank-run-o5gpdmpuwq-du.a.run.app/search_answers -H 'Content-Type: application/json' -d '{\"question\":\"외국인 전용 상품에 대해서 설명해주세요.\"}'"
   ]
  },
  {
   "cell_type": "code",
   "execution_count": null,
   "metadata": {},
   "outputs": [],
   "source": []
  }
 ],
 "metadata": {
  "kernelspec": {
   "display_name": "CloudRun_Search-3qrz3MGx",
   "language": "python",
   "name": "python3"
  },
  "language_info": {
   "codemirror_mode": {
    "name": "ipython",
    "version": 3
   },
   "file_extension": ".py",
   "mimetype": "text/x-python",
   "name": "python",
   "nbconvert_exporter": "python",
   "pygments_lexer": "ipython3",
   "version": "3.9.2"
  }
 },
 "nbformat": 4,
 "nbformat_minor": 2
}
