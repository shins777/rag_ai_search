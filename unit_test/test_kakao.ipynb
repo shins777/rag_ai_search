{
 "cells": [
  {
   "cell_type": "markdown",
   "metadata": {},
   "source": [
    "### Core count"
   ]
  },
  {
   "cell_type": "markdown",
   "metadata": {},
   "source": [
    "Check number of cores"
   ]
  },
  {
   "cell_type": "code",
   "execution_count": 2,
   "metadata": {},
   "outputs": [
    {
     "name": "stdout",
     "output_type": "stream",
     "text": [
      "4\n"
     ]
    }
   ],
   "source": [
    "!nproc"
   ]
  },
  {
   "cell_type": "markdown",
   "metadata": {},
   "source": [
    "### Initialize env."
   ]
  },
  {
   "cell_type": "code",
   "execution_count": 3,
   "metadata": {},
   "outputs": [],
   "source": [
    "%load_ext autoreload\n",
    "%autoreload 2\n",
    "\n",
    "import sys\n",
    "import os\n",
    "import time\n",
    "\n",
    "directory = os.getcwd()\n",
    "# Append sys path to refer utils.\n",
    "sys.path.append(\"../src\")\n",
    "\n",
    "import logging\n",
    "logging.basicConfig(level=logging.INFO)\n"
   ]
  },
  {
   "cell_type": "code",
   "execution_count": 5,
   "metadata": {},
   "outputs": [
    {
     "name": "stderr",
     "output_type": "stream",
     "text": [
      "INFO:root:[Controller][__init__] Controller.gemini_pro langchain : None\n",
      "INFO:root:[Controller][__init__] Controller.gemini_pro native : <vertexai.preview.generative_models.GenerativeModel object at 0x7dd40417d280>\n",
      "INFO:root:[Controller][__init__] Controller.bison : <vertexai.language_models.TextGenerationModel object at 0x7dd3c4193850>\n",
      "INFO:root:[Controller][__init__] Initialize Controller done!\n",
      "INFO:root:[Controller][search] Simple Question Processing Start! : 피보험자가 북한산을 오르다가 낙사했습니다. 이 경우 보험금을 지급해야 할까요? 자세하게 설명해 주세요.\n",
      "DEBUG:google.auth.transport.requests:Making request: POST https://oauth2.googleapis.com/token\n",
      "DEBUG:urllib3.connectionpool:Starting new HTTPS connection (1): oauth2.googleapis.com:443\n",
      "DEBUG:urllib3.connectionpool:https://oauth2.googleapis.com:443 \"POST /token HTTP/1.1\" 200 None\n",
      "DEBUG:urllib3.connectionpool:Starting new HTTPS connection (1): discoveryengine.googleapis.com:443\n",
      "DEBUG:urllib3.connectionpool:https://discoveryengine.googleapis.com:443 \"POST /v1alpha/projects/721521243942/locations/global/collections/default_collection/dataStores/sfmi-terms-3pages_1709450948832/servingConfigs/default_search:search HTTP/1.1\" 200 None\n",
      "INFO:root:[Controller][retrieve_vertex_ai_search] Response len : 3564\n",
      "DEBUG:root:[Controller][retrieve_vertex_ai_search] Response : {\n",
      "  \"results\": [\n",
      "    {\n",
      "      \"id\": \"28410feb096c37b669da638b4bbd0d97\",\n",
      "      \"document\": {\n",
      "        \"name\": \"projects/721521243942/locations/global/collections/default_collection/dataStores/sfmi-terms-3pages_1709450948832/branches/0/documents/28410feb096c37b669da638b4bbd0d97\",\n",
      "        \"id\": \"28410feb096c37b669da638b4bbd0d97\",\n",
      "        \"derivedStructData\": {\n",
      "          \"title\": \"삼성화재_건강보험_마이헬스_파트너_page_816\",\n",
      "          \"extractive_segments\": [\n",
      "            {\n",
      "              \"pageNumber\": \"2\",\n",
      "              \"content\": \"7) 계약 종료 이후 금융소비자가 청약에 필요한 사항을 금융상품직접판매업자에 알\\n리지 않고 해당 금융상품에 관한 계약을 다시 체결할 수 있는 보장성 상품 : 가입\\n조건 및 보장내용 등의 변경에 관한 사항\\n사. 그 밖에 보통의 주의력을 가진 일반적인 금융소비자가 오해하기 쉬워 민원이 빈발\\n하는 사항 등 보험금 지급 등 서비스 제공과 관하여 일반금융소비자가 특히 유의해\\n야할 사항\\n2. (생략)\"\n",
      "            }\n",
      "          ],\n",
      "          \"extractive_answers\": [\n",
      "            {\n",
      "              \"pageNumber\": \"2\",\n",
      "              \"content\": \"해약\\u003cb\\u003e을\\u003c/b\\u003e 하거나 만기에 이른 \\u003cb\\u003e경우\\u003c/b\\u003e에 각각 금융소비자에 돌려주어야 하는 금액(이하 &quot;환급금&quot;이라 한다) 및 산출근거.\"\n",
      "            }\n",
      "          ],\n",
      "          \"link\": \"gs://sfmi-test/sfmi_terms_3pages_divided/삼성화재_건강보험_마이헬스_파트너_page_816.pdf\"\n",
      "        }\n",
      "      }\n",
      "    },\n",
      "    {\n",
      "      \"id\": \"3a32f88f8afe5e378136670d2eb6b61f\",\n",
      "      \"document\": {\n",
      "        \"name\": \"projects/721521243942/locations/global/collections/default_collection/dataStores/sfmi-terms-3pages_1709450948832/branches/0/documents/3a32f88f8afe5e378136670d2eb6b61f\",\n",
      "        \"id\": \"3a32f88f8afe5e378136670d2eb6b61f\",\n",
      "        \"derivedStructData\": {\n",
      "          \"title\": \"삼성화재_건강보험_마이헬스_파트너_page_66\",\n",
      "          \"extractive_segments\": [\n",
      "            {\n",
      "              \"content\": \"제5관 보험료의 납입\\n\\n제29조(제1회 보험료 및 회사의 보장개시)\\n① 회사는 계약의 청약을 승낙하고 제1회 보험료를 받은 때부터 이 약관이 정한 바에 따\\n라 보장을 합니다. 또한, 회사가 청약과 함께 제1회 보험료를 받은 후 승낙한 경우에\\n도 제1회 보험료를 받은 때부터 보장이 개시됩니다. 자동이체 또는 신용카드로 납입\\n하는 경우에는 자동이체신청 또는 신용카드매출승인에 필요한 정보를 제공한 때를 제\\n1회 보험료를 받은 때로 하며, 계약자의 책임 있는 사유로 자동이체 또는 매출승인이\\n불가능한 경우에는 보험료가 납입되지 않은 것으로 봅니다.\\n② 회사가 청약과 함께 제1회 보험료를 받고 청약을 승낙하기 전에 보험금 지급사유가\\n발생하였을 때에도 보장개시일부터 이 약관이 정하는 바에 따라 보장을 합니다.\\n\\u003c용어풀이\\u003e\\n\\n[보장개시일]\\n회사가 보장을 개시하는 날로서 계약이 성립되고 제1회 보험료를 받은 날을 말하나, 회사가 승낙\\n하기 전이라도 청약과 함께 제1회 보험료를 받은 경우에는 제1회 보험료를 받은 날을 말합니다.\\n또한, 보장개시일을 계약일로 봅니다.\\n③ 회사는 제2항에도 불구하고 다음 중 한 가지에 해당되는 경우에는 보장을 하지 않습\\n니다.\\n1. 제18조(계약 전 알릴 의무)에 따라 계약자 또는 피보험자가 회사에 알린 내용이나\\n건강진단 내용이 보험금 지급사유의 발생에 영향을 미쳤음을 회사가 증명하는 경\\n우\\n2. 제20조(알릴 의무 위반의 효과)를 준용하여 회사가 보장을 하지 않을 수 있는 경우\\n3. 진단계약에서 보험금 지급사유가 발생할 때까지 진단을 받지 않은 경우. 다만, 진\\n단계약에서 진단을 받지 않은 경우라도 상해로 보험금 지급사유가 발생하는 경우\\n에는 보장을 해드립니다.\\n\\n제30조(제2회 이후 보험료의 납입)\\n계약자는 제2회 이후의 보험료를 납입기일까지 납입하여야 하며, 회사는 계약자가 보험\\n료를 납입한 경우에는 영수증을 발행하여 드립니다. 다만, 금융회사(우체국을 포함합니\\n다)를 통하여 보험료를 납입한 경우에는 그 금융회사 발행 증빙서류를 영수증으로 대신합\",\n",
      "              \"pageNumber\": \"1\"\n",
      "            }\n",
      "          ],\n",
      "          \"link\": \"gs://sfmi-test/sfmi_terms_3pages_divided/삼성화재_건강보험_마이헬스_파트너_page_66.pdf\",\n",
      "          \"extractive_answers\": [\n",
      "            {\n",
      "              \"pageNumber\": \"1\",\n",
      "              \"content\": \"또한, 회사\\u003cb\\u003e가\\u003c/b\\u003e 청약과 함께 제1회 보험료를 받은 후 승낙한 \\u003cb\\u003e경우\\u003c/b\\u003e에 도 제1회 보험료를 받은 때부터 보장\\u003cb\\u003e이\\u003c/b\\u003e 개시됩니다.\"\n",
      "            }\n",
      "          ]\n",
      "        }\n",
      "      }\n",
      "    }\n",
      "  ],\n",
      "  \"totalSize\": 809,\n",
      "  \"attributionToken\": \"e_B6CgwIx5PtrwYQ9sq5pQISJDY1ZmE4YWFjLTAwMDAtMjdiYS04NmNlLTE0MjIzYmM3YTVmNiIHR0VORVJJQyo824-aIt6PmiKQ96ciwvCeFaOAlyLFy_MXtreMLbeZoSKDspoijr6dFYCymiLUsp0V5O2ILY33pyLn7Ygt\",\n",
      "  \"nextPageToken\": \"gNmVTY3MmYzIjM0ETLlNmN40SYidjMtADMwATLiFWY4EmZ1YDJaMQhN-okQYwr8z_xIwgEyEgC\",\n",
      "  \"guidedSearchResult\": {},\n",
      "  \"summary\": {}\n",
      "}\n",
      "\n",
      "INFO:root:[Controller][parse_discovery_results] serched_documents len : 1\n",
      "DEBUG:root:[Controller][parse_discovery_results] serched_documents len : [[{'query': '피보험자가 북한산을 오르다가 낙사했습니다. 이 경우 보험금을 지급해야 할까요? 자세하게 설명해 주세요.', 'facts': ' 해약을 하거나 만기에 이른 경우에 각각 금융소비자에 돌려주어야 하는 금액(이하 환급금이라 한다) 및 산출근거.'}, {'query': '피보험자가 북한산을 오르다가 낙사했습니다. 이 경우 보험금을 지급해야 할까요? 자세하게 설명해 주세요.', 'facts': ' 또한, 회사가 청약과 함께 제1회 보험료를 받은 후 승낙한 경우에 도 제1회 보험료를 받은 때부터 보장이 개시됩니다.'}]]\n",
      "INFO:root:[Controller][ai_search] AI Search Done! 1\n",
      "INFO:root:[Controller][search] len(contexts_list) : 2\n",
      "DEBUG:root:[Controller][search] contexts_list : [{'query': '피보험자가 북한산을 오르다가 낙사했습니다. 이 경우 보험금을 지급해야 할까요? 자세하게 설명해 주세요.', 'facts': ' 해약을 하거나 만기에 이른 경우에 각각 금융소비자에 돌려주어야 하는 금액(이하 환급금이라 한다) 및 산출근거.'}, {'query': '피보험자가 북한산을 오르다가 낙사했습니다. 이 경우 보험금을 지급해야 할까요? 자세하게 설명해 주세요.', 'facts': ' 또한, 회사가 청약과 함께 제1회 보험료를 받은 후 승낙한 경우에 도 제1회 보험료를 받은 때부터 보장이 개시됩니다.'}]\n",
      "DEBUG:root:[Controller][search] question_list : ['피보험자가 북한산을 오르다가 낙사했습니다. 이 경우 보험금을 지급해야 할까요? 자세하게 설명해 주세요.', '피보험자가 북한산을 오르다가 낙사했습니다. 이 경우 보험금을 지급해야 할까요? 자세하게 설명해 주세요.']\n",
      "DEBUG:root:[Controller][call_bison] Final response Len 3\n",
      "INFO:root:[Controller][context_verifier] Question : 피보험자가 북한산을 오르다가 낙사했습니다. 이 경우 보험금을 지급해야 할까요? 자세하게 설명해 주세요., Verification Result : Yes\n",
      "DEBUG:root:[Controller][call_bison] Final response Len 3\n",
      "INFO:root:[Controller][context_verifier] Question : 피보험자가 북한산을 오르다가 낙사했습니다. 이 경우 보험금을 지급해야 할까요? 자세하게 설명해 주세요., Verification Result : Yes\n",
      "DEBUG:root:[Controller][search] verified_contexts : <generator object Executor.map.<locals>.result_iterator at 0x7dd3e0565f90>\n",
      "DEBUG:root:[Controller][search] final_contexts : \n",
      "[Facts] :  해약을 하거나 만기에 이른 경우에 각각 금융소비자에 돌려주어야 하는 금액(이하 환급금이라 한다) 및 산출근거.\n",
      "[Facts] :  또한, 회사가 청약과 함께 제1회 보험료를 받은 후 승낙한 경우에 도 제1회 보험료를 받은 때부터 보장이 개시됩니다.\n",
      "INFO:root:[Controller][search] Elapsed time : question_splitter[0.000993490219116211] : ai_search 0.3493502140045166] : context_verifier [1.1944177150726318] : Total search time : 1.5447614192962646 \n",
      "DEBUG:root:[Controller][search] Final_outcome : \n",
      "[Facts] :  해약을 하거나 만기에 이른 경우에 각각 금융소비자에 돌려주어야 하는 금액(이하 환급금이라 한다) 및 산출근거.\n",
      "[Facts] :  또한, 회사가 청약과 함께 제1회 보험료를 받은 후 승낙한 경우에 도 제1회 보험료를 받은 때부터 보장이 개시됩니다.\n",
      "DEBUG:root:[Controller][call_bison] Final response Len 143\n",
      "DEBUG:root:[Controller][response] Prompt : \n",
      "        당신은 지식을 검색해서 상담해주는 AI 어시스턴트입니다.\n",
      "        아래 Question 에 대해서 반드시 [Facts]들에 있는 내용만을 참고해서 단계적으로 추론 후 요약해서 답변해주세요.\n",
      "        답변은 결론을 먼저 언급하고, 그 뒤에 이유를 최대한 상세하게 정리해서 답해주세요.\n",
      "        \n",
      "[Facts] :  해약을 하거나 만기에 이른 경우에 각각 금융소비자에 돌려주어야 하는 금액(이하 환급금이라 한다) 및 산출근거.\n",
      "[Facts] :  또한, 회사가 청약과 함께 제1회 보험료를 받은 후 승낙한 경우에 도 제1회 보험료를 받은 때부터 보장이 개시됩니다.\n",
      "        Question : 피보험자가 북한산을 오르다가 낙사했습니다. 이 경우 보험금을 지급해야 할까요? 자세하게 설명해 주세요.\n",
      "        \n",
      "INFO:root:[Controller][response] Final_outcome : **결론:** 보험금을 지급할 필요가 없습니다.\n",
      "\n",
      "**추론:**\n",
      "\n",
      "* 보험계약은 청약과 함께 제1회 보험료를 받은 후 승낙한 경우에 보장이 개시됩니다.\n",
      "* 이 사고는 보장이 개시되기 전에 발생했습니다.\n",
      "* 따라서 보험회사는 보험금을 지급할 의무가 없습니다.\n",
      "INFO:root:[Controller][response] Elapsed time : Search [1.5462825298309326 : LLM Request[1.6170148849487305] : Total elapsed time : [3.163297414779663] :  \n"
     ]
    }
   ],
   "source": [
    "from controller import Controller\n",
    "\n",
    "prod = False\n",
    "controller = Controller(prod)\n",
    "\n",
    "question = \"피보험자가 북한산을 오르다가 낙사했습니다. 이 경우 보험금을 지급해야 할까요? 자세하게 설명해 주세요.\"\n",
    "\n",
    "condition = {\n",
    "    \"mixed_question\" : False,\n",
    "    \"detailed_return\" : False,\n",
    "    \"answer_only\" : True\n",
    "}\n",
    "\n",
    "outcome = controller.response( question, condition )"
   ]
  },
  {
   "cell_type": "markdown",
   "metadata": {},
   "source": [
    "### Detailed information from Search"
   ]
  },
  {
   "cell_type": "code",
   "execution_count": null,
   "metadata": {},
   "outputs": [],
   "source": []
  },
  {
   "cell_type": "code",
   "execution_count": 3,
   "metadata": {},
   "outputs": [
    {
     "name": "stderr",
     "output_type": "stream",
     "text": [
      "2024-03-12 01:10:00.449958: I external/local_tsl/tsl/cuda/cudart_stub.cc:31] Could not find cuda drivers on your machine, GPU will not be used.\n",
      "2024-03-12 01:10:01.112102: E external/local_xla/xla/stream_executor/cuda/cuda_dnn.cc:9261] Unable to register cuDNN factory: Attempting to register factory for plugin cuDNN when one has already been registered\n",
      "2024-03-12 01:10:01.112184: E external/local_xla/xla/stream_executor/cuda/cuda_fft.cc:607] Unable to register cuFFT factory: Attempting to register factory for plugin cuFFT when one has already been registered\n",
      "2024-03-12 01:10:01.250516: E external/local_xla/xla/stream_executor/cuda/cuda_blas.cc:1515] Unable to register cuBLAS factory: Attempting to register factory for plugin cuBLAS when one has already been registered\n",
      "2024-03-12 01:10:01.543018: I external/local_tsl/tsl/cuda/cudart_stub.cc:31] Could not find cuda drivers on your machine, GPU will not be used.\n",
      "2024-03-12 01:10:01.545871: I tensorflow/core/platform/cpu_feature_guard.cc:182] This TensorFlow binary is optimized to use available CPU instructions in performance-critical operations.\n",
      "To enable the following instructions: AVX2 FMA, in other operations, rebuild TensorFlow with the appropriate compiler flags.\n",
      "2024-03-12 01:10:03.809261: W tensorflow/compiler/tf2tensorrt/utils/py_utils.cc:38] TF-TRT Warning: Could not find TensorRT\n",
      "WARNING:google.auth._default:No project ID could be determined. Consider running `gcloud config set project` or setting the GOOGLE_CLOUD_PROJECT environment variable\n"
     ]
    },
    {
     "ename": "PermissionDenied",
     "evalue": "403 Your application is authenticating by using local Application Default Credentials. The aiplatform.googleapis.com API requires a quota project, which is not set by default. To learn how to set your quota project, see https://cloud.google.com/docs/authentication/adc-troubleshooting/user-creds . [reason: \"SERVICE_DISABLED\"\ndomain: \"googleapis.com\"\nmetadata {\n  key: \"service\"\n  value: \"aiplatform.googleapis.com\"\n}\nmetadata {\n  key: \"consumer\"\n  value: \"projects/618104708054\"\n}\n]",
     "output_type": "error",
     "traceback": [
      "\u001b[0;31m---------------------------------------------------------------------------\u001b[0m",
      "\u001b[0;31mPermissionDenied\u001b[0m                          Traceback (most recent call last)",
      "\u001b[1;32m/home/admin_/rag_ai_search/test_nb.ipynb Cell 7\u001b[0m line \u001b[0;36m3\n\u001b[1;32m      <a href='vscode-notebook-cell://970-cs-1000207905015-default.cs-asia-east1-vger.cloudshell.dev/home/admin_/rag_ai_search/test_nb.ipynb#W6sdnNjb2RlLXJlbW90ZQ%3D%3D?line=0'>1</a>\u001b[0m \u001b[39mfrom\u001b[39;00m \u001b[39mcontroller\u001b[39;00m \u001b[39mimport\u001b[39;00m Controller\n\u001b[0;32m----> <a href='vscode-notebook-cell://970-cs-1000207905015-default.cs-asia-east1-vger.cloudshell.dev/home/admin_/rag_ai_search/test_nb.ipynb#W6sdnNjb2RlLXJlbW90ZQ%3D%3D?line=2'>3</a>\u001b[0m controller \u001b[39m=\u001b[39m Controller()\n\u001b[1;32m      <a href='vscode-notebook-cell://970-cs-1000207905015-default.cs-asia-east1-vger.cloudshell.dev/home/admin_/rag_ai_search/test_nb.ipynb#W6sdnNjb2RlLXJlbW90ZQ%3D%3D?line=4'>5</a>\u001b[0m question \u001b[39m=\u001b[39m \u001b[39m\"\u001b[39m\u001b[39m피보험자가 북한산을 오르다가 낙사했습니다. 이 경우 보험금을 지급해야 할까요? 자세하게 설명해 주세요.\u001b[39m\u001b[39m\"\u001b[39m\n\u001b[1;32m      <a href='vscode-notebook-cell://970-cs-1000207905015-default.cs-asia-east1-vger.cloudshell.dev/home/admin_/rag_ai_search/test_nb.ipynb#W6sdnNjb2RlLXJlbW90ZQ%3D%3D?line=5'>6</a>\u001b[0m detailed \u001b[39m=\u001b[39m \u001b[39mTrue\u001b[39;00m\n",
      "File \u001b[0;32m~/rag_ai_search/src/controller.py:77\u001b[0m, in \u001b[0;36mController.__init__\u001b[0;34m(self)\u001b[0m\n\u001b[1;32m     74\u001b[0m Controller\u001b[39m.\u001b[39mgemini_native \u001b[39m=\u001b[39m GenerativeModel(env\u001b[39m.\u001b[39mgemini_model)\n\u001b[1;32m     76\u001b[0m \u001b[39m# Initialize Text Bison by using native way. \u001b[39;00m\n\u001b[0;32m---> 77\u001b[0m Controller\u001b[39m.\u001b[39mbison \u001b[39m=\u001b[39m TextGenerationModel\u001b[39m.\u001b[39;49mfrom_pretrained(env\u001b[39m.\u001b[39;49mbison_model)\n\u001b[1;32m     79\u001b[0m logging\u001b[39m.\u001b[39minfo(\u001b[39mf\u001b[39m\u001b[39m\"\u001b[39m\u001b[39m[Controller][__init__] Controller.gemini_pro langchain : \u001b[39m\u001b[39m{\u001b[39;00mController\u001b[39m.\u001b[39mgemini_pro\u001b[39m}\u001b[39;00m\u001b[39m\"\u001b[39m)\n\u001b[1;32m     80\u001b[0m logging\u001b[39m.\u001b[39minfo(\u001b[39mf\u001b[39m\u001b[39m\"\u001b[39m\u001b[39m[Controller][__init__] Controller.gemini_pro native : \u001b[39m\u001b[39m{\u001b[39;00mController\u001b[39m.\u001b[39mgemini_native\u001b[39m}\u001b[39;00m\u001b[39m\"\u001b[39m)\n",
      "File \u001b[0;32m~/.local/lib/python3.9/site-packages/vertexai/_model_garden/_model_garden_models.py:291\u001b[0m, in \u001b[0;36m_ModelGardenModel.from_pretrained\u001b[0;34m(cls, model_name)\u001b[0m\n\u001b[1;32m    280\u001b[0m credential_exception_str \u001b[39m=\u001b[39m (\n\u001b[1;32m    281\u001b[0m     \u001b[39m\"\u001b[39m\u001b[39m\\n\u001b[39;00m\u001b[39mUnable to authenticate your request.\u001b[39m\u001b[39m\"\u001b[39m\n\u001b[1;32m    282\u001b[0m     \u001b[39m\"\u001b[39m\u001b[39m\\n\u001b[39;00m\u001b[39mDepending on your runtime environment, you can complete authentication by:\u001b[39m\u001b[39m\"\u001b[39m\n\u001b[0;32m   (...)\u001b[0m\n\u001b[1;32m    287\u001b[0m     \u001b[39m\"\u001b[39m\u001b[39m\\n\u001b[39;00m\u001b[39m- if in service account or other: please follow guidance in https://cloud.google.com/docs/authentication\u001b[39m\u001b[39m\"\u001b[39m\n\u001b[1;32m    288\u001b[0m )\n\u001b[1;32m    290\u001b[0m \u001b[39mtry\u001b[39;00m:\n\u001b[0;32m--> 291\u001b[0m     \u001b[39mreturn\u001b[39;00m _from_pretrained(interface_class\u001b[39m=\u001b[39;49m\u001b[39mcls\u001b[39;49m, model_name\u001b[39m=\u001b[39;49mmodel_name)\n\u001b[1;32m    292\u001b[0m \u001b[39mexcept\u001b[39;00m auth_exceptions\u001b[39m.\u001b[39mGoogleAuthError \u001b[39mas\u001b[39;00m e:\n\u001b[1;32m    293\u001b[0m     \u001b[39mraise\u001b[39;00m auth_exceptions\u001b[39m.\u001b[39mGoogleAuthError(credential_exception_str) \u001b[39mfrom\u001b[39;00m \u001b[39me\u001b[39;00m\n",
      "File \u001b[0;32m~/.local/lib/python3.9/site-packages/vertexai/_model_garden/_model_garden_models.py:208\u001b[0m, in \u001b[0;36m_from_pretrained\u001b[0;34m(interface_class, model_name, publisher_model, tuned_vertex_model)\u001b[0m\n\u001b[1;32m    203\u001b[0m     \u001b[39mif\u001b[39;00m \u001b[39mnot\u001b[39;00m interface_class\u001b[39m.\u001b[39m_INSTANCE_SCHEMA_URI:\n\u001b[1;32m    204\u001b[0m         \u001b[39mraise\u001b[39;00m \u001b[39mValueError\u001b[39;00m(\n\u001b[1;32m    205\u001b[0m             \u001b[39mf\u001b[39m\u001b[39m\"\u001b[39m\u001b[39mClass \u001b[39m\u001b[39m{\u001b[39;00minterface_class\u001b[39m}\u001b[39;00m\u001b[39m is not a correct model interface class since it does not have an instance schema URI.\u001b[39m\u001b[39m\"\u001b[39m\n\u001b[1;32m    206\u001b[0m         )\n\u001b[0;32m--> 208\u001b[0m     model_info \u001b[39m=\u001b[39m _get_model_info(\n\u001b[1;32m    209\u001b[0m         model_id\u001b[39m=\u001b[39;49mmodel_name,\n\u001b[1;32m    210\u001b[0m         schema_to_class_map\u001b[39m=\u001b[39;49m{interface_class\u001b[39m.\u001b[39;49m_INSTANCE_SCHEMA_URI: interface_class},\n\u001b[1;32m    211\u001b[0m     )\n\u001b[1;32m    213\u001b[0m \u001b[39melse\u001b[39;00m:\n\u001b[1;32m    214\u001b[0m     schema_uri \u001b[39m=\u001b[39m publisher_model\u001b[39m.\u001b[39m_gca_resource\u001b[39m.\u001b[39mpredict_schemata\u001b[39m.\u001b[39minstance_schema_uri\n",
      "File \u001b[0;32m~/.local/lib/python3.9/site-packages/vertexai/_model_garden/_model_garden_models.py:124\u001b[0m, in \u001b[0;36m_get_model_info\u001b[0;34m(model_id, schema_to_class_map, interface_class, publisher_model_res, tuned_vertex_model)\u001b[0m\n\u001b[1;32m    120\u001b[0m     model_id \u001b[39m=\u001b[39m \u001b[39m\"\u001b[39m\u001b[39mpublishers/google/models/\u001b[39m\u001b[39m\"\u001b[39m \u001b[39m+\u001b[39m model_id\n\u001b[1;32m    122\u001b[0m \u001b[39mif\u001b[39;00m \u001b[39mnot\u001b[39;00m publisher_model_res:\n\u001b[1;32m    123\u001b[0m     publisher_model_res \u001b[39m=\u001b[39m (\n\u001b[0;32m--> 124\u001b[0m         _publisher_models\u001b[39m.\u001b[39;49m_PublisherModel(  \u001b[39m# pylint: disable=protected-access\u001b[39;49;00m\n\u001b[1;32m    125\u001b[0m             resource_name\u001b[39m=\u001b[39;49mmodel_id\n\u001b[1;32m    126\u001b[0m         )\u001b[39m.\u001b[39m_gca_resource\n\u001b[1;32m    127\u001b[0m     )\n\u001b[1;32m    129\u001b[0m \u001b[39mif\u001b[39;00m \u001b[39mnot\u001b[39;00m publisher_model_res\u001b[39m.\u001b[39mname\u001b[39m.\u001b[39mstartswith(\u001b[39m\"\u001b[39m\u001b[39mpublishers/google/models/\u001b[39m\u001b[39m\"\u001b[39m):\n\u001b[1;32m    130\u001b[0m     \u001b[39mraise\u001b[39;00m \u001b[39mValueError\u001b[39;00m(\n\u001b[1;32m    131\u001b[0m         \u001b[39mf\u001b[39m\u001b[39m\"\u001b[39m\u001b[39mOnly Google models are currently supported. \u001b[39m\u001b[39m{\u001b[39;00mpublisher_model_res\u001b[39m.\u001b[39mname\u001b[39m}\u001b[39;00m\u001b[39m\"\u001b[39m\n\u001b[1;32m    132\u001b[0m     )\n",
      "File \u001b[0;32m~/.local/lib/python3.9/site-packages/google/cloud/aiplatform/_publisher_models.py:77\u001b[0m, in \u001b[0;36m_PublisherModel.__init__\u001b[0;34m(self, resource_name, project, location, credentials)\u001b[0m\n\u001b[1;32m     71\u001b[0m     \u001b[39melse\u001b[39;00m:\n\u001b[1;32m     72\u001b[0m         \u001b[39mraise\u001b[39;00m \u001b[39mValueError\u001b[39;00m(\n\u001b[1;32m     73\u001b[0m             \u001b[39mf\u001b[39m\u001b[39m\"\u001b[39m\u001b[39m`\u001b[39m\u001b[39m{\u001b[39;00mresource_name\u001b[39m}\u001b[39;00m\u001b[39m` is not a valid PublisherModel resource \u001b[39m\u001b[39m\"\u001b[39m\n\u001b[1;32m     74\u001b[0m             \u001b[39m\"\u001b[39m\u001b[39mname or model garden id.\u001b[39m\u001b[39m\"\u001b[39m\n\u001b[1;32m     75\u001b[0m         )\n\u001b[0;32m---> 77\u001b[0m \u001b[39mself\u001b[39m\u001b[39m.\u001b[39m_gca_resource \u001b[39m=\u001b[39m \u001b[39mgetattr\u001b[39;49m(\u001b[39mself\u001b[39;49m\u001b[39m.\u001b[39;49mapi_client, \u001b[39mself\u001b[39;49m\u001b[39m.\u001b[39;49m_getter_method)(\n\u001b[1;32m     78\u001b[0m     name\u001b[39m=\u001b[39;49mfull_resource_name, retry\u001b[39m=\u001b[39;49mbase\u001b[39m.\u001b[39;49m_DEFAULT_RETRY\n\u001b[1;32m     79\u001b[0m )\n",
      "File \u001b[0;32m~/.local/lib/python3.9/site-packages/google/cloud/aiplatform_v1/services/model_garden_service/client.py:766\u001b[0m, in \u001b[0;36mModelGardenServiceClient.get_publisher_model\u001b[0;34m(self, request, name, retry, timeout, metadata)\u001b[0m\n\u001b[1;32m    763\u001b[0m \u001b[39mself\u001b[39m\u001b[39m.\u001b[39m_validate_universe_domain()\n\u001b[1;32m    765\u001b[0m \u001b[39m# Send the request.\u001b[39;00m\n\u001b[0;32m--> 766\u001b[0m response \u001b[39m=\u001b[39m rpc(\n\u001b[1;32m    767\u001b[0m     request,\n\u001b[1;32m    768\u001b[0m     retry\u001b[39m=\u001b[39;49mretry,\n\u001b[1;32m    769\u001b[0m     timeout\u001b[39m=\u001b[39;49mtimeout,\n\u001b[1;32m    770\u001b[0m     metadata\u001b[39m=\u001b[39;49mmetadata,\n\u001b[1;32m    771\u001b[0m )\n\u001b[1;32m    773\u001b[0m \u001b[39m# Done; return the response.\u001b[39;00m\n\u001b[1;32m    774\u001b[0m \u001b[39mreturn\u001b[39;00m response\n",
      "File \u001b[0;32m/usr/local/lib/python3.9/dist-packages/google/api_core/gapic_v1/method.py:131\u001b[0m, in \u001b[0;36m_GapicCallable.__call__\u001b[0;34m(self, timeout, retry, compression, *args, **kwargs)\u001b[0m\n\u001b[1;32m    128\u001b[0m \u001b[39mif\u001b[39;00m \u001b[39mself\u001b[39m\u001b[39m.\u001b[39m_compression \u001b[39mis\u001b[39;00m \u001b[39mnot\u001b[39;00m \u001b[39mNone\u001b[39;00m:\n\u001b[1;32m    129\u001b[0m     kwargs[\u001b[39m\"\u001b[39m\u001b[39mcompression\u001b[39m\u001b[39m\"\u001b[39m] \u001b[39m=\u001b[39m compression\n\u001b[0;32m--> 131\u001b[0m \u001b[39mreturn\u001b[39;00m wrapped_func(\u001b[39m*\u001b[39;49margs, \u001b[39m*\u001b[39;49m\u001b[39m*\u001b[39;49mkwargs)\n",
      "File \u001b[0;32m/usr/local/lib/python3.9/dist-packages/google/api_core/retry/retry_unary.py:293\u001b[0m, in \u001b[0;36mRetry.__call__.<locals>.retry_wrapped_func\u001b[0;34m(*args, **kwargs)\u001b[0m\n\u001b[1;32m    289\u001b[0m target \u001b[39m=\u001b[39m functools\u001b[39m.\u001b[39mpartial(func, \u001b[39m*\u001b[39margs, \u001b[39m*\u001b[39m\u001b[39m*\u001b[39mkwargs)\n\u001b[1;32m    290\u001b[0m sleep_generator \u001b[39m=\u001b[39m exponential_sleep_generator(\n\u001b[1;32m    291\u001b[0m     \u001b[39mself\u001b[39m\u001b[39m.\u001b[39m_initial, \u001b[39mself\u001b[39m\u001b[39m.\u001b[39m_maximum, multiplier\u001b[39m=\u001b[39m\u001b[39mself\u001b[39m\u001b[39m.\u001b[39m_multiplier\n\u001b[1;32m    292\u001b[0m )\n\u001b[0;32m--> 293\u001b[0m \u001b[39mreturn\u001b[39;00m retry_target(\n\u001b[1;32m    294\u001b[0m     target,\n\u001b[1;32m    295\u001b[0m     \u001b[39mself\u001b[39;49m\u001b[39m.\u001b[39;49m_predicate,\n\u001b[1;32m    296\u001b[0m     sleep_generator,\n\u001b[1;32m    297\u001b[0m     timeout\u001b[39m=\u001b[39;49m\u001b[39mself\u001b[39;49m\u001b[39m.\u001b[39;49m_timeout,\n\u001b[1;32m    298\u001b[0m     on_error\u001b[39m=\u001b[39;49mon_error,\n\u001b[1;32m    299\u001b[0m )\n",
      "File \u001b[0;32m/usr/local/lib/python3.9/dist-packages/google/api_core/retry/retry_unary.py:153\u001b[0m, in \u001b[0;36mretry_target\u001b[0;34m(target, predicate, sleep_generator, timeout, on_error, exception_factory, **kwargs)\u001b[0m\n\u001b[1;32m    149\u001b[0m \u001b[39m# pylint: disable=broad-except\u001b[39;00m\n\u001b[1;32m    150\u001b[0m \u001b[39m# This function explicitly must deal with broad exceptions.\u001b[39;00m\n\u001b[1;32m    151\u001b[0m \u001b[39mexcept\u001b[39;00m \u001b[39mException\u001b[39;00m \u001b[39mas\u001b[39;00m exc:\n\u001b[1;32m    152\u001b[0m     \u001b[39m# defer to shared logic for handling errors\u001b[39;00m\n\u001b[0;32m--> 153\u001b[0m     _retry_error_helper(\n\u001b[1;32m    154\u001b[0m         exc,\n\u001b[1;32m    155\u001b[0m         deadline,\n\u001b[1;32m    156\u001b[0m         sleep,\n\u001b[1;32m    157\u001b[0m         error_list,\n\u001b[1;32m    158\u001b[0m         predicate,\n\u001b[1;32m    159\u001b[0m         on_error,\n\u001b[1;32m    160\u001b[0m         exception_factory,\n\u001b[1;32m    161\u001b[0m         timeout,\n\u001b[1;32m    162\u001b[0m     )\n\u001b[1;32m    163\u001b[0m     \u001b[39m# if exception not raised, sleep before next attempt\u001b[39;00m\n\u001b[1;32m    164\u001b[0m     time\u001b[39m.\u001b[39msleep(sleep)\n",
      "File \u001b[0;32m/usr/local/lib/python3.9/dist-packages/google/api_core/retry/retry_base.py:212\u001b[0m, in \u001b[0;36m_retry_error_helper\u001b[0;34m(exc, deadline, next_sleep, error_list, predicate_fn, on_error_fn, exc_factory_fn, original_timeout)\u001b[0m\n\u001b[1;32m    206\u001b[0m \u001b[39mif\u001b[39;00m \u001b[39mnot\u001b[39;00m predicate_fn(exc):\n\u001b[1;32m    207\u001b[0m     final_exc, source_exc \u001b[39m=\u001b[39m exc_factory_fn(\n\u001b[1;32m    208\u001b[0m         error_list,\n\u001b[1;32m    209\u001b[0m         RetryFailureReason\u001b[39m.\u001b[39mNON_RETRYABLE_ERROR,\n\u001b[1;32m    210\u001b[0m         original_timeout,\n\u001b[1;32m    211\u001b[0m     )\n\u001b[0;32m--> 212\u001b[0m     \u001b[39mraise\u001b[39;00m final_exc \u001b[39mfrom\u001b[39;00m \u001b[39msource_exc\u001b[39;00m\n\u001b[1;32m    213\u001b[0m \u001b[39mif\u001b[39;00m on_error_fn \u001b[39mis\u001b[39;00m \u001b[39mnot\u001b[39;00m \u001b[39mNone\u001b[39;00m:\n\u001b[1;32m    214\u001b[0m     on_error_fn(exc)\n",
      "File \u001b[0;32m/usr/local/lib/python3.9/dist-packages/google/api_core/retry/retry_unary.py:144\u001b[0m, in \u001b[0;36mretry_target\u001b[0;34m(target, predicate, sleep_generator, timeout, on_error, exception_factory, **kwargs)\u001b[0m\n\u001b[1;32m    142\u001b[0m \u001b[39mfor\u001b[39;00m sleep \u001b[39min\u001b[39;00m sleep_generator:\n\u001b[1;32m    143\u001b[0m     \u001b[39mtry\u001b[39;00m:\n\u001b[0;32m--> 144\u001b[0m         result \u001b[39m=\u001b[39m target()\n\u001b[1;32m    145\u001b[0m         \u001b[39mif\u001b[39;00m inspect\u001b[39m.\u001b[39misawaitable(result):\n\u001b[1;32m    146\u001b[0m             warnings\u001b[39m.\u001b[39mwarn(_ASYNC_RETRY_WARNING)\n",
      "File \u001b[0;32m/usr/local/lib/python3.9/dist-packages/google/api_core/grpc_helpers.py:78\u001b[0m, in \u001b[0;36m_wrap_unary_errors.<locals>.error_remapped_callable\u001b[0;34m(*args, **kwargs)\u001b[0m\n\u001b[1;32m     76\u001b[0m     \u001b[39mreturn\u001b[39;00m callable_(\u001b[39m*\u001b[39margs, \u001b[39m*\u001b[39m\u001b[39m*\u001b[39mkwargs)\n\u001b[1;32m     77\u001b[0m \u001b[39mexcept\u001b[39;00m grpc\u001b[39m.\u001b[39mRpcError \u001b[39mas\u001b[39;00m exc:\n\u001b[0;32m---> 78\u001b[0m     \u001b[39mraise\u001b[39;00m exceptions\u001b[39m.\u001b[39mfrom_grpc_error(exc) \u001b[39mfrom\u001b[39;00m \u001b[39mexc\u001b[39;00m\n",
      "\u001b[0;31mPermissionDenied\u001b[0m: 403 Your application is authenticating by using local Application Default Credentials. The aiplatform.googleapis.com API requires a quota project, which is not set by default. To learn how to set your quota project, see https://cloud.google.com/docs/authentication/adc-troubleshooting/user-creds . [reason: \"SERVICE_DISABLED\"\ndomain: \"googleapis.com\"\nmetadata {\n  key: \"service\"\n  value: \"aiplatform.googleapis.com\"\n}\nmetadata {\n  key: \"consumer\"\n  value: \"projects/618104708054\"\n}\n]"
     ]
    }
   ],
   "source": [
    "from controller import Controller\n",
    "\n",
    "controller = Controller()\n",
    "\n",
    "question = \"피보험자가 북한산을 오르다가 낙사했습니다. 이 경우 보험금을 지급해야 할까요? 자세하게 설명해 주세요.\"\n",
    "detailed = True\n",
    "\n",
    "question_list, contexts_list, final_contexts, final_outcome, elapsed_time = controller.process(question, detailed)\n",
    "\n",
    "print(f\"question_list {question_list}\")\n",
    "print(f\"contexts_list {contexts_list}\")\n",
    "print(f\"final_contexts {final_contexts}\")\n",
    "print(f\"final_outcome {final_outcome}\")\n",
    "print(f\"elapsed_time {elapsed_time}\")\n"
   ]
  },
  {
   "cell_type": "markdown",
   "metadata": {},
   "source": [
    "### Simplified information from search"
   ]
  },
  {
   "cell_type": "code",
   "execution_count": null,
   "metadata": {},
   "outputs": [],
   "source": [
    "\n",
    "#question = \"전결에 대해서 설명해주고, 결재칸은 최대 몇개까지 가능한가요 ?\"\n",
    "question = \"천식이 있던 피보험자는 지난번 화재 사고로 사망하였습니다. 이때 사망보험금을 지급해야 할까요?\"\n",
    "question = \"사고로 인해 시력이 안전수지 상태인 고객의 장해지급률은 몇 퍼센트입니까?\"\n",
    "#question = \"메일함 관리에 대해서 설명해주세요.\"\n",
    "question = \"피보험자가 북한산을  등반하다가 낙사했습니다. 보험금을 지급해야 할까요?\"\n",
    "question = \"항암방사선/약물 치료비 담보에 관한 특별약관들은 무엇무엇이 있습니까? \"\n",
    "question = \"폭행으로 인해 피보험자의 치아가 8개가 결손되었습니다. 이때 장해는 어떻게 분류되며, 장해지급률은 몇 퍼센트 입니까?\"\n",
    "question = \"천식이 있던 피보험자는 지난번 화재 사고로 사망하였습니다. 이때 사망보험금을 지급해야 할까요?\"\n",
    "question = \"전화 계약의 경우 청약서에 들어갈 자필서명을 생략할 수 있을까요? 다만 계약자와 보험수익자는 애인관계 입니다.\"\n",
    "question = \"피보험자가 배달 아르바이트를 이유로 오토바이를 계속적으로 사용하게 된 경우 피보험자는 이를 알릴 의무가 있습니까?\"\n",
    "question = \"피보험자가 북한산을 오르다가 낙사했습니다. 이 경우 보험금을 지급해야 할까요? 자세하게 설명해 주세요.\"\n",
    "\n",
    "detailed = False\n",
    "\n",
    "controller = Controller()\n",
    "outcome = controller.process( question, detailed )\n",
    "\n",
    "#print(f\"final outcome : {outcome}\")"
   ]
  },
  {
   "cell_type": "markdown",
   "metadata": {},
   "source": [
    "### Single question, simple."
   ]
  },
  {
   "cell_type": "code",
   "execution_count": null,
   "metadata": {},
   "outputs": [
    {
     "name": "stderr",
     "output_type": "stream",
     "text": [
      "INFO:root:[Controller][__init__] Controller.gemini_pro langchain : None\n",
      "INFO:root:[Controller][__init__] Controller.gemini_pro native : <vertexai.preview.generative_models.GenerativeModel object at 0x792cc6bd1e20>\n",
      "INFO:root:[Controller][__init__] Controller.bison : <vertexai.language_models.TextGenerationModel object at 0x792cc6bfb820>\n",
      "INFO:root:[Controller][__init__] Initialize Controller done!\n",
      "INFO:root:[Controller][search] Simple Question Processing Start! : 피보험자가 북한산을 오르다가 낙사했습니다. 이 경우 보험금을 지급해야 할까요? 자세하게 설명해 주세요.\n",
      "INFO:root:[Controller][retrieve_vertex_ai_search] Response len : 5709\n",
      "INFO:root:[Controller][parse_discovery_results] serched_documents len : 1\n",
      "INFO:root:[Controller][ai_search] AI Search Done! 1\n",
      "INFO:root:[Controller][search] len(contexts_list) : 3\n",
      "INFO:root:[Controller][context_verifier] Question : 피보험자가 북한산을 오르다가 낙사했습니다. 이 경우 보험금을 지급해야 할까요? 자세하게 설명해 주세요., Verification Result : Yes\n",
      "INFO:root:[Controller][context_verifier] Question : 피보험자가 북한산을 오르다가 낙사했습니다. 이 경우 보험금을 지급해야 할까요? 자세하게 설명해 주세요., Verification Result : Yes\n",
      "INFO:root:[Controller][context_verifier] Question : 피보험자가 북한산을 오르다가 낙사했습니다. 이 경우 보험금을 지급해야 할까요? 자세하게 설명해 주세요., Verification Result : Yes\n",
      "INFO:root:[Controller][search] Elapsed time : question_verifier[2.384185791015625e-07] : ai_search 0.3561410903930664] : context_verifier [1.4876880645751953] : Total search time : 1.8438293933868408 \n",
      "INFO:root:[Controller][response] Final_outcome : **결론:** 피보험자에게 보험금을 지급해야 합니다.\n",
      "\n",
      "**이유:**\n",
      "\n",
      "* 보험회사는 피보험자가 제3자로부터 손해배상을 받을 수 있는 경우 피보험자의 손해배상청구권을 대위취득합니다. (제15조 1항 1호)\n",
      "* 피보험자가 북한산에서 낙사한 경우, 피보험자는 북한산 관리자에게 손해배상을 청구할 수 있습니다.\n",
      "* 따라서 보험회사는 피보험자의 손해배상청구권을 대위취득하여 북한산 관리자에게 손해배상을 청구할 수 있습니다.\n",
      "* 따라서 보험회사는 피보험자에게 보험금을 지급해야 합니다.\n",
      "INFO:root:[Controller][response] Elapsed time : Search [1.8446710109710693 : LLM Request[3.4226553440093994] : Total elapsed time : [5.267326354980469] :  \n"
     ]
    }
   ],
   "source": [
    "from controller import Controller\n",
    "controller = Controller()\n",
    "\n",
    "question = \"피보험자가 북한산을 오르다가 낙사했습니다. 이 경우 보험금을 지급해야 할까요? 자세하게 설명해 주세요.\"\n",
    "# question = \"해외 여행 약관에서 연단위 복리에 대해서 설명해주세요.\"\n",
    "# question = \"해외 여행 약관에서 보험금 지급 사유 대해서 설명해주세요.\"\n",
    "\n",
    "mixed_question = False\n",
    "detailed = False\n",
    "\n",
    "outcome = controller.response( question, mixed_question,detailed )"
   ]
  },
  {
   "cell_type": "markdown",
   "metadata": {},
   "source": [
    "### Multiple question, simple."
   ]
  },
  {
   "cell_type": "code",
   "execution_count": null,
   "metadata": {},
   "outputs": [
    {
     "name": "stderr",
     "output_type": "stream",
     "text": [
      "INFO:root:[Controller][__init__] Controller.gemini_pro langchain : None\n",
      "INFO:root:[Controller][__init__] Controller.gemini_pro native : <vertexai.preview.generative_models.GenerativeModel object at 0x792cc6b21610>\n",
      "INFO:root:[Controller][__init__] Controller.bison : <vertexai.language_models.TextGenerationModel object at 0x792cc6bd1e20>\n",
      "INFO:root:[Controller][__init__] Initialize Controller done!\n",
      "INFO:root:[Controller][search] Mixed Question Processing Start! : 피보험자가 북한산을 오르다가 낙사했습니다. 이 경우 보험금을 지급해야 할까요? 자세하게 설명해 주세요.\n",
      "INFO:root:[Controller][question_verifier] Generated Question List : ['북한산 낙사 사고 보험금 지급 여부', '북한산 등산 보험 적용 범위']\n",
      "INFO:root:[Controller][retrieve_vertex_ai_search] Response len : 7307\n",
      "INFO:root:[Controller][parse_discovery_results] serched_documents len : 1\n",
      "INFO:root:[Controller][ai_search] AI Search Done! 1\n",
      "INFO:root:[Controller][retrieve_vertex_ai_search] Response len : 6502\n",
      "INFO:root:[Controller][parse_discovery_results] serched_documents len : 1\n",
      "INFO:root:[Controller][ai_search] AI Search Done! 1\n",
      "INFO:root:[Controller][search] len(contexts_list) : 6\n",
      "INFO:root:[Controller][context_verifier] Question : 북한산 낙사 사고 보험금 지급 여부, Verification Result : Yes\n",
      "INFO:root:[Controller][context_verifier] Question : 북한산 등산 보험 적용 범위, Verification Result : Yes\n",
      "INFO:root:[Controller][context_verifier] Question : 북한산 등산 보험 적용 범위, Verification Result : No\n",
      "INFO:root:[Controller][context_verifier] Question : 북한산 등산 보험 적용 범위, Verification Result : Yes\n",
      "INFO:root:[Controller][context_verifier] Question : 북한산 낙사 사고 보험금 지급 여부, Verification Result : Yes\n",
      "INFO:root:[Controller][context_verifier] Question : 북한산 낙사 사고 보험금 지급 여부, Verification Result : Yes\n",
      "INFO:root:[Controller][search] Elapsed time : question_splitter[1.8253097534179688] : ai_search 0.3798563480377197] : context_verifier [1.58565092086792] : Total search time : 3.7908170223236084 \n",
      "INFO:root:[Controller][response] Final_outcome : 피보험자가 북한산을 오르다가 낙사한 경우 보험금을 지급하지 않습니다.\n",
      "\n",
      "이유:\n",
      "* [Facts]에 따르면, 피보험자가 도로교통법 제43조, 제44조에 정한 음주·무면허 상태 또는 동법 제 45조에 정한 약물 상태에서 운전하던 중 사고를 일으킨 경우에만 보험금을 지급합니다.\n",
      "* 북한산은 도로가 아니므로 도로교통법이 적용되지 않습니다.\n",
      "* 따라서 피보험자가 북한산에서 낙사한 경우는 도로교통법 위반에 해당하지 않으므로 보험금 지급 사유에 해당하지 않습니다.\n",
      "INFO:root:[Controller][response] Elapsed time : Search [3.791337490081787 : LLM Request[4.398574590682983] : Total elapsed time : [8.18991208076477] :  \n"
     ]
    }
   ],
   "source": [
    "from controller import Controller\n",
    "controller = Controller()\n",
    "\n",
    "question = \"피보험자가 북한산을 오르다가 낙사했습니다. 이 경우 보험금을 지급해야 할까요? 자세하게 설명해 주세요.\"\n",
    "#question = \"전화 계약의 경우 청약서에 들어갈 자필서명을 생략할 수 있을까요? 다만 계약자와 보험수익자는 애인관계 입니다.\"\n",
    "# question = \"해외 여행 약관에서 연단위 복리에 대해서 설명해주세요.\"\n",
    "# question = \"해외 여행 약관에서 보험금 지급 사유 대해서 설명해주세요.\"\n",
    "\n",
    "mixed_question = True\n",
    "detailed = False\n",
    "\n",
    "outcome = controller.response( question, mixed_question,detailed )"
   ]
  },
  {
   "cell_type": "code",
   "execution_count": null,
   "metadata": {},
   "outputs": [
    {
     "name": "stderr",
     "output_type": "stream",
     "text": [
      "INFO:root:[Controller][__init__] Controller.gemini_pro langchain : None\n",
      "INFO:root:[Controller][__init__] Controller.gemini_pro native : <vertexai.preview.generative_models.GenerativeModel object at 0x792cc6b2fca0>\n",
      "INFO:root:[Controller][__init__] Controller.bison : <vertexai.language_models.TextGenerationModel object at 0x792cc6c41f10>\n",
      "INFO:root:[Controller][__init__] Initialize Controller done!\n",
      "INFO:root:[Controller][search] Simple Question Processing Start! : 피보험자가 북한산을 오르다가 낙사했습니다. 이 경우 보험금을 지급해야 할까요? 자세하게 설명해 주세요.\n",
      "INFO:root:[Controller][retrieve_vertex_ai_search] Response len : 5707\n",
      "INFO:root:[Controller][parse_discovery_results] serched_documents len : 1\n",
      "INFO:root:[Controller][ai_search] AI Search Done! 1\n",
      "INFO:root:[Controller][search] len(contexts_list) : 3\n",
      "INFO:root:[Controller][context_verifier] Question : 피보험자가 북한산을 오르다가 낙사했습니다. 이 경우 보험금을 지급해야 할까요? 자세하게 설명해 주세요., Verification Result : Yes\n",
      "INFO:root:[Controller][context_verifier] Question : 피보험자가 북한산을 오르다가 낙사했습니다. 이 경우 보험금을 지급해야 할까요? 자세하게 설명해 주세요., Verification Result : Yes\n",
      "INFO:root:[Controller][context_verifier] Question : 피보험자가 북한산을 오르다가 낙사했습니다. 이 경우 보험금을 지급해야 할까요? 자세하게 설명해 주세요., Verification Result : Yes\n",
      "INFO:root:[Controller][search] Elapsed time : question_splitter[0.0007407665252685547] : ai_search 0.4635467529296875] : context_verifier [1.931100606918335] : Total search time : 2.395388126373291 \n"
     ]
    },
    {
     "name": "stdout",
     "output_type": "stream",
     "text": [
      "\n",
      "\n",
      "[Facts] :  해약을 하거나 만기에 이른 경우에 각각 금융소비자에 돌려주어야 하는 금액(이하 환급금이라 한다) 및 산출근거. 7) 계약 종료 이후 금융소비자가 청약에 필요한 사항을 금융상품직접판매업자에 알\n",
      "리지 않고 해당 금융상품에 관한 계약을 다시 체결할 수 있는 보장성 상품 : 가입\n",
      "조건 및 보장내용 등의 변경에 관한 사항\n",
      "사. 그 밖에 보통의 주의력을 가진 일반적인 금융소비자가 오해하기 쉬워 민원이 빈발\n",
      "하는 사항 등 보험금 지급 등 서비스 제공과 관하여 일반금융소비자가 특히 유의해\n",
      "야할 사항\n",
      "2. (생략)\n",
      "\n",
      "[Facts] :  또한, 회사가 청약과 함께 제1회 보험료를 받은 후 승낙한 경우에 도 제1회 보험료를 받은 때부터 보장이 개시됩니다. 제5관 보험료의 납입\n",
      "\n",
      "제29조(제1회 보험료 및 회사의 보장개시)\n",
      "① 회사는 계약의 청약을 승낙하고 제1회 보험료를 받은 때부터 이 약관이 정한 바에 따\n",
      "라 보장을 합니다. 또한, 회사가 청약과 함께 제1회 보험료를 받은 후 승낙한 경우에\n",
      "도 제1회 보험료를 받은 때부터 보장이 개시됩니다. 자동이체 또는 신용카드로 납입\n",
      "하는 경우에는 자동이체신청 또는 신용카드매출승인에 필요한 정보를 제공한 때를 제\n",
      "1회 보험료를 받은 때로 하며, 계약자의 책임 있는 사유로 자동이체 또는 매출승인이\n",
      "불가능한 경우에는 보험료가 납입되지 않은 것으로 봅니다.\n",
      "② 회사가 청약과 함께 제1회 보험료를 받고 청약을 승낙하기 전에 보험금 지급사유가\n",
      "발생하였을 때에도 보장개시일부터 이 약관이 정하는 바에 따라 보장을 합니다.\n",
      "<용어풀이>\n",
      "\n",
      "[보장개시일]\n",
      "회사가 보장을 개시하는 날로서 계약이 성립되고 제1회 보험료를 받은 날을 말하나, 회사가 승낙\n",
      "하기 전이라도 청약과 함께 제1회 보험료를 받은 경우에는 제1회 보험료를 받은 날을 말합니다.\n",
      "또한, 보장개시일을 계약일로 봅니다.\n",
      "③ 회사는 제2항에도 불구하고 다음 중 한 가지에 해당되는 경우에는 보장을 하지 않습\n",
      "니다.\n",
      "1. 제18조(계약 전 알릴 의무)에 따라 계약자 또는 피보험자가 회사에 알린 내용이나\n",
      "건강진단 내용이 보험금 지급사유의 발생에 영향을 미쳤음을 회사가 증명하는 경\n",
      "우\n",
      "2. 제20조(알릴 의무 위반의 효과)를 준용하여 회사가 보장을 하지 않을 수 있는 경우\n",
      "3. 진단계약에서 보험금 지급사유가 발생할 때까지 진단을 받지 않은 경우. 다만, 진\n",
      "단계약에서 진단을 받지 않은 경우라도 상해로 보험금 지급사유가 발생하는 경우\n",
      "에는 보장을 해드립니다.\n",
      "\n",
      "제30조(제2회 이후 보험료의 납입)\n",
      "계약자는 제2회 이후의 보험료를 납입기일까지 납입하여야 하며, 회사는 계약자가 보험\n",
      "료를 납입한 경우에는 영수증을 발행하여 드립니다. 다만, 금융회사(우체국을 포함합니\n",
      "다)를 통하여 보험료를 납입한 경우에는 그 금융회사 발행 증빙서류를 영수증으로 대신합\n",
      "\n",
      "[Facts] :  피보험자가 제3자로부터 손해배상을 받을 수 있는 경우에는 그 손해배상청구권 2. -609-\n",
      "\n",
      "동일한 사고로 이미 지급한 보험금이나 가지급보험금이 있는 경우에는 그 금액을 공제한 액수를\n",
      "말합니다.\n",
      "③ 회사가 제1항의 절차에 협조하거나 대행하는 경우에는 피보험자는 회사의 요청에 따\n",
      "라 협력해야 하며, 피보험자가 정당한 이유없이 협력하지 않을 경우에는 그로 말미암\n",
      "아 늘어난 손해에 대해서 보상하지 않습니다.\n",
      "④ 회사는 다음의 경우에는 제1항의 절차를 대행하지 않습니다.\n",
      "1. 피보험자가 피해자에 대하여 부담하는 법률상의 손해배상책임액이 보험증권에 기\n",
      "재된 보상한도액을 명백하게 초과하는 때\n",
      "2. 피보험자가 정당한 이유없이 협력하지 않을 때\n",
      "⑤ 회사가 제1항의 절차를 대행하는 경우에는, 피보험자에 대하여 보상책임을 지는 한도\n",
      "내에서, 가압류나 가집행을 면하기 위한 공탁금을 피보험자에게 대부할 수 있으며 이\n",
      "에 소요되는 비용을 보상합니다. 이 경우 대부금의 이자는 공탁금에 붙여지는 것과 같\n",
      "은 이율로 하며, 피보험자는 공탁금(이자를 포함합니다)의 회수청구권을 회사에 양도\n",
      "하여야 합니다.\n",
      "\n",
      "제15조 (대위권)\n",
      "① 회사가 보험금을 지급한 때(현물보상한 경우를 포함합니다)에는 회사는 지급한 보험금\n",
      "의 한도 내에서 아래의 권리를 가집니다. 다만, 회사가 보상한 금액이 피보험자가 입\n",
      "은 손해의 일부인 경우에는 피보험자의 권리를 침해하지 않는 범위 내에서 그 권리를\n",
      "가집니다.\n",
      "1. 피보험자가 제3자로부터 손해배상을 받을 수 있는 경우에는 그 손해배상청구권\n",
      "2. 피보험자가 손해배상을 함으로써 대위 취득하는 것이 있을 경우에는 그 대위권\n",
      "② 계약자 또는 피보험자는 제1항에 의하여 회사가 취득한 권리를 행사하거나 지키는 것\n",
      "에 관하여 필요한 조치를 하여야 하며, 또한 회사가 요구하는 증거 및 서류를 제출하\n",
      "여야 합니다. 이에 필요한 비용은 회사가 드립니다.\n",
      "③ 회사는 제1항 및 제2항에도 불구하고 타인을 위한 계약의 경우에는 계약자에 대한 대\n",
      "위권을 포기합니다.\n",
      "④ 회사는 제1항에 따른 권리가 계약자 또는 피보험자와 생계를 같이 하는 가족에 대한\n",
      "것인 경우에는 그 권리를 취득하지 못합니다. 다만, 손해가 그 가족의 고의로 인하여\n",
      "발생한 경우에는 그 권리를 취득합니다.\n",
      "\n",
      "제16조 (보험금 받는 방법의 변경)\n",
      "① 계약자(보험금 지급사유 발생 후에는 피보험자)는 회사의 사업방법서에서 정한 바에\n",
      "따라 보험금의 전부 또는 일부에 대하여 나누어 지급받거나 일시에 지급받는 방법으\n"
     ]
    }
   ],
   "source": [
    "from controller import Controller\n",
    "controller = Controller()\n",
    "\n",
    "question = \"피보험자가 북한산을 오르다가 낙사했습니다. 이 경우 보험금을 지급해야 할까요? 자세하게 설명해 주세요.\"\n",
    "# question = \"해외 여행 약관에서 연단위 복리에 대해서 설명해주세요.\"\n",
    "# question = \"해외 여행 약관에서 보험금 지급 사유 대해서 설명해주세요.\"\n",
    "\n",
    "mixed_question = False\n",
    "detailed = False\n",
    "\n",
    "outcome = controller.search( question, mixed_question,detailed )\n",
    "print(outcome)"
   ]
  },
  {
   "cell_type": "code",
   "execution_count": null,
   "metadata": {},
   "outputs": [
    {
     "name": "stdout",
     "output_type": "stream",
     "text": [
      "{\"result\": \"**결론:** 전결은 최종 결재자 이전에 있는 결재자가 문서를 승인하고 결재 처리를 완료하는 것입니다.\\n\\n**이유:**\\n* 문서의 중요도에 따라 최종 결재자에게 결재 업무가 과중될 수 있습니다.\\n* 전결처리를 하면 최종 결재자의 업무 부담을 줄일 수 있습니다.\\n* 전결처리 후 문서는 다음 결재자에게 전달됩니다.\\n* 반려된 문서는 기안자에게 넘어가며, 기안자는 재기안을 클릭하여 결재를 다시 요청할 수 있습니다.\"}"
     ]
    }
   ],
   "source": [
    "!curl -X POST https://daou-office-run-o5gpdmpuwq-du.a.run.app/response -H 'Content-Type: application/json' -d '{\"question\":\"전결에 대해서 설명해주세요.\"}'\n"
   ]
  },
  {
   "cell_type": "code",
   "execution_count": null,
   "metadata": {},
   "outputs": [
    {
     "name": "stdout",
     "output_type": "stream",
     "text": [
      "{\"result\": \"\\n\\n[Facts] :  결재하기 | 295 전결 전결이란 최종 결재자 이전에 있는 결재자가 문서를 승인하고 결재 처리를 완료하는 것입니다. 문서의 중요도에 따라 최종 결재자에게 결재 업무가 과중되는 경우 전결처리를 할 수 있습니다.내가 최종 결재자이면 기안된 문서는 결재 완료 처리되고, 다음 결재자가 있는 경우 다음 결재자에게 전달 됩니다. 반려된 문서는 기안자에게 넘어가며, 기안자는 재기안을 클릭하여 결재를 다시 요청할 수 있습니 다. 292 | 전자결재\\n\\n수신자에 사용자를 지정한 경우 해당 사용자는 본인의 수신 문서함에서 수신 문서를 확인할 수 있습니다.\\n수신자에 부서를 지정한 경우 부서의 부서장이나 부부서장, 부서 문서함 담당자가 부서 수신함에서 해당\\n문서를 접수하면서 담당자를 지정할 수 있습니다. 담당자가 지정되면 해당 사용자는 자신의 수신 문서함에\\n서 수신 문서를 확인할 수 있습니다.\\n\\n자주 쓰는 양식으로 추가\\n\\n자주 사용하는 결재 양식은 자주 쓰는 양식으로 지정할 수 있습니다. 자주 쓰는 양식은 왼쪽 사이드바 상단에 보이기\\n때문에 문서함이 많아졌을 때도 위아래로 움직일 필요 없이 빠르게 찾아볼 수 있습니다.\\n결재 양식을 자주 쓰는 양식으로 추가하는 방법은 다음과 같습니다.\\n\\n1. 화면 왼쪽 상단에 있는 새 결재 진행을 클릭합니다. 결재양식 선택화면이 나타납니다.\\n2. 결재양식 선택화면의 왼쪽에서 양식을 선택합니다. 양식을 선택하면, 결재양식 선택화면의 오른쪽에 선택한 양\\n식의 상세정보가 나타납니다.\\n3. 화면 오른쪽 상단에 있는 자주 쓰는 양식으로 추가를 클릭합니다. 왼쪽 사이드바 상단에 해당 양식이 추가됩니다.\\n\\n그림 12-6 자주 쓰는 양식\\n\\n자주 쓰는 양식 순서바꾸기\\n\\n자주 쓰는 양식의 순서를 변경하는 방법은 다음과 같습니다.\\n\\n1. 자주 쓰는 양식 옆에 있는 수정아이콘( )을 클릭합니다.\\n2. 드래그 앤 드롭으로 양식의 순서를 변경합니다.\\n3. 수정이 완료되면, 확인아이콘( )을 클릭합니다.\\n\\n[Facts] :  금액에 대해 기안자가 전결권자인 경우, 차상위자의 결재를 받음 - 기안자가 금액에 대한 전결권이 있더라도 차상위 결재권자의 결재가 필요한 문서의 경우 체크하여 사용합니다.부서 설정 추가 - 자동결재선 설정 영역이 추가되어 부서별 자동결재선 설정이 가능합니다 8. 전자결재 | 131\\n\\n○ 그룹명 - 항목란에서 선택된 값들의 그룹명을 설정합니다\\n○ 항목 - 해당 순서 결재선에 적용할 항목을 선택합니다. 직책/직급/직위 중 위에서 선택한 값으로 추가가 가\\n\\n능합니다.\\n\\n7. 부서 설정 추가 - 자동결재선 설정 영역이 추가되어 부서별 자동결재선 설정이 가능합니다\\n8. 옵션 추가 - 결재 시 기안자의 상황에 따라 알맞은 결재선을 선택하여 이용할 수 있도록 하기 위한 결재선별 옵션\\n을 생성할 수 있으며 각 결재선 옵션에 대한 명칭 지정은 양식편집기 내에서 가능합니다.\\n\\n9. 저장 - 설정한 내역을 저장/취소 합니다.\\n\\n결재선 설정\\n\\n전체 부서\\n\\n직책/직급/직위를 선택 후 결재선을 설정합니다. 결재자 추가 버튼으로 다수의 결재자를 추가 가능합니다.\\n[사이트어드민>전자결재>결재 양식>양식 선택>양식 편집기] 로 이동합니다.\\n\\n삭제 목록에 남아있는 부서일 경우, 결재선으로 저장할 수 없습니다. 해당 부서를 완전 삭제하거나 결재선\\n을 변경해주세요.\\n부서를 완전 삭제했을 경우에만 자동으로 결재선에서 삭제됩니다.\\n\\n[Facts] :  ■ 공문발송 기능 - 결재 문서가 완료되면 지정된 공문 수신처로 메일을 통해 결재 문서가 자동으로 메발 이 발 송되는 기능을 사용할 것인지를 선택합니다. ○ 권한/보안 ■ 전결 옵션 - 최종 결재자 이전에 있는 결재자가 결재를 하고, 결재를 완료하는 것을 전결이라고 합니이 양식을 일부에게만 노출하려면 일부 사용자를 선택하 고, 사용자나 그룹, 부서 등을 노출하려는 대상을 선택합니다. 양식을 추가할 때는 전사 문서함 폴더가 미리 생성되어 있어야 합니다. 전사 문서함 폴더는 [메뉴관리 > 전\\n자결재 > 전사 문서함]에서 추가할 수 있습니다.\"}"
     ]
    }
   ],
   "source": [
    "!curl -X POST https://daou-office-run-o5gpdmpuwq-du.a.run.app/search -H 'Content-Type: application/json' -d '{\"question\":\"전결에 대해서 설명해주세요.\"}'\n"
   ]
  }
 ],
 "metadata": {
  "kernelspec": {
   "display_name": "CloudRun_Search-3qrz3MGx",
   "language": "python",
   "name": "python3"
  },
  "language_info": {
   "codemirror_mode": {
    "name": "ipython",
    "version": 3
   },
   "file_extension": ".py",
   "mimetype": "text/x-python",
   "name": "python",
   "nbconvert_exporter": "python",
   "pygments_lexer": "ipython3",
   "version": "3.9.2"
  }
 },
 "nbformat": 4,
 "nbformat_minor": 2
}
