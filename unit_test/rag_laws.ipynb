{
 "cells": [
  {
   "cell_type": "markdown",
   "metadata": {},
   "source": [
    "### Core count"
   ]
  },
  {
   "cell_type": "code",
   "execution_count": 1,
   "metadata": {},
   "outputs": [],
   "source": [
    "# Copyright 2024 shins777@gmail.com\n",
    "#\n",
    "# Licensed under the Apache License, Version 2.0 (the \"License\");\n",
    "# you may not use this file except in compliance with the License.\n",
    "# You may obtain a copy of the License at\n",
    "#\n",
    "#    https://www.apache.org/licenses/LICENSE-2.0\n",
    "#\n",
    "# Unless required by applicable law or agreed to in writing, software\n",
    "# distributed under the License is distributed on an \"AS IS\" BASIS,\n",
    "# WITHOUT WARRANTIES OR CONDITIONS OF ANY KIND, either express or implied.\n",
    "# See the License for the specific language governing permissions and\n",
    "# limitations under the License."
   ]
  },
  {
   "cell_type": "code",
   "execution_count": 2,
   "metadata": {},
   "outputs": [
    {
     "name": "stdout",
     "output_type": "stream",
     "text": [
      "Note: you may need to restart the kernel to use updated packages.\n"
     ]
    }
   ],
   "source": [
    "%pip install --upgrade --quiet langchain langchain-core langchain-google-vertexai google-cloud-discoveryengine"
   ]
  },
  {
   "cell_type": "markdown",
   "metadata": {},
   "source": [
    "Check number of cores"
   ]
  },
  {
   "cell_type": "code",
   "execution_count": 3,
   "metadata": {},
   "outputs": [
    {
     "name": "stdout",
     "output_type": "stream",
     "text": [
      "4\n"
     ]
    }
   ],
   "source": [
    "!nproc"
   ]
  },
  {
   "cell_type": "code",
   "execution_count": 4,
   "metadata": {},
   "outputs": [],
   "source": [
    "from IPython.display import display, Markdown"
   ]
  },
  {
   "cell_type": "markdown",
   "metadata": {},
   "source": [
    "### Initialize env."
   ]
  },
  {
   "cell_type": "code",
   "execution_count": 5,
   "metadata": {},
   "outputs": [],
   "source": [
    "%load_ext autoreload\n",
    "%autoreload 2\n",
    "\n",
    "import sys\n",
    "import os\n",
    "import time\n",
    "\n",
    "directory = os.getcwd()\n",
    "# Append sys path to refer utils.\n",
    "sys.path.append(\"../src\")\n",
    "\n",
    "import logging\n",
    "logging.basicConfig(level=logging.INFO)\n"
   ]
  },
  {
   "cell_type": "markdown",
   "metadata": {},
   "source": [
    "### Detailed information from Search"
   ]
  },
  {
   "cell_type": "code",
   "execution_count": 6,
   "metadata": {},
   "outputs": [
    {
     "name": "stderr",
     "output_type": "stream",
     "text": [
      "INFO:root:[Controller][__init__] Controller.credentials  : <google.oauth2.service_account.Credentials object at 0x7c8f441e83a0>\n",
      "INFO:root:[Controller][__init__] Controller.gemini_model  : None\n",
      "INFO:root:[Controller][__init__] Initialize Controller done!\n",
      "INFO:root:[Controller][response] Start response : {'mixed_question': True, 'detailed_return': True}\n",
      "INFO:root:[Controller][search] Mixed Question Processing Start! : 개인정보 분쟁조정위원회는 어떤 조직이고 역할은 무엇인가요?\n",
      "INFO:root:[Controller][question_verifier] Generated Question List : ['개인정보 분쟁조정위원회는 어떤 기관인가요?', '개인정보 분쟁조정위원회의 설립 목적은 무엇인가요?', '개인정보 분쟁조정위원회는 어떤 역할을 수행하나요?']\n",
      "INFO:root:[Controller][search_chunks] Search Start! : 개인정보 분쟁조정위원회는 어떤 기관인가요?\n",
      "INFO:root:[Controller][search_chunks] Search Start! : 개인정보 분쟁조정위원회의 설립 목적은 무엇인가요?\n",
      "INFO:root:[Controller][search_chunks] Search Start! : 개인정보 분쟁조정위원회는 어떤 역할을 수행하나요?\n",
      "INFO:root:[Controller][search_chunks] Search Start! : 개인정보 분쟁조정위원회는 어떤 조직이고 역할은 무엇인가요?\n"
     ]
    },
    {
     "name": "stdout",
     "output_type": "stream",
     "text": [
      "questions :             [\"개인정보 분쟁조정위원회는 어떤 기관인가요?\", \"개인정보 분쟁조정위원회의 설립 목적은 무엇인가요?\", \"개인정보 분쟁조정위원회는 어떤 역할을 수행하나요?\"]\n",
      "\n"
     ]
    },
    {
     "name": "stderr",
     "output_type": "stream",
     "text": [
      "INFO:root:[Controller][search_chunks] Search Response len : 16233\n",
      "INFO:root:[Controller][search_chunks] Search End! : 개인정보 분쟁조정위원회의 설립 목적은 무엇인가요?\n",
      "INFO:root:[Controller][search_chunks] Search Response len : 17349\n",
      "INFO:root:[Controller][search_chunks] Search End! : 개인정보 분쟁조정위원회는 어떤 조직이고 역할은 무엇인가요?\n",
      "INFO:root:[Controller][search_chunks] Search Response len : 15707\n",
      "INFO:root:[Controller][search_chunks] Search End! : 개인정보 분쟁조정위원회는 어떤 역할을 수행하나요?\n",
      "INFO:root:[Controller][search_chunks] Search Response len : 15811\n",
      "INFO:root:[Controller][search_chunks] Search End! : 개인정보 분쟁조정위원회는 어떤 기관인가요?\n",
      "INFO:root:[Controller][search] len(searched_list) : 4\n",
      "INFO:root:[Controller][context_verifier] Question : 개인정보 분쟁조정위원회의 설립 목적은 무엇인가요?, Verification Result :No \n",
      "\n",
      "INFO:root:[Controller][context_verifier] Question : 개인정보 분쟁조정위원회는 어떤 기관인가요?, Verification Result :Yes \n",
      "\n",
      "INFO:root:[Controller][context_verifier] Question : 개인정보 분쟁조정위원회는 어떤 역할을 수행하나요?, Verification Result :Yes \n",
      "\n",
      "INFO:root:[Controller][context_verifier] Question : 개인정보 분쟁조정위원회는 어떤 조직이고 역할은 무엇인가요?, Verification Result :Yes \n",
      "\n",
      "INFO:root:[Controller][search] Elapsed time : {'time_question_splitter': 2.744, 'time_ai_search': 0.606, 'time_context_verifier': 1.351, 'num_total_searched': 4, 'num_verified_contexts': 3}\n",
      "INFO:root:[Controller][response] Elapsed time : {'time_question_splitter': 2.744, 'time_ai_search': 0.606, 'time_context_verifier': 1.351, 'num_total_searched': 4, 'num_verified_contexts': 3, 'llm_request': 6.436}\n"
     ]
    },
    {
     "data": {
      "text/markdown": [
       "    \n",
       "## 1. 답변 요약\n",
       "개인정보 분쟁조정위원회는 개인정보에 관한 분쟁을 조정하기 위해 설립된 기관이며, 개인정보와 관련된 분쟁을 조정하는 역할을 합니다. \n",
       "\n",
       "## 2. 이유 또는 참조 근거\n",
       "* <Context>의 \"제7장 개인정보 분쟁조정위원회\"에서 제40조(설치 및 구성) ①항에 따르면, 개인정보에 관한 분쟁의 조정을 위하여 개인정보 분쟁조정위원회가 설립되었다고 명시되어 있습니다. \n",
       "* 따라서 개인정보 분쟁조정위원회는 개인정보와 관련된 분쟁을 조정하는 역할을 수행한다고 볼 수 있습니다. \n",
       "\n",
       "## 3. 기타 고려사항\n",
       "* 개인정보 분쟁조정위원회는 개인정보 보호법 제7장에 그 구성과 운영에 대한 상세한 내용이 규정되어 있습니다. \n"
      ],
      "text/plain": [
       "<IPython.core.display.Markdown object>"
      ]
     },
     "metadata": {},
     "output_type": "display_data"
    },
    {
     "name": "stdout",
     "output_type": "stream",
     "text": [
      "질문 재작성 : 2.744 seconds\n",
      "컨텍스트 검색 : 0.606 seconds\n",
      "컨텍스트 검증 : 1.351 seconds\n",
      "최종 추론 요청 : 6.436 seconds\n",
      "전체 처리 시간 : 11.137 seconds\n"
     ]
    }
   ],
   "source": [
    "from controller import Controller\n",
    "\n",
    "prod = False\n",
    "controller = Controller(prod)\n",
    "\n",
    "#question = \"개인정보 보호법에 대해서 설명해주세요.\"\n",
    "question = \"개인정보 분쟁조정위원회는 어떤 조직이고 역할은 무엇인가요?\"\n",
    "\n",
    "condition = {\n",
    "    \"mixed_question\" : True,\n",
    "    \"detailed_return\" : True,\n",
    "}\n",
    "\n",
    "if condition['detailed_return']:\n",
    "    splitted_questions, contexts_list, verified_context_list, final_prompt, final_outcome, execution_stat = controller.response(question, condition)\n",
    "\n",
    "    # print(f\"splitted_questions {splitted_questions}\")\n",
    "    # print(f\"contexts_list {contexts_list}\")\n",
    "    # print(f\"verified_context_list {verified_context_list}\")\n",
    "\n",
    "    # print(f\"final_prompt {final_prompt}\")\n",
    "    # print(f\"final_outcome {final_outcome}\")\n",
    "    # #display(Markdown(final_prompt))\n",
    "    display(Markdown(final_outcome))\n",
    "\n",
    "\n",
    "    q_split = execution_stat['time_question_splitter']\n",
    "    a_seach = execution_stat['time_ai_search']\n",
    "    c_veri = execution_stat['time_context_verifier']\n",
    "    l_req = execution_stat['llm_request']\n",
    "    total = round((q_split + a_seach + c_veri + l_req), 3)\n",
    "\n",
    "    print(f\"질문 재작성 : {q_split} seconds\")\n",
    "    print(f\"컨텍스트 검색 : {a_seach} seconds\")\n",
    "    print(f\"컨텍스트 검증 : {c_veri} seconds\")\n",
    "    print(f\"최종 추론 요청 : {l_req} seconds\")\n",
    "    print(f\"전체 처리 시간 : {total} seconds\")\n",
    "\n",
    "else:\n",
    "    final_outcome = controller.response(question, condition)\n",
    "\n",
    "    print(f\"final_outcome {final_outcome}\")\n",
    "\n"
   ]
  },
  {
   "cell_type": "code",
   "execution_count": 7,
   "metadata": {},
   "outputs": [
    {
     "name": "stdout",
     "output_type": "stream",
     "text": [
      "\n",
      "<html><head>\n",
      "<meta http-equiv=\"content-type\" content=\"text/html;charset=utf-8\">\n",
      "<title>404 Page not found</title>\n",
      "</head>\n",
      "<body text=#000000 bgcolor=#ffffff>\n",
      "<h1>Error: Page not found</h1>\n",
      "<h2>The requested URL was not found on this server.</h2>\n",
      "<h2></h2>\n",
      "</body></html>\n"
     ]
    }
   ],
   "source": [
    "!curl -X POST https://laws-terms-run-o5gpdmpuwq-du.a.run.app/search_detailed -H 'Content-Type: application/json' -d '{\"question\":\"개인정보 보호법에 대해서 설명해주세요.\"}'\n"
   ]
  }
 ],
 "metadata": {
  "kernelspec": {
   "display_name": "CloudRun_Search-3qrz3MGx",
   "language": "python",
   "name": "python3"
  },
  "language_info": {
   "codemirror_mode": {
    "name": "ipython",
    "version": 3
   },
   "file_extension": ".py",
   "mimetype": "text/x-python",
   "name": "python",
   "nbconvert_exporter": "python",
   "pygments_lexer": "ipython3",
   "version": "3.10.12"
  }
 },
 "nbformat": 4,
 "nbformat_minor": 2
}
