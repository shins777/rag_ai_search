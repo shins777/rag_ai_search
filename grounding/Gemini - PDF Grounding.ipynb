{
 "cells": [
  {
   "cell_type": "markdown",
   "metadata": {},
   "source": [
    "Copyright 2024 shins777@gmail.com\n",
    "\n",
    "Licensed under the Apache License, Version 2.0 (the \"License\"); you may not use this file except in compliance with the License. You may obtain a copy of the License at\n",
    "\n",
    "https://www.apache.org/licenses/LICENSE-2.0\n",
    "\n",
    "Unless required by applicable law or agreed to in writing, software distributed under the License is distributed on an \"AS IS\" BASIS, WITHOUT WARRANTIES OR CONDITIONS OF ANY KIND, either express or implied. See the License for the specific language governing permissions and limitations under the License."
   ]
  },
  {
   "cell_type": "markdown",
   "metadata": {},
   "source": [
    "# Gemini 1.5 Pro : PDF Reading for Grounding service.\n",
    "Feedback : shins777@gmail.com.\n",
    "\n",
    "이 Colab은 Gemini 1.5 Pro를 이용해서 PDF 파일을 곧바로 Grounding 으로 활용하는 예제입니다.\n",
    "이 예제는 1M input token 이 가능한 Gemini 1.5 pro를 RAG 아키텍처에 활용하기 위한 예제입니다."
   ]
  },
  {
   "cell_type": "code",
   "execution_count": 9,
   "metadata": {},
   "outputs": [
    {
     "name": "stdout",
     "output_type": "stream",
     "text": [
      "Note: you may need to restart the kernel to use updated packages.\n"
     ]
    }
   ],
   "source": [
    "%pip install --upgrade --quiet google-cloud-aiplatform"
   ]
  },
  {
   "cell_type": "code",
   "execution_count": 10,
   "metadata": {},
   "outputs": [],
   "source": [
    "from IPython.display import display, Markdown\n"
   ]
  },
  {
   "cell_type": "code",
   "execution_count": 11,
   "metadata": {},
   "outputs": [],
   "source": [
    "#  아래 코드는 Colab 환경에서만 실행해주세요. 다른 환경에서는 동작하지 않습니다.\n",
    "import sys\n",
    "\n",
    "if \"google.colab\" in sys.modules:\n",
    "    from google.colab import auth\n",
    "    auth.authenticate_user()"
   ]
  },
  {
   "cell_type": "code",
   "execution_count": 12,
   "metadata": {},
   "outputs": [],
   "source": [
    "MODEL_NAME=\"gemini-1.5-pro-preview-0409\"\n",
    "PROJECT_ID=\"ai-hangsik\"\n",
    "REGION=\"us-central1\""
   ]
  },
  {
   "cell_type": "markdown",
   "metadata": {},
   "source": [
    "### Gen AI 기본 설정"
   ]
  },
  {
   "cell_type": "code",
   "execution_count": 13,
   "metadata": {},
   "outputs": [],
   "source": [
    "import base64\n",
    "import vertexai\n",
    "from vertexai.preview.generative_models import GenerativeModel, Part\n",
    "from vertexai.generative_models import GenerativeModel, Part, FinishReason\n",
    "import vertexai.preview.generative_models as generative_models\n",
    "\n",
    "def get_obj_content(coding='utf-8', obj_loc=\"\"):\n",
    "    with open(obj_loc, 'rb') as f:\n",
    "        obj_data = base64.b64encode(f.read()).decode(coding)\n",
    "        return obj_data\n",
    "\n",
    "generation_config = {\n",
    "    \"max_output_tokens\": 8192,\n",
    "    \"temperature\": 1,\n",
    "    \"top_p\": 0.95,\n",
    "}\n",
    "\n",
    "safety_settings = {\n",
    "    generative_models.HarmCategory.HARM_CATEGORY_HATE_SPEECH: generative_models.HarmBlockThreshold.BLOCK_MEDIUM_AND_ABOVE,\n",
    "    generative_models.HarmCategory.HARM_CATEGORY_DANGEROUS_CONTENT: generative_models.HarmBlockThreshold.BLOCK_MEDIUM_AND_ABOVE,\n",
    "    generative_models.HarmCategory.HARM_CATEGORY_SEXUALLY_EXPLICIT: generative_models.HarmBlockThreshold.BLOCK_MEDIUM_AND_ABOVE,\n",
    "    generative_models.HarmCategory.HARM_CATEGORY_HARASSMENT: generative_models.HarmBlockThreshold.BLOCK_MEDIUM_AND_ABOVE,\n",
    "}\n"
   ]
  },
  {
   "cell_type": "markdown",
   "metadata": {},
   "source": [
    "### Gemini 1.5 Pro Invoke"
   ]
  },
  {
   "cell_type": "code",
   "execution_count": 14,
   "metadata": {},
   "outputs": [],
   "source": [
    "def generate(file_path:str,\n",
    "             query : str) -> None:\n",
    "\n",
    "  vertexai.init(project=\"ai-hangsik\", location=\"us-central1\")\n",
    "  model = GenerativeModel(\"gemini-1.5-pro-preview-0409\")\n",
    "\n",
    "  pdf_encoded = get_obj_content(obj_loc=file_path)\n",
    "  document1 = Part.from_data(data=base64.b64decode(pdf_encoded), mime_type=\"application/pdf\")\n",
    "\n",
    "  responses = model.generate_content(\n",
    "      [document1, query],\n",
    "      generation_config=generation_config,\n",
    "      safety_settings=safety_settings,\n",
    "      stream=False,\n",
    "  )\n",
    "\n",
    "  # for response in responses:\n",
    "  #   print(response.text, end=\"\")\n",
    "  return responses.text\n"
   ]
  },
  {
   "cell_type": "markdown",
   "metadata": {},
   "source": [
    "### 대용량 파일 ( 60페이지 보고서 ) 해석."
   ]
  },
  {
   "cell_type": "code",
   "execution_count": 15,
   "metadata": {},
   "outputs": [
    {
     "name": "stdout",
     "output_type": "stream",
     "text": [
      "/home/admin_/rag_ai_search/contents/하나금융경영연구소_대한민국 금융소비자 보고서.pdf\n"
     ]
    },
    {
     "data": {
      "text/markdown": [
       "설문시점은 **2022년 6월**이며, 세대별 표본 수는 다음과 같습니다.\n",
       "\n",
       "* **베이비부머(~’65)**: 865명 (17.3%)\n",
       "* **X세대(’66~’80)**: 1,876명 (37.5%)\n",
       "* **밀레니얼(’81~’95)**: 1,672명 (33.4%)\n",
       "* **Z세대(’96~’02)**: 587명 (11.7%) \n"
      ],
      "text/plain": [
       "<IPython.core.display.Markdown object>"
      ]
     },
     "metadata": {},
     "output_type": "display_data"
    }
   ],
   "source": [
    "dir_path = \"/home/admin_/rag_ai_search/contents/\"\n",
    "file_path = dir_path + \"하나금융경영연구소_대한민국 금융소비자 보고서.pdf\"\n",
    "query = \"설문시점이 언제이고 세대별 참여 비율을 알려주세요.\"\n",
    "print(file_path)\n",
    "\n",
    "outcome = generate(file_path,query )\n",
    "display(Markdown(outcome))"
   ]
  },
  {
   "cell_type": "markdown",
   "metadata": {},
   "source": [
    "### 그래프 & 이미지 복합 데이터 해석."
   ]
  },
  {
   "cell_type": "code",
   "execution_count": 16,
   "metadata": {},
   "outputs": [
    {
     "name": "stdout",
     "output_type": "stream",
     "text": [
      "/home/admin_/rag_ai_search/contents/하나금융경영연구소_대한민국 금융소비자 보고서.pdf\n"
     ]
    },
    {
     "data": {
      "text/markdown": [
       "죄송하지만 제공해 주신 텍스트에 금융 자산 포트폴리오에서 X 세대의 비율에 대한 정보가 없어 답변드릴 수 없습니다. 텍스트에는 X 세대의 평균 금융자산 규모와 다른 세대에 비해 X 세대가 주로 사용하는 금융기관에 대한 정보만 포함되어 있습니다. "
      ],
      "text/plain": [
       "<IPython.core.display.Markdown object>"
      ]
     },
     "metadata": {},
     "output_type": "display_data"
    }
   ],
   "source": [
    "dir_path = \"/home/admin_/rag_ai_search/contents/\"\n",
    "file_path = dir_path + \"하나금융경영연구소_대한민국 금융소비자 보고서.pdf\"\n",
    "query = \"금융 자산 포트폴리오에서 가구 평균 금융자산이 얼마이고 X 세대의 금융자산 포트폴리오의 비율을 알려주세요.\"\n",
    "print(file_path)\n",
    "\n",
    "outcome = generate(file_path,query )\n",
    "display(Markdown(outcome))"
   ]
  }
 ],
 "metadata": {
  "kernelspec": {
   "display_name": "Python 3",
   "language": "python",
   "name": "python3"
  },
  "language_info": {
   "codemirror_mode": {
    "name": "ipython",
    "version": 3
   },
   "file_extension": ".py",
   "mimetype": "text/x-python",
   "name": "python",
   "nbconvert_exporter": "python",
   "pygments_lexer": "ipython3",
   "version": "3.10.12"
  }
 },
 "nbformat": 4,
 "nbformat_minor": 2
}
