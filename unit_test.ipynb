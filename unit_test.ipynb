{
 "cells": [
  {
   "cell_type": "code",
   "execution_count": null,
   "metadata": {},
   "outputs": [],
   "source": [
    "%load_ext autoreload\n",
    "%autoreload 2\n",
    "\n",
    "import sys\n",
    "import os\n",
    "import time\n",
    "\n",
    "directory = os.getcwd()\n",
    "# Append sys path to refer utils.\n",
    "sys.path.append(directory+\"/src\")"
   ]
  },
  {
   "cell_type": "code",
   "execution_count": null,
   "metadata": {},
   "outputs": [],
   "source": [
    "from controller import Controller\n",
    "\n",
    "controller = Controller()\n",
    "\n",
    "question = \"피보험자가 북한산을 오르다가 낙사했습니다. 이 경우 보험금을 지급해야 할까요? 자세하게 설명해 주세요.\"\n",
    "detailed = True\n",
    "\n",
    "question_list, contexts_list, final_contexts, final_outcome, elapsed_time = controller.process(question, detailed)\n",
    "\n",
    "print(f\"question_list {question_list}\")\n",
    "print(f\"contexts_list {contexts_list}\")\n",
    "print(f\"final_contexts {final_contexts}\")\n",
    "print(f\"final_outcome {final_outcome}\")\n",
    "print(f\"elapsed_time {elapsed_time}\")\n"
   ]
  },
  {
   "cell_type": "code",
   "execution_count": null,
   "metadata": {},
   "outputs": [],
   "source": [
    "\n",
    "#question = \"전결에 대해서 설명해주고, 결재칸은 최대 몇개까지 가능한가요 ?\"\n",
    "question = \"천식이 있던 피보험자는 지난번 화재 사고로 사망하였습니다. 이때 사망보험금을 지급해야 할까요?\"\n",
    "question = \"사고로 인해 시력이 안전수지 상태인 고객의 장해지급률은 몇 퍼센트입니까?\"\n",
    "#question = \"메일함 관리에 대해서 설명해주세요.\"\n",
    "question = \"피보험자가 북한산을  등반하다가 낙사했습니다. 보험금을 지급해야 할까요?\"\n",
    "question = \"항암방사선/약물 치료비 담보에 관한 특별약관들은 무엇무엇이 있습니까? \"\n",
    "question = \"폭행으로 인해 피보험자의 치아가 8개가 결손되었습니다. 이때 장해는 어떻게 분류되며, 장해지급률은 몇 퍼센트 입니까?\"\n",
    "question = \"천식이 있던 피보험자는 지난번 화재 사고로 사망하였습니다. 이때 사망보험금을 지급해야 할까요?\"\n",
    "question = \"전화 계약의 경우 청약서에 들어갈 자필서명을 생략할 수 있을까요? 다만 계약자와 보험수익자는 애인관계 입니다.\"\n",
    "question = \"피보험자가 배달 아르바이트를 이유로 오토바이를 계속적으로 사용하게 된 경우 피보험자는 이를 알릴 의무가 있습니까?\"\n",
    "question = \"피보험자가 북한산을 오르다가 낙사했습니다. 이 경우 보험금을 지급해야 할까요? 자세하게 설명해 주세요.\"\n",
    "\n",
    "detailed = False\n",
    "\n",
    "controller = Controller()\n",
    "outcome = controller.process( question, detailed )\n",
    "\n",
    "#print(f\"final outcome : {outcome}\")"
   ]
  },
  {
   "cell_type": "code",
   "execution_count": null,
   "metadata": {},
   "outputs": [],
   "source": [
    "import json\n",
    "import re\n",
    "getStringWithDecodedUnicode = lambda str : re.sub( '\\\\\\\\u([\\da-f]{4})', (lambda x : chr( int( x.group(1), 16 ) )), str )\n",
    "\n",
    "d = {'navn': '신', 'stilling': '항식'}\n",
    "jsonString = json.dumps(d)\n",
    "\n",
    "jsonString = json.dumps(d, ensure_ascii=False)\n",
    "\n",
    "print (jsonString)\n",
    "\n"
   ]
  },
  {
   "cell_type": "markdown",
   "metadata": {},
   "source": [
    "### Threadpool Unit Test "
   ]
  },
  {
   "cell_type": "code",
   "execution_count": null,
   "metadata": {},
   "outputs": [],
   "source": [
    "from concurrent.futures import ThreadPoolExecutor\n",
    "import concurrent.futures\n",
    "\n",
    "controller = Controller()\n",
    "ai_search = AI_Search()\n",
    "\n",
    "t1 = time.time()\n",
    "\n",
    "question_list = controller.question_verifier(question)\n",
    "\n",
    "t2 = time.time()\n",
    "\n",
    "with ThreadPoolExecutor(max_workers=10) as executor:\n",
    "\n",
    "    futures = [executor.submit(controller.ai_search, question) for question in question_list]\n",
    "    results = [future.result() for future in concurrent.futures.as_completed(futures)]\n",
    "\n",
    "    print(f\"results : {type(results)}\")\n",
    "\n",
    "\n",
    "for result in results:\n",
    "    print(f\"contexts_list : {result}\")\n",
    "    print(f\"contexts_list : {type(result)}\")    "
   ]
  },
  {
   "cell_type": "markdown",
   "metadata": {},
   "source": [
    "### Vertex AI Search"
   ]
  },
  {
   "cell_type": "code",
   "execution_count": null,
   "metadata": {},
   "outputs": [],
   "source": [
    "retrival_num = 10\n",
    "\n",
    "search_url = \"https://discoveryengine.googleapis.com/v1alpha/projects/721521243942/locations/global/collections/default_collection/dataStores/daou-office-manual-ds_1708831122205/servingConfigs/default_search:search\"\n",
    "question = \"전결에 대해서 설명해주고 전결을 할 경우에 문제가 될수 있는 사항에 대해서 설명해주세요.\"\n",
    "\n",
    "controller = Controller()\n",
    "\n",
    "reponse = controller.retrieve_vertex_ai_search(question, search_url, retrival_num)\n",
    "\n",
    "outcome = controller.parse_discovery_results(reponse)\n",
    "\n",
    "print(outcome)\n"
   ]
  },
  {
   "cell_type": "markdown",
   "metadata": {},
   "source": [
    "### Flatenning the nested lists\n"
   ]
  },
  {
   "cell_type": "code",
   "execution_count": null,
   "metadata": {},
   "outputs": [],
   "source": [
    "import numpy as np\n",
    " \n",
    "lst = [['11', '33'], ['22', '55'], ['77', '88']]\n",
    " \n",
    "new = list(np.concatenate(lst))\n",
    " \n",
    "print(new)"
   ]
  },
  {
   "cell_type": "markdown",
   "metadata": {},
   "source": [
    "### Concurrent - ThreadPoolExecutor - submit unitest"
   ]
  },
  {
   "cell_type": "code",
   "execution_count": null,
   "metadata": {},
   "outputs": [],
   "source": [
    "def unit_test(arg1 :str):\n",
    "    return arg1\n",
    "\n",
    "\n",
    "args = ['1','2','3']\n",
    "\n",
    "with ThreadPoolExecutor(max_workers=10) as executor:\n",
    "\n",
    "    futures = [executor.submit(unit_test, arg) for arg in args]\n",
    "    results = [future.result() for future in concurrent.futures.as_completed(futures)]\n",
    "\n",
    "print(results)    "
   ]
  },
  {
   "cell_type": "markdown",
   "metadata": {},
   "source": [
    "### Concurrent - ThreadPoolExecutor - map unitest"
   ]
  },
  {
   "cell_type": "code",
   "execution_count": null,
   "metadata": {},
   "outputs": [],
   "source": [
    "from concurrent.futures import ThreadPoolExecutor\n",
    "import concurrent.futures\n",
    "\n",
    "def unit_test(arg1 :str):\n",
    "    return arg1\n",
    "\n",
    "args = ['1','2','3']\n",
    "\n",
    "with ThreadPoolExecutor(max_workers=10) as executor:\n",
    "    results = executor.map(unit_test, args)\n",
    "\n",
    "outcome = [res for res in results]\n",
    "\n",
    "print(results)\n",
    "print(outcome)\n"
   ]
  }
 ],
 "metadata": {
  "kernelspec": {
   "display_name": "CloudRun_Search-3qrz3MGx",
   "language": "python",
   "name": "python3"
  },
  "language_info": {
   "codemirror_mode": {
    "name": "ipython",
    "version": 3
   },
   "file_extension": ".py",
   "mimetype": "text/x-python",
   "name": "python",
   "nbconvert_exporter": "python",
   "pygments_lexer": "ipython3",
   "version": "3.10.9"
  }
 },
 "nbformat": 4,
 "nbformat_minor": 2
}
