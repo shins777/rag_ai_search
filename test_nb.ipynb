{
 "cells": [
  {
   "cell_type": "markdown",
   "metadata": {},
   "source": [
    "### Core count"
   ]
  },
  {
   "cell_type": "code",
   "execution_count": 1,
   "metadata": {},
   "outputs": [
    {
     "name": "stdout",
     "output_type": "stream",
     "text": [
      "4\n"
     ]
    }
   ],
   "source": [
    "!nproc"
   ]
  },
  {
   "cell_type": "markdown",
   "metadata": {},
   "source": [
    "### Initialize env."
   ]
  },
  {
   "cell_type": "code",
   "execution_count": 2,
   "metadata": {},
   "outputs": [],
   "source": [
    "%load_ext autoreload\n",
    "%autoreload 2\n",
    "\n",
    "import sys\n",
    "import os\n",
    "import time\n",
    "\n",
    "directory = os.getcwd()\n",
    "# Append sys path to refer utils.\n",
    "sys.path.append(directory+\"/src\")"
   ]
  },
  {
   "cell_type": "markdown",
   "metadata": {},
   "source": [
    "### Detailed information from Search"
   ]
  },
  {
   "cell_type": "code",
   "execution_count": 3,
   "metadata": {},
   "outputs": [
    {
     "name": "stderr",
     "output_type": "stream",
     "text": [
      "2024-03-11 04:17:14.720748: I external/local_tsl/tsl/cuda/cudart_stub.cc:31] Could not find cuda drivers on your machine, GPU will not be used.\n",
      "2024-03-11 04:17:15.372358: E external/local_xla/xla/stream_executor/cuda/cuda_dnn.cc:9261] Unable to register cuDNN factory: Attempting to register factory for plugin cuDNN when one has already been registered\n",
      "2024-03-11 04:17:15.372455: E external/local_xla/xla/stream_executor/cuda/cuda_fft.cc:607] Unable to register cuFFT factory: Attempting to register factory for plugin cuFFT when one has already been registered\n",
      "2024-03-11 04:17:15.511187: E external/local_xla/xla/stream_executor/cuda/cuda_blas.cc:1515] Unable to register cuBLAS factory: Attempting to register factory for plugin cuBLAS when one has already been registered\n",
      "2024-03-11 04:17:15.804798: I external/local_tsl/tsl/cuda/cudart_stub.cc:31] Could not find cuda drivers on your machine, GPU will not be used.\n",
      "2024-03-11 04:17:15.808673: I tensorflow/core/platform/cpu_feature_guard.cc:182] This TensorFlow binary is optimized to use available CPU instructions in performance-critical operations.\n",
      "To enable the following instructions: AVX2 FMA, in other operations, rebuild TensorFlow with the appropriate compiler flags.\n",
      "2024-03-11 04:17:18.179126: W tensorflow/compiler/tf2tensorrt/utils/py_utils.cc:38] TF-TRT Warning: Could not find TensorRT\n"
     ]
    },
    {
     "ename": "PermissionDenied",
     "evalue": "403 Your application is authenticating by using local Application Default Credentials. The aiplatform.googleapis.com API requires a quota project, which is not set by default. To learn how to set your quota project, see https://cloud.google.com/docs/authentication/adc-troubleshooting/user-creds . [reason: \"SERVICE_DISABLED\"\ndomain: \"googleapis.com\"\nmetadata {\n  key: \"service\"\n  value: \"aiplatform.googleapis.com\"\n}\nmetadata {\n  key: \"consumer\"\n  value: \"projects/618104708054\"\n}\n]",
     "output_type": "error",
     "traceback": [
      "\u001b[0;31m---------------------------------------------------------------------------\u001b[0m",
      "\u001b[0;31mPermissionDenied\u001b[0m                          Traceback (most recent call last)",
      "\u001b[1;32m/home/admin_/rag_ai_search/test_nb.ipynb Cell 6\u001b[0m line \u001b[0;36m3\n\u001b[1;32m      <a href='vscode-notebook-cell://970-cs-1000207905015-default.cs-asia-east1-vger.cloudshell.dev/home/admin_/rag_ai_search/test_nb.ipynb#W5sdnNjb2RlLXJlbW90ZQ%3D%3D?line=0'>1</a>\u001b[0m \u001b[39mfrom\u001b[39;00m \u001b[39mcontroller\u001b[39;00m \u001b[39mimport\u001b[39;00m Controller\n\u001b[0;32m----> <a href='vscode-notebook-cell://970-cs-1000207905015-default.cs-asia-east1-vger.cloudshell.dev/home/admin_/rag_ai_search/test_nb.ipynb#W5sdnNjb2RlLXJlbW90ZQ%3D%3D?line=2'>3</a>\u001b[0m controller \u001b[39m=\u001b[39m Controller()\n\u001b[1;32m      <a href='vscode-notebook-cell://970-cs-1000207905015-default.cs-asia-east1-vger.cloudshell.dev/home/admin_/rag_ai_search/test_nb.ipynb#W5sdnNjb2RlLXJlbW90ZQ%3D%3D?line=4'>5</a>\u001b[0m question \u001b[39m=\u001b[39m \u001b[39m\"\u001b[39m\u001b[39m피보험자가 북한산을 오르다가 낙사했습니다. 이 경우 보험금을 지급해야 할까요? 자세하게 설명해 주세요.\u001b[39m\u001b[39m\"\u001b[39m\n\u001b[1;32m      <a href='vscode-notebook-cell://970-cs-1000207905015-default.cs-asia-east1-vger.cloudshell.dev/home/admin_/rag_ai_search/test_nb.ipynb#W5sdnNjb2RlLXJlbW90ZQ%3D%3D?line=5'>6</a>\u001b[0m detailed \u001b[39m=\u001b[39m \u001b[39mTrue\u001b[39;00m\n",
      "File \u001b[0;32m~/rag_ai_search/src/controller.py:74\u001b[0m, in \u001b[0;36mController.__init__\u001b[0;34m(self)\u001b[0m\n\u001b[1;32m     71\u001b[0m Controller\u001b[39m.\u001b[39mgemini_native \u001b[39m=\u001b[39m GenerativeModel(\u001b[39m\"\u001b[39m\u001b[39mgemini-1.0-pro-001\u001b[39m\u001b[39m\"\u001b[39m)\n\u001b[1;32m     73\u001b[0m \u001b[39m# Initialize Text Bison by using native way. \u001b[39;00m\n\u001b[0;32m---> 74\u001b[0m Controller\u001b[39m.\u001b[39mbison \u001b[39m=\u001b[39m TextGenerationModel\u001b[39m.\u001b[39;49mfrom_pretrained(env\u001b[39m.\u001b[39;49mbison_model)\n\u001b[1;32m     76\u001b[0m \u001b[39mprint\u001b[39m(\u001b[39mf\u001b[39m\u001b[39m\"\u001b[39m\u001b[39m[Controller][__init__] Controller.gemini_pro langchain : \u001b[39m\u001b[39m{\u001b[39;00mController\u001b[39m.\u001b[39mgemini_pro\u001b[39m}\u001b[39;00m\u001b[39m\"\u001b[39m)\n\u001b[1;32m     77\u001b[0m \u001b[39mprint\u001b[39m(\u001b[39mf\u001b[39m\u001b[39m\"\u001b[39m\u001b[39m[Controller][__init__] Controller.gemini_pro native : \u001b[39m\u001b[39m{\u001b[39;00mController\u001b[39m.\u001b[39mgemini_native\u001b[39m}\u001b[39;00m\u001b[39m\"\u001b[39m)\n",
      "File \u001b[0;32m~/.local/lib/python3.9/site-packages/vertexai/_model_garden/_model_garden_models.py:291\u001b[0m, in \u001b[0;36m_ModelGardenModel.from_pretrained\u001b[0;34m(cls, model_name)\u001b[0m\n\u001b[1;32m    280\u001b[0m credential_exception_str \u001b[39m=\u001b[39m (\n\u001b[1;32m    281\u001b[0m     \u001b[39m\"\u001b[39m\u001b[39m\\n\u001b[39;00m\u001b[39mUnable to authenticate your request.\u001b[39m\u001b[39m\"\u001b[39m\n\u001b[1;32m    282\u001b[0m     \u001b[39m\"\u001b[39m\u001b[39m\\n\u001b[39;00m\u001b[39mDepending on your runtime environment, you can complete authentication by:\u001b[39m\u001b[39m\"\u001b[39m\n\u001b[0;32m   (...)\u001b[0m\n\u001b[1;32m    287\u001b[0m     \u001b[39m\"\u001b[39m\u001b[39m\\n\u001b[39;00m\u001b[39m- if in service account or other: please follow guidance in https://cloud.google.com/docs/authentication\u001b[39m\u001b[39m\"\u001b[39m\n\u001b[1;32m    288\u001b[0m )\n\u001b[1;32m    290\u001b[0m \u001b[39mtry\u001b[39;00m:\n\u001b[0;32m--> 291\u001b[0m     \u001b[39mreturn\u001b[39;00m _from_pretrained(interface_class\u001b[39m=\u001b[39;49m\u001b[39mcls\u001b[39;49m, model_name\u001b[39m=\u001b[39;49mmodel_name)\n\u001b[1;32m    292\u001b[0m \u001b[39mexcept\u001b[39;00m auth_exceptions\u001b[39m.\u001b[39mGoogleAuthError \u001b[39mas\u001b[39;00m e:\n\u001b[1;32m    293\u001b[0m     \u001b[39mraise\u001b[39;00m auth_exceptions\u001b[39m.\u001b[39mGoogleAuthError(credential_exception_str) \u001b[39mfrom\u001b[39;00m \u001b[39me\u001b[39;00m\n",
      "File \u001b[0;32m~/.local/lib/python3.9/site-packages/vertexai/_model_garden/_model_garden_models.py:208\u001b[0m, in \u001b[0;36m_from_pretrained\u001b[0;34m(interface_class, model_name, publisher_model, tuned_vertex_model)\u001b[0m\n\u001b[1;32m    203\u001b[0m     \u001b[39mif\u001b[39;00m \u001b[39mnot\u001b[39;00m interface_class\u001b[39m.\u001b[39m_INSTANCE_SCHEMA_URI:\n\u001b[1;32m    204\u001b[0m         \u001b[39mraise\u001b[39;00m \u001b[39mValueError\u001b[39;00m(\n\u001b[1;32m    205\u001b[0m             \u001b[39mf\u001b[39m\u001b[39m\"\u001b[39m\u001b[39mClass \u001b[39m\u001b[39m{\u001b[39;00minterface_class\u001b[39m}\u001b[39;00m\u001b[39m is not a correct model interface class since it does not have an instance schema URI.\u001b[39m\u001b[39m\"\u001b[39m\n\u001b[1;32m    206\u001b[0m         )\n\u001b[0;32m--> 208\u001b[0m     model_info \u001b[39m=\u001b[39m _get_model_info(\n\u001b[1;32m    209\u001b[0m         model_id\u001b[39m=\u001b[39;49mmodel_name,\n\u001b[1;32m    210\u001b[0m         schema_to_class_map\u001b[39m=\u001b[39;49m{interface_class\u001b[39m.\u001b[39;49m_INSTANCE_SCHEMA_URI: interface_class},\n\u001b[1;32m    211\u001b[0m     )\n\u001b[1;32m    213\u001b[0m \u001b[39melse\u001b[39;00m:\n\u001b[1;32m    214\u001b[0m     schema_uri \u001b[39m=\u001b[39m publisher_model\u001b[39m.\u001b[39m_gca_resource\u001b[39m.\u001b[39mpredict_schemata\u001b[39m.\u001b[39minstance_schema_uri\n",
      "File \u001b[0;32m~/.local/lib/python3.9/site-packages/vertexai/_model_garden/_model_garden_models.py:124\u001b[0m, in \u001b[0;36m_get_model_info\u001b[0;34m(model_id, schema_to_class_map, interface_class, publisher_model_res, tuned_vertex_model)\u001b[0m\n\u001b[1;32m    120\u001b[0m     model_id \u001b[39m=\u001b[39m \u001b[39m\"\u001b[39m\u001b[39mpublishers/google/models/\u001b[39m\u001b[39m\"\u001b[39m \u001b[39m+\u001b[39m model_id\n\u001b[1;32m    122\u001b[0m \u001b[39mif\u001b[39;00m \u001b[39mnot\u001b[39;00m publisher_model_res:\n\u001b[1;32m    123\u001b[0m     publisher_model_res \u001b[39m=\u001b[39m (\n\u001b[0;32m--> 124\u001b[0m         _publisher_models\u001b[39m.\u001b[39;49m_PublisherModel(  \u001b[39m# pylint: disable=protected-access\u001b[39;49;00m\n\u001b[1;32m    125\u001b[0m             resource_name\u001b[39m=\u001b[39;49mmodel_id\n\u001b[1;32m    126\u001b[0m         )\u001b[39m.\u001b[39m_gca_resource\n\u001b[1;32m    127\u001b[0m     )\n\u001b[1;32m    129\u001b[0m \u001b[39mif\u001b[39;00m \u001b[39mnot\u001b[39;00m publisher_model_res\u001b[39m.\u001b[39mname\u001b[39m.\u001b[39mstartswith(\u001b[39m\"\u001b[39m\u001b[39mpublishers/google/models/\u001b[39m\u001b[39m\"\u001b[39m):\n\u001b[1;32m    130\u001b[0m     \u001b[39mraise\u001b[39;00m \u001b[39mValueError\u001b[39;00m(\n\u001b[1;32m    131\u001b[0m         \u001b[39mf\u001b[39m\u001b[39m\"\u001b[39m\u001b[39mOnly Google models are currently supported. \u001b[39m\u001b[39m{\u001b[39;00mpublisher_model_res\u001b[39m.\u001b[39mname\u001b[39m}\u001b[39;00m\u001b[39m\"\u001b[39m\n\u001b[1;32m    132\u001b[0m     )\n",
      "File \u001b[0;32m~/.local/lib/python3.9/site-packages/google/cloud/aiplatform/_publisher_models.py:77\u001b[0m, in \u001b[0;36m_PublisherModel.__init__\u001b[0;34m(self, resource_name, project, location, credentials)\u001b[0m\n\u001b[1;32m     71\u001b[0m     \u001b[39melse\u001b[39;00m:\n\u001b[1;32m     72\u001b[0m         \u001b[39mraise\u001b[39;00m \u001b[39mValueError\u001b[39;00m(\n\u001b[1;32m     73\u001b[0m             \u001b[39mf\u001b[39m\u001b[39m\"\u001b[39m\u001b[39m`\u001b[39m\u001b[39m{\u001b[39;00mresource_name\u001b[39m}\u001b[39;00m\u001b[39m` is not a valid PublisherModel resource \u001b[39m\u001b[39m\"\u001b[39m\n\u001b[1;32m     74\u001b[0m             \u001b[39m\"\u001b[39m\u001b[39mname or model garden id.\u001b[39m\u001b[39m\"\u001b[39m\n\u001b[1;32m     75\u001b[0m         )\n\u001b[0;32m---> 77\u001b[0m \u001b[39mself\u001b[39m\u001b[39m.\u001b[39m_gca_resource \u001b[39m=\u001b[39m \u001b[39mgetattr\u001b[39;49m(\u001b[39mself\u001b[39;49m\u001b[39m.\u001b[39;49mapi_client, \u001b[39mself\u001b[39;49m\u001b[39m.\u001b[39;49m_getter_method)(\n\u001b[1;32m     78\u001b[0m     name\u001b[39m=\u001b[39;49mfull_resource_name, retry\u001b[39m=\u001b[39;49mbase\u001b[39m.\u001b[39;49m_DEFAULT_RETRY\n\u001b[1;32m     79\u001b[0m )\n",
      "File \u001b[0;32m~/.local/lib/python3.9/site-packages/google/cloud/aiplatform_v1/services/model_garden_service/client.py:766\u001b[0m, in \u001b[0;36mModelGardenServiceClient.get_publisher_model\u001b[0;34m(self, request, name, retry, timeout, metadata)\u001b[0m\n\u001b[1;32m    763\u001b[0m \u001b[39mself\u001b[39m\u001b[39m.\u001b[39m_validate_universe_domain()\n\u001b[1;32m    765\u001b[0m \u001b[39m# Send the request.\u001b[39;00m\n\u001b[0;32m--> 766\u001b[0m response \u001b[39m=\u001b[39m rpc(\n\u001b[1;32m    767\u001b[0m     request,\n\u001b[1;32m    768\u001b[0m     retry\u001b[39m=\u001b[39;49mretry,\n\u001b[1;32m    769\u001b[0m     timeout\u001b[39m=\u001b[39;49mtimeout,\n\u001b[1;32m    770\u001b[0m     metadata\u001b[39m=\u001b[39;49mmetadata,\n\u001b[1;32m    771\u001b[0m )\n\u001b[1;32m    773\u001b[0m \u001b[39m# Done; return the response.\u001b[39;00m\n\u001b[1;32m    774\u001b[0m \u001b[39mreturn\u001b[39;00m response\n",
      "File \u001b[0;32m/usr/local/lib/python3.9/dist-packages/google/api_core/gapic_v1/method.py:131\u001b[0m, in \u001b[0;36m_GapicCallable.__call__\u001b[0;34m(self, timeout, retry, compression, *args, **kwargs)\u001b[0m\n\u001b[1;32m    128\u001b[0m \u001b[39mif\u001b[39;00m \u001b[39mself\u001b[39m\u001b[39m.\u001b[39m_compression \u001b[39mis\u001b[39;00m \u001b[39mnot\u001b[39;00m \u001b[39mNone\u001b[39;00m:\n\u001b[1;32m    129\u001b[0m     kwargs[\u001b[39m\"\u001b[39m\u001b[39mcompression\u001b[39m\u001b[39m\"\u001b[39m] \u001b[39m=\u001b[39m compression\n\u001b[0;32m--> 131\u001b[0m \u001b[39mreturn\u001b[39;00m wrapped_func(\u001b[39m*\u001b[39;49margs, \u001b[39m*\u001b[39;49m\u001b[39m*\u001b[39;49mkwargs)\n",
      "File \u001b[0;32m/usr/local/lib/python3.9/dist-packages/google/api_core/retry/retry_unary.py:293\u001b[0m, in \u001b[0;36mRetry.__call__.<locals>.retry_wrapped_func\u001b[0;34m(*args, **kwargs)\u001b[0m\n\u001b[1;32m    289\u001b[0m target \u001b[39m=\u001b[39m functools\u001b[39m.\u001b[39mpartial(func, \u001b[39m*\u001b[39margs, \u001b[39m*\u001b[39m\u001b[39m*\u001b[39mkwargs)\n\u001b[1;32m    290\u001b[0m sleep_generator \u001b[39m=\u001b[39m exponential_sleep_generator(\n\u001b[1;32m    291\u001b[0m     \u001b[39mself\u001b[39m\u001b[39m.\u001b[39m_initial, \u001b[39mself\u001b[39m\u001b[39m.\u001b[39m_maximum, multiplier\u001b[39m=\u001b[39m\u001b[39mself\u001b[39m\u001b[39m.\u001b[39m_multiplier\n\u001b[1;32m    292\u001b[0m )\n\u001b[0;32m--> 293\u001b[0m \u001b[39mreturn\u001b[39;00m retry_target(\n\u001b[1;32m    294\u001b[0m     target,\n\u001b[1;32m    295\u001b[0m     \u001b[39mself\u001b[39;49m\u001b[39m.\u001b[39;49m_predicate,\n\u001b[1;32m    296\u001b[0m     sleep_generator,\n\u001b[1;32m    297\u001b[0m     timeout\u001b[39m=\u001b[39;49m\u001b[39mself\u001b[39;49m\u001b[39m.\u001b[39;49m_timeout,\n\u001b[1;32m    298\u001b[0m     on_error\u001b[39m=\u001b[39;49mon_error,\n\u001b[1;32m    299\u001b[0m )\n",
      "File \u001b[0;32m/usr/local/lib/python3.9/dist-packages/google/api_core/retry/retry_unary.py:153\u001b[0m, in \u001b[0;36mretry_target\u001b[0;34m(target, predicate, sleep_generator, timeout, on_error, exception_factory, **kwargs)\u001b[0m\n\u001b[1;32m    149\u001b[0m \u001b[39m# pylint: disable=broad-except\u001b[39;00m\n\u001b[1;32m    150\u001b[0m \u001b[39m# This function explicitly must deal with broad exceptions.\u001b[39;00m\n\u001b[1;32m    151\u001b[0m \u001b[39mexcept\u001b[39;00m \u001b[39mException\u001b[39;00m \u001b[39mas\u001b[39;00m exc:\n\u001b[1;32m    152\u001b[0m     \u001b[39m# defer to shared logic for handling errors\u001b[39;00m\n\u001b[0;32m--> 153\u001b[0m     _retry_error_helper(\n\u001b[1;32m    154\u001b[0m         exc,\n\u001b[1;32m    155\u001b[0m         deadline,\n\u001b[1;32m    156\u001b[0m         sleep,\n\u001b[1;32m    157\u001b[0m         error_list,\n\u001b[1;32m    158\u001b[0m         predicate,\n\u001b[1;32m    159\u001b[0m         on_error,\n\u001b[1;32m    160\u001b[0m         exception_factory,\n\u001b[1;32m    161\u001b[0m         timeout,\n\u001b[1;32m    162\u001b[0m     )\n\u001b[1;32m    163\u001b[0m     \u001b[39m# if exception not raised, sleep before next attempt\u001b[39;00m\n\u001b[1;32m    164\u001b[0m     time\u001b[39m.\u001b[39msleep(sleep)\n",
      "File \u001b[0;32m/usr/local/lib/python3.9/dist-packages/google/api_core/retry/retry_base.py:212\u001b[0m, in \u001b[0;36m_retry_error_helper\u001b[0;34m(exc, deadline, next_sleep, error_list, predicate_fn, on_error_fn, exc_factory_fn, original_timeout)\u001b[0m\n\u001b[1;32m    206\u001b[0m \u001b[39mif\u001b[39;00m \u001b[39mnot\u001b[39;00m predicate_fn(exc):\n\u001b[1;32m    207\u001b[0m     final_exc, source_exc \u001b[39m=\u001b[39m exc_factory_fn(\n\u001b[1;32m    208\u001b[0m         error_list,\n\u001b[1;32m    209\u001b[0m         RetryFailureReason\u001b[39m.\u001b[39mNON_RETRYABLE_ERROR,\n\u001b[1;32m    210\u001b[0m         original_timeout,\n\u001b[1;32m    211\u001b[0m     )\n\u001b[0;32m--> 212\u001b[0m     \u001b[39mraise\u001b[39;00m final_exc \u001b[39mfrom\u001b[39;00m \u001b[39msource_exc\u001b[39;00m\n\u001b[1;32m    213\u001b[0m \u001b[39mif\u001b[39;00m on_error_fn \u001b[39mis\u001b[39;00m \u001b[39mnot\u001b[39;00m \u001b[39mNone\u001b[39;00m:\n\u001b[1;32m    214\u001b[0m     on_error_fn(exc)\n",
      "File \u001b[0;32m/usr/local/lib/python3.9/dist-packages/google/api_core/retry/retry_unary.py:144\u001b[0m, in \u001b[0;36mretry_target\u001b[0;34m(target, predicate, sleep_generator, timeout, on_error, exception_factory, **kwargs)\u001b[0m\n\u001b[1;32m    142\u001b[0m \u001b[39mfor\u001b[39;00m sleep \u001b[39min\u001b[39;00m sleep_generator:\n\u001b[1;32m    143\u001b[0m     \u001b[39mtry\u001b[39;00m:\n\u001b[0;32m--> 144\u001b[0m         result \u001b[39m=\u001b[39m target()\n\u001b[1;32m    145\u001b[0m         \u001b[39mif\u001b[39;00m inspect\u001b[39m.\u001b[39misawaitable(result):\n\u001b[1;32m    146\u001b[0m             warnings\u001b[39m.\u001b[39mwarn(_ASYNC_RETRY_WARNING)\n",
      "File \u001b[0;32m/usr/local/lib/python3.9/dist-packages/google/api_core/grpc_helpers.py:78\u001b[0m, in \u001b[0;36m_wrap_unary_errors.<locals>.error_remapped_callable\u001b[0;34m(*args, **kwargs)\u001b[0m\n\u001b[1;32m     76\u001b[0m     \u001b[39mreturn\u001b[39;00m callable_(\u001b[39m*\u001b[39margs, \u001b[39m*\u001b[39m\u001b[39m*\u001b[39mkwargs)\n\u001b[1;32m     77\u001b[0m \u001b[39mexcept\u001b[39;00m grpc\u001b[39m.\u001b[39mRpcError \u001b[39mas\u001b[39;00m exc:\n\u001b[0;32m---> 78\u001b[0m     \u001b[39mraise\u001b[39;00m exceptions\u001b[39m.\u001b[39mfrom_grpc_error(exc) \u001b[39mfrom\u001b[39;00m \u001b[39mexc\u001b[39;00m\n",
      "\u001b[0;31mPermissionDenied\u001b[0m: 403 Your application is authenticating by using local Application Default Credentials. The aiplatform.googleapis.com API requires a quota project, which is not set by default. To learn how to set your quota project, see https://cloud.google.com/docs/authentication/adc-troubleshooting/user-creds . [reason: \"SERVICE_DISABLED\"\ndomain: \"googleapis.com\"\nmetadata {\n  key: \"service\"\n  value: \"aiplatform.googleapis.com\"\n}\nmetadata {\n  key: \"consumer\"\n  value: \"projects/618104708054\"\n}\n]"
     ]
    }
   ],
   "source": [
    "from controller import Controller\n",
    "\n",
    "controller = Controller()\n",
    "\n",
    "question = \"피보험자가 북한산을 오르다가 낙사했습니다. 이 경우 보험금을 지급해야 할까요? 자세하게 설명해 주세요.\"\n",
    "detailed = True\n",
    "\n",
    "question_list, contexts_list, final_contexts, final_outcome, elapsed_time = controller.process(question, detailed)\n",
    "\n",
    "print(f\"question_list {question_list}\")\n",
    "print(f\"contexts_list {contexts_list}\")\n",
    "print(f\"final_contexts {final_contexts}\")\n",
    "print(f\"final_outcome {final_outcome}\")\n",
    "print(f\"elapsed_time {elapsed_time}\")\n"
   ]
  },
  {
   "cell_type": "markdown",
   "metadata": {},
   "source": [
    "### Simplified information from search"
   ]
  },
  {
   "cell_type": "code",
   "execution_count": null,
   "metadata": {},
   "outputs": [
    {
     "name": "stdout",
     "output_type": "stream",
     "text": [
      "[Controller][__init__] Controller.gemini_pro langchain : \u001b[1mVertexAI\u001b[0m\n",
      "Params: {'model_name': 'gemini-pro', 'temperature': 0.2, 'candidate_count': 1, 'top_k': 40, 'top_p': 1.0}\n",
      "[Controller][__init__] Controller.gemini_pro native : <vertexai.preview.generative_models.GenerativeModel object at 0x7b0e11495220>\n",
      "[Controller][__init__] Controller.bison : <vertexai.language_models.TextGenerationModel object at 0x7b0e114f4d90>\n",
      "[Controller][__init__] Initialize Controller done!\n",
      "[Controller][question_verifier] Generated Question List : ['피보험자가 북한산에서 낙사한 경우 보험금 지급 여부는?', '북한산 낙사 사고에 대한 보험금 지급 조건은 무엇인가?']\n",
      "[Controller][retrieve_vertex_ai_search] Response len : 10099\n",
      "[Controller][searched_ctx_dic] serched_documents len : 1\n",
      "[Controller][ai_search] AI Search Done! 1\n",
      "[Controller][retrieve_vertex_ai_search] Response len : 11779\n",
      "[Controller][searched_ctx_dic] serched_documents len : 1\n",
      "[Controller][ai_search] AI Search Done! 1\n",
      "[Controller][context_verifier] Question : 피보험자가 북한산에서 낙사한 경우 보험금 지급 여부는?, Verification Result : Yes\n",
      "[Controller][context_verifier] Question : 피보험자가 북한산에서 낙사한 경우 보험금 지급 여부는?, Verification Result : No\n",
      "[Controller][context_verifier] Question : 북한산 낙사 사고에 대한 보험금 지급 조건은 무엇인가?, Verification Result : Yes\n",
      "[Controller][context_verifier] Question : 북한산 낙사 사고에 대한 보험금 지급 조건은 무엇인가?, Verification Result : Yes\n",
      "[Controller][context_verifier] Question : 북한산 낙사 사고에 대한 보험금 지급 조건은 무엇인가?, Verification Result : Yes\n",
      "[Controller][context_verifier] Question : 피보험자가 북한산에서 낙사한 경우 보험금 지급 여부는?, Verification Result : Yes\n",
      "[Controller][call_bision] Final response Len 148\n",
      "[Controller][process] Final_outcome : **결론:** 피보험자가 북한산을 오르다가 낙사한 경우, 보험금 지급 여부는 피보험자의 의사결정 능력에 따라 달라집니다.\n",
      "\n",
      "**이유:**\n",
      "\n",
      "보험 약관에 따르면, 피보험자가 고의로 자신을 해친 경우 보험금이 지급되지 않습니다. 그러나 피보험자가 심신상실 등으로 자유로운 의사결정을 할 수 없는 상태에서 자신을 해친 경우에는 보험금이 지급됩니다.\n",
      "\n",
      "북한산 등산은 전문적인 등산용구를 사용하지 않고도 오를 수 있는 일반적인 등산로입니다. 따라서 피보험자가 북한산을 오르다가 낙사한 경우, 일반적으로는 피보험자가 고의로 자신을 해친 것으로 간주되지 않습니다.\n",
      "\n",
      "하지만 피보험자가 등산 당시 심신상실 상태에 있었다면, 자유로운 의사결정을 할 수 없었을 가능성이 있습니다. 이 경우 보험금 지급 여부는 피보험자의 정신 상태에 대한 조사를 통해 결정됩니다.\n",
      "\n",
      "보험사는 피보험자의 의료 기록, 목격자 진술서, 경찰 조사 결과 등을 검토하여 피보험자가 심신상실 상태에 있었는지 여부를 판단합니다. 피보험자가 심신상실 상태에 있었다고 판단되면 보험금이 지급됩니다.\n",
      "[Controller][process] Elapsed time : Total elapsed time : 17.314823627471924 : question_verifier[1.384498119354248], ai_search 0.35366082191467285], context_verifier [1.5513434410095215], final_request [14.025321245193481] \n"
     ]
    }
   ],
   "source": [
    "\n",
    "#question = \"전결에 대해서 설명해주고, 결재칸은 최대 몇개까지 가능한가요 ?\"\n",
    "question = \"천식이 있던 피보험자는 지난번 화재 사고로 사망하였습니다. 이때 사망보험금을 지급해야 할까요?\"\n",
    "question = \"사고로 인해 시력이 안전수지 상태인 고객의 장해지급률은 몇 퍼센트입니까?\"\n",
    "#question = \"메일함 관리에 대해서 설명해주세요.\"\n",
    "question = \"피보험자가 북한산을  등반하다가 낙사했습니다. 보험금을 지급해야 할까요?\"\n",
    "question = \"항암방사선/약물 치료비 담보에 관한 특별약관들은 무엇무엇이 있습니까? \"\n",
    "question = \"폭행으로 인해 피보험자의 치아가 8개가 결손되었습니다. 이때 장해는 어떻게 분류되며, 장해지급률은 몇 퍼센트 입니까?\"\n",
    "question = \"천식이 있던 피보험자는 지난번 화재 사고로 사망하였습니다. 이때 사망보험금을 지급해야 할까요?\"\n",
    "question = \"전화 계약의 경우 청약서에 들어갈 자필서명을 생략할 수 있을까요? 다만 계약자와 보험수익자는 애인관계 입니다.\"\n",
    "question = \"피보험자가 배달 아르바이트를 이유로 오토바이를 계속적으로 사용하게 된 경우 피보험자는 이를 알릴 의무가 있습니까?\"\n",
    "question = \"피보험자가 북한산을 오르다가 낙사했습니다. 이 경우 보험금을 지급해야 할까요? 자세하게 설명해 주세요.\"\n",
    "\n",
    "detailed = False\n",
    "\n",
    "controller = Controller()\n",
    "outcome = controller.process( question, detailed )\n",
    "\n",
    "#print(f\"final outcome : {outcome}\")"
   ]
  },
  {
   "cell_type": "code",
   "execution_count": null,
   "metadata": {},
   "outputs": [
    {
     "name": "stdout",
     "output_type": "stream",
     "text": [
      "[Controller][__init__] Controller.gemini_pro langchain : \u001b[1mVertexAI\u001b[0m\n",
      "Params: {'model_name': 'gemini-pro', 'temperature': 0.2, 'candidate_count': 1, 'top_k': 40, 'top_p': 1.0}\n",
      "[Controller][__init__] Controller.gemini_pro native : <vertexai.preview.generative_models.GenerativeModel object at 0x7b0e115894f0>\n",
      "[Controller][__init__] Controller.bison : <vertexai.language_models.TextGenerationModel object at 0x7b0e11a3ae80>\n",
      "[Controller][__init__] Initialize Controller done!\n",
      "[Controller][retrieve_vertex_ai_search] Response len : 8552\n",
      "[Controller][searched_ctx_dic] serched_documents len : 1\n",
      "[Controller][ai_search] AI Search Done! 1\n",
      "[Controller][context_verifier] Question : 피보험자가 북한산을 오르다가 낙사했습니다. 이 경우 보험금을 지급해야 할까요? 자세하게 설명해 주세요., Verification Result : Yes\n",
      "[Controller][context_verifier] Question : 피보험자가 북한산을 오르다가 낙사했습니다. 이 경우 보험금을 지급해야 할까요? 자세하게 설명해 주세요., Verification Result : Yes\n",
      "[Controller][context_verifier] Question : 피보험자가 북한산을 오르다가 낙사했습니다. 이 경우 보험금을 지급해야 할까요? 자세하게 설명해 주세요., Verification Result : Yes\n",
      "[Controller][call_bision] Final response Len 119\n",
      "[Controller][process] Final_outcome : **결론:** 피보험자가 북한산을 오르다가 낙사한 경우 보험금을 지급해야 합니다.\n",
      "\n",
      "**이유:**\n",
      "\n",
      "* **보장 개시:** 보험료를 납입한 후 보장이 개시됩니다.\n",
      "* **보장 범위:** 보험 약관에 북한산 등산이 제외되어 있지 않습니다.\n",
      "* **대위권:** 보험사는 보험금을 지급한 후 피보험자의 손해배상 청구권을 대위 취득합니다.\n",
      "[Controller][process] Elapsed time : Total elapsed time : 7.721987962722778 : ai_search[0.34607720375061035], context_verifier 2.501495361328125], final_request [4.874415397644043]\n"
     ]
    }
   ],
   "source": [
    "question = \"피보험자가 북한산을 오르다가 낙사했습니다. 이 경우 보험금을 지급해야 할까요? 자세하게 설명해 주세요.\"\n",
    "\n",
    "detailed = False\n",
    "\n",
    "controller = Controller()\n",
    "outcome = controller.process_single( question, detailed )"
   ]
  }
 ],
 "metadata": {
  "kernelspec": {
   "display_name": "CloudRun_Search-3qrz3MGx",
   "language": "python",
   "name": "python3"
  },
  "language_info": {
   "codemirror_mode": {
    "name": "ipython",
    "version": 3
   },
   "file_extension": ".py",
   "mimetype": "text/x-python",
   "name": "python",
   "nbconvert_exporter": "python",
   "pygments_lexer": "ipython3",
   "version": "3.9.2"
  }
 },
 "nbformat": 4,
 "nbformat_minor": 2
}
